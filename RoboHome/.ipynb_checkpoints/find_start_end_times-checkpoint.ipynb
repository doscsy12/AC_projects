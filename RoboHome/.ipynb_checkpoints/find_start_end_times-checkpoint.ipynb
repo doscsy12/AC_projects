{
 "cells": [
  {
   "cell_type": "markdown",
   "id": "db0223d6",
   "metadata": {},
   "source": [
    "### Find start/end times of SessionID from GSM"
   ]
  },
  {
   "cell_type": "markdown",
   "id": "5675aa4d",
   "metadata": {},
   "source": [
    "*import libraries*"
   ]
  },
  {
   "cell_type": "code",
   "execution_count": 1,
   "id": "fd942d74",
   "metadata": {},
   "outputs": [],
   "source": [
    "import os\n",
    "import sys\n",
    "import sqlite3 as sl\n",
    "\n",
    "import pandas as pd\n",
    "import numpy as np\n",
    "from datetime import datetime\n",
    "import seaborn as sns\n",
    "import matplotlib.pyplot as plt\n",
    "import matplotlib.ticker as mticker\n",
    "%matplotlib inline\n"
   ]
  },
  {
   "cell_type": "code",
   "execution_count": 2,
   "id": "dc67c3c4",
   "metadata": {},
   "outputs": [],
   "source": [
    "pd.options.display.max_rows = 100"
   ]
  },
  {
   "cell_type": "code",
   "execution_count": 3,
   "id": "2dda63c2",
   "metadata": {},
   "outputs": [],
   "source": [
    "start_codes=datetime.now()"
   ]
  },
  {
   "cell_type": "markdown",
   "id": "698570ab",
   "metadata": {},
   "source": [
    "**import df from previously saved query**"
   ]
  },
  {
   "cell_type": "code",
   "execution_count": 4,
   "id": "7ebfba24",
   "metadata": {},
   "outputs": [],
   "source": [
    "## read .dat file if df is saved\n",
    "df = pd.read_csv('./data/sql_result_onlyP006.txt')\n",
    "df_targets = pd.read_csv('./data/P006_targets.csv')"
   ]
  },
  {
   "cell_type": "markdown",
   "id": "185621dc",
   "metadata": {},
   "source": [
    "**patient dictionary**"
   ]
  },
  {
   "cell_type": "code",
   "execution_count": 5,
   "id": "cbaa86c4",
   "metadata": {},
   "outputs": [],
   "source": [
    "user_id_dict = {\n",
    "    'T1-CH1/saafahre':'001', \n",
    "    'T1-CH1/asdagasdfd':'002',\n",
    "    'T1-CH1/assadagewae':'003', \n",
    "}; \n"
   ]
  },
  {
   "cell_type": "code",
   "execution_count": 6,
   "id": "8737e738",
   "metadata": {},
   "outputs": [],
   "source": [
    "# replace PatientID with username\n",
    "df.replace({'PatientID':user_id_dict},inplace=True)\n",
    "df_targets.replace({'PatientID':user_id_dict},inplace=True)"
   ]
  },
  {
   "cell_type": "code",
   "execution_count": 1,
   "id": "22827b73",
   "metadata": {},
   "outputs": [],
   "source": [
    "df.head()"
   ]
  },
  {
   "cell_type": "code",
   "execution_count": 2,
   "id": "375c705e",
   "metadata": {},
   "outputs": [],
   "source": [
    "df_targets.head()"
   ]
  },
  {
   "cell_type": "code",
   "execution_count": 9,
   "id": "939c6d4c",
   "metadata": {},
   "outputs": [
    {
     "data": {
      "text/plain": [
       "34"
      ]
     },
     "execution_count": 9,
     "metadata": {},
     "output_type": "execute_result"
    }
   ],
   "source": [
    "# number of sessions from GSM \n",
    "len(df_targets)"
   ]
  },
  {
   "cell_type": "code",
   "execution_count": 10,
   "id": "713cadef",
   "metadata": {},
   "outputs": [],
   "source": [
    "# format date\n",
    "df['date_time'] = pd.to_datetime(df['TimeStampDate'], format='%Y-%m-%d %H:%M:%S')\n",
    "df_targets['date_time'] = pd.to_datetime(df_targets['CreatedDate'], format='%Y-%m-%d %H:%M:%S')\n"
   ]
  },
  {
   "cell_type": "code",
   "execution_count": 11,
   "id": "2f2a1363",
   "metadata": {},
   "outputs": [],
   "source": [
    "# remove SessionID when null\n",
    "df = df[df['SessionID'].notna()]\n",
    "df_targets = df_targets[df_targets['SessionID'].notna()]"
   ]
  },
  {
   "cell_type": "code",
   "execution_count": 12,
   "id": "ab1d61bd",
   "metadata": {},
   "outputs": [],
   "source": [
    "# make copy\n",
    "df1 = df.reset_index()"
   ]
  },
  {
   "cell_type": "code",
   "execution_count": 13,
   "id": "1084eef4",
   "metadata": {},
   "outputs": [],
   "source": [
    "list_sessions = df1[df1['SessionID'].notna()]['SessionID'].unique()"
   ]
  },
  {
   "cell_type": "code",
   "execution_count": 14,
   "id": "2c421cbf",
   "metadata": {},
   "outputs": [
    {
     "data": {
      "text/plain": [
       "33"
      ]
     },
     "execution_count": 14,
     "metadata": {},
     "output_type": "execute_result"
    }
   ],
   "source": [
    "# number of sessions in df (from TFDM)\n",
    "len(list_sessions)"
   ]
  },
  {
   "cell_type": "code",
   "execution_count": 15,
   "id": "4d7d292e",
   "metadata": {},
   "outputs": [],
   "source": [
    "# extract start/end times of each session, after removal of last row\n",
    "session_nr = []\n",
    "start_time = []\n",
    "end_time = []\n",
    "for session in list_sessions:\n",
    "    session_temp = df1[df1['SessionID']==session]\n",
    "    \n",
    "    # drop all last index, to make life easier\n",
    "    last_index=session_temp['index'].iloc[-1]\n",
    "    df1.drop(df1[(df1['index'] == last_index)].index,axis=0,inplace=True)\n",
    "    \n",
    "    session_nr.append(session)\n",
    "    start_time.append(session_temp['date_time'].iloc[0])\n",
    "    end_time.append(session_temp['date_time'].iloc[-1])"
   ]
  },
  {
   "cell_type": "code",
   "execution_count": 16,
   "id": "94afc4f0",
   "metadata": {},
   "outputs": [],
   "source": [
    "# put in df\n",
    "time_session = []\n",
    "for row in range(0,len(session_nr)):\n",
    "    time_session.append(row)\n",
    "time_session = pd.DataFrame(time_session,columns=['session_nr'])   \n",
    "time_session['SessionID'] = session_nr\n",
    "time_session['start'] = start_time\n",
    "time_session['end'] = end_time\n"
   ]
  },
  {
   "cell_type": "code",
   "execution_count": 3,
   "id": "a0203f01",
   "metadata": {},
   "outputs": [],
   "source": [
    "time_session"
   ]
  },
  {
   "cell_type": "code",
   "execution_count": 4,
   "id": "11b78d3d",
   "metadata": {},
   "outputs": [],
   "source": [
    "merged_df = pd.merge(df_targets,time_session,on='SessionID',how='outer')\n",
    "merged_df"
   ]
  },
  {
   "cell_type": "code",
   "execution_count": 19,
   "id": "4decbba6",
   "metadata": {},
   "outputs": [],
   "source": [
    "# save df to csv\n",
    "PatientID = df1['PatientID'].unique()[0]\n",
    "merged_df.to_csv('./data/P' + PatientID + '_session_time.csv')"
   ]
  },
  {
   "cell_type": "code",
   "execution_count": 20,
   "id": "b815c8e5",
   "metadata": {},
   "outputs": [
    {
     "name": "stdout",
     "output_type": "stream",
     "text": [
      "total run time = 0:01:58.334207\n"
     ]
    }
   ],
   "source": [
    "print(f'total run time = {datetime.now()-start_codes}')"
   ]
  }
 ],
 "metadata": {
  "kernelspec": {
   "display_name": "Python 3 (ipykernel)",
   "language": "python",
   "name": "python3"
  },
  "language_info": {
   "codemirror_mode": {
    "name": "ipython",
    "version": 3
   },
   "file_extension": ".py",
   "mimetype": "text/x-python",
   "name": "python",
   "nbconvert_exporter": "python",
   "pygments_lexer": "ipython3",
   "version": "3.8.8"
  },
  "toc": {
   "base_numbering": 1,
   "nav_menu": {},
   "number_sections": true,
   "sideBar": true,
   "skip_h1_title": false,
   "title_cell": "Table of Contents",
   "title_sidebar": "Contents",
   "toc_cell": false,
   "toc_position": {},
   "toc_section_display": true,
   "toc_window_display": false
  }
 },
 "nbformat": 4,
 "nbformat_minor": 5
}
