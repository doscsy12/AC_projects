{
 "cells": [
  {
   "cell_type": "markdown",
   "id": "53a8f9be",
   "metadata": {},
   "source": [
    "### Find original sessions of SessionID from TFDM"
   ]
  },
  {
   "cell_type": "markdown",
   "id": "ad20e67a",
   "metadata": {},
   "source": [
    "*import libraries*"
   ]
  },
  {
   "cell_type": "code",
   "execution_count": 1,
   "id": "0065fb3f",
   "metadata": {},
   "outputs": [],
   "source": [
    "import os\n",
    "import sys\n",
    "import glob\n",
    "import sqlite3 as sl\n",
    "\n",
    "import pandas as pd\n",
    "import numpy as np\n",
    "from datetime import datetime\n",
    "import seaborn as sns\n",
    "import matplotlib.pyplot as plt\n",
    "import matplotlib.ticker as mticker\n",
    "%matplotlib inline\n",
    "\n",
    "import chime\n",
    "%load_ext chime"
   ]
  },
  {
   "cell_type": "code",
   "execution_count": 2,
   "id": "e05ba245",
   "metadata": {},
   "outputs": [],
   "source": [
    "pd.options.display.max_rows = 100"
   ]
  },
  {
   "cell_type": "code",
   "execution_count": 3,
   "id": "e3b598d3",
   "metadata": {},
   "outputs": [],
   "source": [
    "start_codes=datetime.now()"
   ]
  },
  {
   "cell_type": "markdown",
   "id": "37bd82dd",
   "metadata": {},
   "source": [
    "**import df from previously saved query**"
   ]
  },
  {
   "cell_type": "code",
   "execution_count": 4,
   "id": "8965ac51",
   "metadata": {},
   "outputs": [],
   "source": [
    "## read .dat file if df is saved\n",
    "df = pd.read_csv('./data/sql_result_onlyP002.txt')"
   ]
  },
  {
   "cell_type": "markdown",
   "id": "71d70d0c",
   "metadata": {},
   "source": [
    "**patient dictionary**"
   ]
  },
  {
   "cell_type": "code",
   "execution_count": 5,
   "id": "8f083d45",
   "metadata": {},
   "outputs": [],
   "source": [
    "user_id_dict = {\n",
    "    'T1-CH1/saafahre':'001', \n",
    "    'T1-CH1/asdagasdfd':'002',\n",
    "    'T1-CH1/assadagewae':'003', \n",
    "}; "
   ]
  },
  {
   "cell_type": "code",
   "execution_count": 6,
   "id": "e70f7ce6",
   "metadata": {},
   "outputs": [],
   "source": [
    "# replace PatientID with username\n",
    "df.replace({'PatientID':user_id_dict},inplace=True)"
   ]
  },
  {
   "cell_type": "code",
   "execution_count": 1,
   "id": "f7d8573e",
   "metadata": {},
   "outputs": [],
   "source": [
    "df.head()"
   ]
  },
  {
   "cell_type": "code",
   "execution_count": 8,
   "id": "4fe19eb8",
   "metadata": {},
   "outputs": [],
   "source": [
    "# format date\n",
    "df['date_time'] = pd.to_datetime(df['TimeStampDate'], format='%Y-%m-%d %H:%M:%S')\n",
    "\n",
    "# remove SessionID when null\n",
    "df = df[df['SessionID'].notna()]"
   ]
  },
  {
   "cell_type": "code",
   "execution_count": 9,
   "id": "3a187de1",
   "metadata": {},
   "outputs": [],
   "source": [
    "# make copy\n",
    "df1 = df.reset_index()"
   ]
  },
  {
   "cell_type": "code",
   "execution_count": 10,
   "id": "717d6889",
   "metadata": {},
   "outputs": [],
   "source": [
    "list_sessions = df1[df1['SessionID'].notna()]['SessionID'].unique()"
   ]
  },
  {
   "cell_type": "code",
   "execution_count": 11,
   "id": "d6611186",
   "metadata": {},
   "outputs": [
    {
     "data": {
      "text/plain": [
       "66"
      ]
     },
     "execution_count": 11,
     "metadata": {},
     "output_type": "execute_result"
    }
   ],
   "source": [
    "# number of sessions in df (from TFDM)\n",
    "len(list_sessions)"
   ]
  },
  {
   "cell_type": "code",
   "execution_count": 12,
   "id": "970af452",
   "metadata": {},
   "outputs": [],
   "source": [
    "# extract start/end times of each session, after removal of last row\n",
    "session_nr = []\n",
    "start_time = []\n",
    "end_time = []\n",
    "for session in list_sessions:\n",
    "    session_temp = df1[df1['SessionID']==session]\n",
    "    \n",
    "#     # drop all last index, to make life easier\n",
    "#     last_index=session_temp['index'].iloc[-1]\n",
    "#     df1.drop(df1[(df1['index'] == last_index)].index,axis=0,inplace=True)\n",
    "    \n",
    "    session_nr.append(session)\n",
    "    start_time.append(session_temp['date_time'].iloc[0])\n",
    "    # error in mislabelling of last data point in session\n",
    "    # take last second timestamp instead\n",
    "    end_time.append(session_temp['date_time'].iloc[-2])"
   ]
  },
  {
   "cell_type": "code",
   "execution_count": 13,
   "id": "90c0ced0",
   "metadata": {},
   "outputs": [],
   "source": [
    "# put in df\n",
    "time_session = []\n",
    "for row in range(0,len(session_nr)):\n",
    "    time_session.append(row)\n",
    "time_session = pd.DataFrame(time_session,columns=['session_nr'])   \n",
    "time_session['SessionID'] = session_nr\n",
    "time_session['start'] = start_time\n",
    "time_session['end'] = end_time\n"
   ]
  },
  {
   "cell_type": "code",
   "execution_count": 2,
   "id": "e1c81943",
   "metadata": {},
   "outputs": [],
   "source": [
    "time_session"
   ]
  },
  {
   "cell_type": "code",
   "execution_count": 15,
   "id": "14eec1b4",
   "metadata": {},
   "outputs": [],
   "source": [
    "# # save df to csv\n",
    "PatientID = df1['PatientID'].unique()[0]\n",
    "time_session.to_csv('./data/P' + PatientID + '_ori_sessions.csv')"
   ]
  },
  {
   "cell_type": "code",
   "execution_count": 16,
   "id": "3c0827ee",
   "metadata": {},
   "outputs": [
    {
     "name": "stdout",
     "output_type": "stream",
     "text": [
      "total run time = 0:04:34.793454\n"
     ]
    }
   ],
   "source": [
    "%chime print(f'total run time = {datetime.now()-start_codes}')"
   ]
  }
 ],
 "metadata": {
  "kernelspec": {
   "display_name": "Python 3 (ipykernel)",
   "language": "python",
   "name": "python3"
  },
  "language_info": {
   "codemirror_mode": {
    "name": "ipython",
    "version": 3
   },
   "file_extension": ".py",
   "mimetype": "text/x-python",
   "name": "python",
   "nbconvert_exporter": "python",
   "pygments_lexer": "ipython3",
   "version": "3.8.8"
  },
  "toc": {
   "base_numbering": 1,
   "nav_menu": {},
   "number_sections": true,
   "sideBar": true,
   "skip_h1_title": false,
   "title_cell": "Table of Contents",
   "title_sidebar": "Contents",
   "toc_cell": false,
   "toc_position": {},
   "toc_section_display": true,
   "toc_window_display": false
  }
 },
 "nbformat": 4,
 "nbformat_minor": 5
}
