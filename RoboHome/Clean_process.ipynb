{
 "cells": [
  {
   "cell_type": "markdown",
   "id": "d0e47c89",
   "metadata": {},
   "source": [
    "### Cleaning database data \n"
   ]
  },
  {
   "cell_type": "markdown",
   "id": "c6a1dbba",
   "metadata": {},
   "source": [
    "*import libraries*"
   ]
  },
  {
   "cell_type": "code",
   "execution_count": 1,
   "id": "07dad02a",
   "metadata": {},
   "outputs": [],
   "source": [
    "import os\n",
    "import sys\n",
    "import sqlite3 as sl\n",
    "\n",
    "import pandas as pd\n",
    "import numpy as np\n",
    "from datetime import datetime\n",
    "import seaborn as sns\n",
    "import matplotlib.pyplot as plt\n",
    "import matplotlib.ticker as mticker\n",
    "%matplotlib inline\n",
    "\n",
    "import math\n",
    "import statistics\n",
    "import scipy.stats\n",
    "\n",
    "from functools import reduce\n",
    "import dataframe_image as dfi\n",
    "from string import ascii_lowercase\n",
    "import itertools\n",
    "import chime\n",
    "%load_ext chime"
   ]
  },
  {
   "cell_type": "code",
   "execution_count": 2,
   "id": "9e801555",
   "metadata": {},
   "outputs": [],
   "source": [
    "import warnings\n",
    "warnings.filterwarnings(\"ignore\")"
   ]
  },
  {
   "cell_type": "code",
   "execution_count": 3,
   "id": "e483beee",
   "metadata": {},
   "outputs": [],
   "source": [
    "pd.options.display.max_rows = 500"
   ]
  },
  {
   "cell_type": "code",
   "execution_count": 4,
   "id": "0c65af97",
   "metadata": {},
   "outputs": [
    {
     "data": {
      "text/plain": [
       "'C:\\\\Users\\\\USER\\\\Documents\\\\Articares\\\\CHISEL'"
      ]
     },
     "execution_count": 4,
     "metadata": {},
     "output_type": "execute_result"
    }
   ],
   "source": [
    "os.getcwd()"
   ]
  },
  {
   "cell_type": "code",
   "execution_count": 5,
   "id": "720123f9",
   "metadata": {},
   "outputs": [],
   "source": [
    "start_codes=datetime.now()"
   ]
  },
  {
   "cell_type": "markdown",
   "id": "d99c974b",
   "metadata": {},
   "source": [
    "**connect/query from database**"
   ]
  },
  {
   "cell_type": "code",
   "execution_count": 6,
   "id": "034c45c4",
   "metadata": {},
   "outputs": [],
   "source": [
    "# con = sl.connect('D:/Articares/CARE_platform/OneDrive_1_4-11-2022/articaresLite_v2_CHISEL_HOME_P001.db')"
   ]
  },
  {
   "cell_type": "code",
   "execution_count": 7,
   "id": "b177ea48",
   "metadata": {},
   "outputs": [],
   "source": [
    "# # query only from P001\n",
    "# df = pd.read_sql(\"SELECT PatientID, SessionID, GameID, TimeStampDate, TimeStampMS, Sparc, VisualTargetXCoord, VisualTargetYCoord, TargetXCoord, TargetYCoord, XCoordinate, YCoordinate, KxGain, KyGain, KxyGain, BxGain, ByGain, BxyGain, ByxGain, VelocityX, VelocityY, CurrentSenseLeft, CurrentSenseRight, TotalForce FROM TargetFeedbackDataModel WHERE PatientID='TTSH-CHISEL0Pa/Gtc3DUqoPVREp+I/qg==' AND TimeStampDate >= '2022-03-11' \",con)"
   ]
  },
  {
   "cell_type": "code",
   "execution_count": 8,
   "id": "1d6773e7",
   "metadata": {},
   "outputs": [],
   "source": [
    "# df.head()"
   ]
  },
  {
   "cell_type": "markdown",
   "id": "b0159e11",
   "metadata": {},
   "source": [
    "*save queried results*"
   ]
  },
  {
   "cell_type": "code",
   "execution_count": 9,
   "id": "91aaf208",
   "metadata": {},
   "outputs": [],
   "source": [
    "# df.to_csv('./data/sql_result_P001.dat')"
   ]
  },
  {
   "cell_type": "markdown",
   "id": "2bc974c5",
   "metadata": {},
   "source": [
    "**import df from previously saved query**"
   ]
  },
  {
   "cell_type": "code",
   "execution_count": 10,
   "id": "fbce9118",
   "metadata": {},
   "outputs": [],
   "source": [
    "## read .dat file if df is saved\n",
    "df = pd.read_csv('./data/sql_result_onlyP001.txt')\n"
   ]
  },
  {
   "cell_type": "code",
   "execution_count": 11,
   "id": "7cf256a0",
   "metadata": {},
   "outputs": [
    {
     "data": {
      "text/html": [
       "<div>\n",
       "<style scoped>\n",
       "    .dataframe tbody tr th:only-of-type {\n",
       "        vertical-align: middle;\n",
       "    }\n",
       "\n",
       "    .dataframe tbody tr th {\n",
       "        vertical-align: top;\n",
       "    }\n",
       "\n",
       "    .dataframe thead th {\n",
       "        text-align: right;\n",
       "    }\n",
       "</style>\n",
       "<table border=\"1\" class=\"dataframe\">\n",
       "  <thead>\n",
       "    <tr style=\"text-align: right;\">\n",
       "      <th></th>\n",
       "      <th>PatientID</th>\n",
       "      <th>SessionID</th>\n",
       "      <th>GameID</th>\n",
       "      <th>TimeStampDate</th>\n",
       "      <th>TimeStampMS</th>\n",
       "      <th>Sparc</th>\n",
       "      <th>VisualTargetXCoord</th>\n",
       "      <th>VisualTargetYCoord</th>\n",
       "      <th>TargetXCoord</th>\n",
       "      <th>TargetYCoord</th>\n",
       "      <th>...</th>\n",
       "      <th>KxyGain</th>\n",
       "      <th>BxGain</th>\n",
       "      <th>ByGain</th>\n",
       "      <th>BxyGain</th>\n",
       "      <th>ByxGain</th>\n",
       "      <th>VelocityX</th>\n",
       "      <th>VelocityY</th>\n",
       "      <th>CurrentSenseLeft</th>\n",
       "      <th>CurrentSenseRight</th>\n",
       "      <th>TotalForce</th>\n",
       "    </tr>\n",
       "  </thead>\n",
       "  <tbody>\n",
       "    <tr>\n",
       "      <th>0</th>\n",
       "      <td>TTSH-CHISEL0Pa/Gtc3DUqoPVREp+I/qg==</td>\n",
       "      <td>TTSH-CHISELgzfi6wyw7ESOvMapDl+xDg==</td>\n",
       "      <td>0</td>\n",
       "      <td>2022-03-11 12:01:27</td>\n",
       "      <td>304021</td>\n",
       "      <td>0.0</td>\n",
       "      <td>171.0</td>\n",
       "      <td>22.0</td>\n",
       "      <td>21.0</td>\n",
       "      <td>32.0</td>\n",
       "      <td>...</td>\n",
       "      <td>0.0</td>\n",
       "      <td>0.0</td>\n",
       "      <td>0.0</td>\n",
       "      <td>0.0</td>\n",
       "      <td>0.0</td>\n",
       "      <td>-0.069115</td>\n",
       "      <td>-1.256943e-03</td>\n",
       "      <td>-0.0176</td>\n",
       "      <td>-0.0016</td>\n",
       "      <td>0.0</td>\n",
       "    </tr>\n",
       "    <tr>\n",
       "      <th>1</th>\n",
       "      <td>TTSH-CHISEL0Pa/Gtc3DUqoPVREp+I/qg==</td>\n",
       "      <td>TTSH-CHISELgzfi6wyw7ESOvMapDl+xDg==</td>\n",
       "      <td>0</td>\n",
       "      <td>2022-03-11 12:01:27</td>\n",
       "      <td>304031</td>\n",
       "      <td>0.0</td>\n",
       "      <td>171.0</td>\n",
       "      <td>22.0</td>\n",
       "      <td>21.0</td>\n",
       "      <td>32.0</td>\n",
       "      <td>...</td>\n",
       "      <td>0.0</td>\n",
       "      <td>0.0</td>\n",
       "      <td>0.0</td>\n",
       "      <td>0.0</td>\n",
       "      <td>0.0</td>\n",
       "      <td>-0.071628</td>\n",
       "      <td>1.256180e-03</td>\n",
       "      <td>-0.0016</td>\n",
       "      <td>-0.0016</td>\n",
       "      <td>0.0</td>\n",
       "    </tr>\n",
       "    <tr>\n",
       "      <th>2</th>\n",
       "      <td>TTSH-CHISEL0Pa/Gtc3DUqoPVREp+I/qg==</td>\n",
       "      <td>TTSH-CHISELgzfi6wyw7ESOvMapDl+xDg==</td>\n",
       "      <td>0</td>\n",
       "      <td>2022-03-11 12:01:27</td>\n",
       "      <td>304041</td>\n",
       "      <td>0.0</td>\n",
       "      <td>171.0</td>\n",
       "      <td>22.0</td>\n",
       "      <td>21.0</td>\n",
       "      <td>32.0</td>\n",
       "      <td>...</td>\n",
       "      <td>0.0</td>\n",
       "      <td>0.0</td>\n",
       "      <td>0.0</td>\n",
       "      <td>0.0</td>\n",
       "      <td>0.0</td>\n",
       "      <td>-0.074141</td>\n",
       "      <td>1.256180e-03</td>\n",
       "      <td>-0.0016</td>\n",
       "      <td>-0.0016</td>\n",
       "      <td>0.0</td>\n",
       "    </tr>\n",
       "    <tr>\n",
       "      <th>3</th>\n",
       "      <td>TTSH-CHISEL0Pa/Gtc3DUqoPVREp+I/qg==</td>\n",
       "      <td>TTSH-CHISELgzfi6wyw7ESOvMapDl+xDg==</td>\n",
       "      <td>0</td>\n",
       "      <td>2022-03-11 12:01:27</td>\n",
       "      <td>304051</td>\n",
       "      <td>0.0</td>\n",
       "      <td>171.0</td>\n",
       "      <td>22.0</td>\n",
       "      <td>21.0</td>\n",
       "      <td>32.0</td>\n",
       "      <td>...</td>\n",
       "      <td>0.0</td>\n",
       "      <td>0.0</td>\n",
       "      <td>0.0</td>\n",
       "      <td>0.0</td>\n",
       "      <td>0.0</td>\n",
       "      <td>-0.077911</td>\n",
       "      <td>7.629395e-07</td>\n",
       "      <td>-0.0016</td>\n",
       "      <td>-0.0016</td>\n",
       "      <td>0.0</td>\n",
       "    </tr>\n",
       "    <tr>\n",
       "      <th>4</th>\n",
       "      <td>TTSH-CHISEL0Pa/Gtc3DUqoPVREp+I/qg==</td>\n",
       "      <td>TTSH-CHISELgzfi6wyw7ESOvMapDl+xDg==</td>\n",
       "      <td>0</td>\n",
       "      <td>2022-03-11 12:01:27</td>\n",
       "      <td>304061</td>\n",
       "      <td>0.0</td>\n",
       "      <td>171.0</td>\n",
       "      <td>22.0</td>\n",
       "      <td>21.0</td>\n",
       "      <td>32.0</td>\n",
       "      <td>...</td>\n",
       "      <td>0.0</td>\n",
       "      <td>0.0</td>\n",
       "      <td>0.0</td>\n",
       "      <td>0.0</td>\n",
       "      <td>0.0</td>\n",
       "      <td>-0.081681</td>\n",
       "      <td>-1.256180e-03</td>\n",
       "      <td>-0.0016</td>\n",
       "      <td>-0.0016</td>\n",
       "      <td>0.0</td>\n",
       "    </tr>\n",
       "  </tbody>\n",
       "</table>\n",
       "<p>5 rows × 24 columns</p>\n",
       "</div>"
      ],
      "text/plain": [
       "                             PatientID                            SessionID  \\\n",
       "0  TTSH-CHISEL0Pa/Gtc3DUqoPVREp+I/qg==  TTSH-CHISELgzfi6wyw7ESOvMapDl+xDg==   \n",
       "1  TTSH-CHISEL0Pa/Gtc3DUqoPVREp+I/qg==  TTSH-CHISELgzfi6wyw7ESOvMapDl+xDg==   \n",
       "2  TTSH-CHISEL0Pa/Gtc3DUqoPVREp+I/qg==  TTSH-CHISELgzfi6wyw7ESOvMapDl+xDg==   \n",
       "3  TTSH-CHISEL0Pa/Gtc3DUqoPVREp+I/qg==  TTSH-CHISELgzfi6wyw7ESOvMapDl+xDg==   \n",
       "4  TTSH-CHISEL0Pa/Gtc3DUqoPVREp+I/qg==  TTSH-CHISELgzfi6wyw7ESOvMapDl+xDg==   \n",
       "\n",
       "   GameID        TimeStampDate  TimeStampMS  Sparc  VisualTargetXCoord  \\\n",
       "0       0  2022-03-11 12:01:27       304021    0.0               171.0   \n",
       "1       0  2022-03-11 12:01:27       304031    0.0               171.0   \n",
       "2       0  2022-03-11 12:01:27       304041    0.0               171.0   \n",
       "3       0  2022-03-11 12:01:27       304051    0.0               171.0   \n",
       "4       0  2022-03-11 12:01:27       304061    0.0               171.0   \n",
       "\n",
       "   VisualTargetYCoord  TargetXCoord  TargetYCoord  ...  KxyGain  BxGain  \\\n",
       "0                22.0          21.0          32.0  ...      0.0     0.0   \n",
       "1                22.0          21.0          32.0  ...      0.0     0.0   \n",
       "2                22.0          21.0          32.0  ...      0.0     0.0   \n",
       "3                22.0          21.0          32.0  ...      0.0     0.0   \n",
       "4                22.0          21.0          32.0  ...      0.0     0.0   \n",
       "\n",
       "   ByGain  BxyGain  ByxGain  VelocityX     VelocityY  CurrentSenseLeft  \\\n",
       "0     0.0      0.0      0.0  -0.069115 -1.256943e-03           -0.0176   \n",
       "1     0.0      0.0      0.0  -0.071628  1.256180e-03           -0.0016   \n",
       "2     0.0      0.0      0.0  -0.074141  1.256180e-03           -0.0016   \n",
       "3     0.0      0.0      0.0  -0.077911  7.629395e-07           -0.0016   \n",
       "4     0.0      0.0      0.0  -0.081681 -1.256180e-03           -0.0016   \n",
       "\n",
       "   CurrentSenseRight  TotalForce  \n",
       "0            -0.0016         0.0  \n",
       "1            -0.0016         0.0  \n",
       "2            -0.0016         0.0  \n",
       "3            -0.0016         0.0  \n",
       "4            -0.0016         0.0  \n",
       "\n",
       "[5 rows x 24 columns]"
      ]
     },
     "execution_count": 11,
     "metadata": {},
     "output_type": "execute_result"
    }
   ],
   "source": [
    "df.head()"
   ]
  },
  {
   "cell_type": "code",
   "execution_count": 12,
   "id": "e6555bf3",
   "metadata": {
    "scrolled": true
   },
   "outputs": [
    {
     "name": "stdout",
     "output_type": "stream",
     "text": [
      "<class 'pandas.core.frame.DataFrame'>\n",
      "RangeIndex: 1412345 entries, 0 to 1412344\n",
      "Data columns (total 24 columns):\n",
      " #   Column              Non-Null Count    Dtype  \n",
      "---  ------              --------------    -----  \n",
      " 0   PatientID           1412345 non-null  object \n",
      " 1   SessionID           1412342 non-null  object \n",
      " 2   GameID              1412345 non-null  int64  \n",
      " 3   TimeStampDate       1412345 non-null  object \n",
      " 4   TimeStampMS         1412345 non-null  int64  \n",
      " 5   Sparc               1412345 non-null  float64\n",
      " 6   VisualTargetXCoord  1412345 non-null  float64\n",
      " 7   VisualTargetYCoord  1412345 non-null  float64\n",
      " 8   TargetXCoord        1412345 non-null  float64\n",
      " 9   TargetYCoord        1412345 non-null  float64\n",
      " 10  XCoordinate         1412345 non-null  float64\n",
      " 11  YCoordinate         1412345 non-null  float64\n",
      " 12  KxGain              1412345 non-null  float64\n",
      " 13  KyGain              1412345 non-null  float64\n",
      " 14  KxyGain             1412345 non-null  float64\n",
      " 15  BxGain              1412345 non-null  float64\n",
      " 16  ByGain              1412345 non-null  float64\n",
      " 17  BxyGain             1412345 non-null  float64\n",
      " 18  ByxGain             1412345 non-null  float64\n",
      " 19  VelocityX           1412345 non-null  float64\n",
      " 20  VelocityY           1412345 non-null  float64\n",
      " 21  CurrentSenseLeft    1412345 non-null  float64\n",
      " 22  CurrentSenseRight   1412345 non-null  float64\n",
      " 23  TotalForce          1412345 non-null  float64\n",
      "dtypes: float64(19), int64(2), object(3)\n",
      "memory usage: 258.6+ MB\n"
     ]
    }
   ],
   "source": [
    "df.info()"
   ]
  },
  {
   "cell_type": "markdown",
   "id": "f4208eac",
   "metadata": {},
   "source": [
    "**patient dictionary**"
   ]
  },
  {
   "cell_type": "code",
   "execution_count": 13,
   "id": "07bc5772",
   "metadata": {},
   "outputs": [],
   "source": [
    "user_id_dict = {\n",
    "    'TTSH-CHISELRGgLPwL3Lk6JTgBaVP4bjg==':'Test_01',\n",
    "    'TTSH-CHISEL2gpumVcbJE267TKKceWbOA==':'NULL', \n",
    "    'TTSH-CHISEL0Pa/Gtc3DUqoPVREp+I/qg==':'001', \n",
    "    'TTSH-CHISEL9GsWU5zb50CfPyoLNy7qvg==':'002',\n",
    "    'TTSH-CHISELamITRYYb9UymNH+3xzylgg==':'003', \n",
    "    'TTSH-CHISEL6IRO4pIMDUCpIRFbGnO26w==':'004',\n",
    "    'TTSH-CHISELZSJj4EGZh0iiozqhx3Gf4g==':'005',\n",
    "    'TTSH-CHISELCn5PqGNyMkKoyFYaOryw5g==':'006'\n",
    "}; \n"
   ]
  },
  {
   "cell_type": "markdown",
   "id": "82d86a27",
   "metadata": {},
   "source": [
    "*replace PatientID from user_id_dict*"
   ]
  },
  {
   "cell_type": "code",
   "execution_count": 14,
   "id": "c23c9dc1",
   "metadata": {},
   "outputs": [],
   "source": [
    "# df['PatientID'].unique()"
   ]
  },
  {
   "cell_type": "markdown",
   "id": "024f4aff",
   "metadata": {},
   "source": [
    "for eg, if 'onlyP001' ie., only one patient is queried, then there should only be one unique value."
   ]
  },
  {
   "cell_type": "code",
   "execution_count": 15,
   "id": "c86a33ae",
   "metadata": {},
   "outputs": [],
   "source": [
    "# replace PatientID with username\n",
    "df.replace({'PatientID':user_id_dict},inplace=True)"
   ]
  },
  {
   "cell_type": "markdown",
   "id": "ecb28231",
   "metadata": {},
   "source": [
    "**convert datetime**"
   ]
  },
  {
   "cell_type": "code",
   "execution_count": 17,
   "id": "673ea956",
   "metadata": {},
   "outputs": [],
   "source": [
    "df['date_time'] = pd.to_datetime(df['TimeStampDate'], format='%Y-%m-%d %H:%M:%S')\n",
    "# df['date_time']"
   ]
  },
  {
   "cell_type": "markdown",
   "id": "4c1b00eb",
   "metadata": {},
   "source": [
    "some 'SessionID' are missing, nothing we can do about it, though possible to impute from neighbouring rows."
   ]
  },
  {
   "cell_type": "code",
   "execution_count": 23,
   "id": "24ed0818",
   "metadata": {},
   "outputs": [],
   "source": [
    "# remove SessionID when null\n",
    "df = df[df['SessionID'].notna()]"
   ]
  },
  {
   "cell_type": "markdown",
   "id": "caaa2516",
   "metadata": {},
   "source": [
    "**format VisualTargetCoord and TargetCoord**"
   ]
  },
  {
   "cell_type": "code",
   "execution_count": 24,
   "id": "0c79de5f",
   "metadata": {},
   "outputs": [],
   "source": [
    "df['VisualTargetXCoord'] = df['VisualTargetXCoord']/1000\n",
    "df['VisualTargetYCoord'] = df['VisualTargetYCoord']/1000\n",
    "df['TargetXCoord'] = df['TargetXCoord']/1000\n",
    "df['TargetYCoord'] = df['TargetYCoord']/1000"
   ]
  },
  {
   "cell_type": "markdown",
   "id": "20aa38dc",
   "metadata": {},
   "source": [
    "*GameID*"
   ]
  },
  {
   "cell_type": "code",
   "execution_count": 25,
   "id": "498b7a8d",
   "metadata": {},
   "outputs": [],
   "source": [
    "game_id_dict = {\n",
    "    0 : 'Explore the World',\n",
    "    1 : 'Fishing Game',\n",
    "    2 : 'Drone Game'\n",
    "}"
   ]
  },
  {
   "cell_type": "code",
   "execution_count": 26,
   "id": "4e10cd4c",
   "metadata": {},
   "outputs": [
    {
     "data": {
      "text/plain": [
       "array([0, 1, 2], dtype=int64)"
      ]
     },
     "execution_count": 26,
     "metadata": {},
     "output_type": "execute_result"
    }
   ],
   "source": [
    "# check types of games played\n",
    "df['GameID'].unique()"
   ]
  },
  {
   "cell_type": "markdown",
   "id": "3c150090",
   "metadata": {},
   "source": [
    "### Segregating dataset by session and game"
   ]
  },
  {
   "cell_type": "code",
   "execution_count": 27,
   "id": "87ec49ca",
   "metadata": {},
   "outputs": [],
   "source": [
    "# make copy of original df\n",
    "df1 = df.reset_index()"
   ]
  },
  {
   "cell_type": "code",
   "execution_count": 29,
   "id": "f3374fa9",
   "metadata": {},
   "outputs": [],
   "source": [
    "# recalculate diff in timestamp, as freq of data capture is inconsistent\n",
    "df1['TimeStampMS_diff'] = df1[['TimeStampMS']].diff()"
   ]
  },
  {
   "cell_type": "code",
   "execution_count": 30,
   "id": "5d49b158",
   "metadata": {},
   "outputs": [],
   "source": [
    "list_gameplay = df1[df1['SessionID'].notna()]['SessionID'].unique()"
   ]
  },
  {
   "cell_type": "markdown",
   "id": "00530de9",
   "metadata": {},
   "source": [
    "**checking for new starts within session**\n",
    "<br> correcting for indirect labelling of sessionID"
   ]
  },
  {
   "cell_type": "code",
   "execution_count": 31,
   "id": "bf1517dc",
   "metadata": {},
   "outputs": [],
   "source": [
    "# create new gameplay names\n",
    "new_gameplay_name = []\n",
    "def iter_all_strings():\n",
    "    for size in itertools.count(1):\n",
    "        for s in itertools.product(ascii_lowercase, repeat=size):\n",
    "            yield ''.join(s)\n",
    "\n",
    "# max 300 new gameplay names based on alphabet-combinations\n",
    "for s in itertools.islice(iter_all_strings(), 300):\n",
    "    new_gameplay_name.append(s)"
   ]
  },
  {
   "cell_type": "markdown",
   "id": "adc61a43",
   "metadata": {},
   "source": [
    "*splitting sessionID based on 'TimeStampMS_diff'<0*"
   ]
  },
  {
   "cell_type": "code",
   "execution_count": 32,
   "id": "0b9ea839",
   "metadata": {},
   "outputs": [
    {
     "name": "stdout",
     "output_type": "stream",
     "text": [
      "1 TTSH-CHISEL29etmeoVZEaGCC9Ac6Dumw== 0 a\n",
      "1 TTSH-CHISELy2bu0Bp3bEykXH+IzOzbjA== 0 b\n"
     ]
    }
   ],
   "source": [
    "# check for negative timestamp\n",
    "new = 0 # brand new gameplay name\n",
    "for gameplay in list_gameplay:\n",
    "    gameplay_temp = df1[df1['SessionID']==gameplay].reset_index().drop(columns=['level_0'])\n",
    "    \n",
    "    # drop all last index, to make life easier\n",
    "    last_index=gameplay_temp['index'].iloc[-1]\n",
    "    gameplay_temp.drop(gameplay_temp[(gameplay_temp['index'] == last_index)].index,axis=0,inplace=True)\n",
    "    df1.drop(df1[(df1['index'] == last_index)].index,axis=0,inplace=True)\n",
    "    \n",
    "    for game in range(0,3):\n",
    "        if game in gameplay_temp['GameID'].unique():\n",
    "            temp1 = gameplay_temp[gameplay_temp['GameID']==game]\n",
    "            temp1['TimeStampMS_diff'] = temp1[['TimeStampMS']].diff()\n",
    "            \n",
    "            # all indices with negative timestamp\n",
    "            # should not include last index already removed\n",
    "            idx = temp1[temp1['TimeStampMS_diff']<0]['index'].values\n",
    "\n",
    "            if len(idx) >= 1:\n",
    "                first_index=temp1['index'].iloc[0]\n",
    "                # new last_index originally-iloc[-2]\n",
    "                last_index=temp1['index'].iloc[-1]\n",
    "\n",
    "                if len(idx)==1:\n",
    "                    # check first index\n",
    "                    if idx[0] == first_index:\n",
    "                        pass\n",
    "                    \n",
    "                    # double check last index\n",
    "                    # nothing should happen here\n",
    "                    elif idx[-1] == last_index:\n",
    "                        # drop last value of sessionid\n",
    "                        df1.drop(df1[(df1['index'] == last_index)].index,axis=0,inplace=True)\n",
    "        #                 idx = idx[:-1]\n",
    "        \n",
    "                    # index is middle, split to new gameplay\n",
    "                    else: #(idx[0]!=first_index) or (idx[0]!=last_index):\n",
    "                        df1.loc[(df1['index'] >= idx[0]) & (df1['index'] <= last_index), 'SessionID'] = new_gameplay_name[new]\n",
    "                        print(1,gameplay,game,new_gameplay_name[new])\n",
    "                        new += 1\n",
    "\n",
    "                else:  # if >1, iterate to new gameplays              \n",
    "                    for nr in range(len(idx)-1):\n",
    "                        df1.loc[(df1['index'] >= idx[nr]) & (df1['index'] <= idx[nr+1]), 'SessionID'] = new_gameplay_name[new]\n",
    "                        print(2,gameplay,game,new_gameplay_name[new])\n",
    "                        new += 1\n"
   ]
  },
  {
   "cell_type": "markdown",
   "id": "3317672e",
   "metadata": {},
   "source": [
    "*splitting sessionID once more for 'TimeStampMS_diff' > 120s*"
   ]
  },
  {
   "cell_type": "code",
   "execution_count": 33,
   "id": "b658de79",
   "metadata": {},
   "outputs": [],
   "source": [
    "# updated list_gameplay\n",
    "list_gameplay = df1[df1['SessionID'].notna()]['SessionID'].unique()"
   ]
  },
  {
   "cell_type": "code",
   "execution_count": 34,
   "id": "36511857",
   "metadata": {},
   "outputs": [],
   "source": [
    "# double check\n",
    "# check for negative timestamp in second round\n",
    "# use 'new' from previous run of splitting sessionID\n",
    "for gameplay in list_gameplay:\n",
    "    gameplay_temp = df1[df1['SessionID']==gameplay].reset_index().drop(columns=['level_0'])\n",
    "    \n",
    "    for game in range(0,3):\n",
    "        if game in gameplay_temp['GameID'].unique():\n",
    "            temp2 = gameplay_temp[gameplay_temp['GameID']==game]\n",
    "            temp2['TimeStampMS_diff'] = temp2[['TimeStampMS']].diff()\n",
    "\n",
    "            # all indices with negative timestamp\n",
    "            # should not include last index already removed\n",
    "            idx = temp2[temp2['TimeStampMS_diff']<0]['index'].values\n",
    "\n",
    "            if len(idx) >= 1:\n",
    "                first_index=temp2['index'].iloc[0]\n",
    "                # new last_index originally-iloc[-2]\n",
    "                last_index=temp2['index'].iloc[-1]\n",
    "\n",
    "                if len(idx)==1:\n",
    "                    # check first index\n",
    "                    if idx[0] == first_index:\n",
    "                        pass\n",
    "                    \n",
    "                    # double check last index\n",
    "                    # nothing should happen here\n",
    "                    elif idx[-1] == last_index:\n",
    "                        # drop last value of sessionid\n",
    "                        df1.drop(df1[(df1['index'] == last_index)].index,axis=0,inplace=True)\n",
    "        \n",
    "                    # index is middle, split to new gameplay\n",
    "                    else: #(idx[0]!=first_index) or (idx[0]!=last_index):\n",
    "                        df1.loc[(df1['index'] >= idx[0]) & (df1['index'] <= last_index), 'SessionID'] = new_gameplay_name[new]\n",
    "                        print(1,gameplay,game,new_gameplay_name[new])\n",
    "                        new += 1\n",
    "\n",
    "                else:  # if >1, iterate to new gameplays              \n",
    "                    for nr in range(len(idx)-1):\n",
    "                        df1.loc[(df1['index'] >= idx[nr]) & (df1['index'] <= idx[nr+1]), 'SessionID'] = new_gameplay_name[new]\n",
    "                        print(2,gameplay,game,new_gameplay_name[new])\n",
    "                        new += 1\n"
   ]
  },
  {
   "cell_type": "code",
   "execution_count": 35,
   "id": "891bb522",
   "metadata": {},
   "outputs": [],
   "source": [
    "# updated list_gameplay\n",
    "list_gameplay = df1[df1['SessionID'].notna()]['SessionID'].unique()"
   ]
  },
  {
   "cell_type": "code",
   "execution_count": 36,
   "id": "c181dae3",
   "metadata": {},
   "outputs": [
    {
     "name": "stdout",
     "output_type": "stream",
     "text": [
      "1 TTSH-CHISELUy5bymOppk6EA8kZ7LLs/Q== 1 c\n"
     ]
    }
   ],
   "source": [
    "# check for large time gaps between sessions\n",
    "# use 'new' from previous run of splitting sessionID\n",
    "for gameplay in list_gameplay:\n",
    "    gameplay_temp = df1[df1['SessionID']==gameplay].reset_index().drop(columns=['level_0'])\n",
    "    \n",
    "    for game in range(0,3):\n",
    "        if game in gameplay_temp['GameID'].unique():\n",
    "            temp3 = gameplay_temp[gameplay_temp['GameID']==game]\n",
    "            temp3['TimeStampMS_diff'] = temp3[['TimeStampMS']].diff()\n",
    "            \n",
    "            # indices where data gaps larger than 100s\n",
    "            idx2 = temp3[temp3['TimeStampMS_diff']>=100000]['index'].values\n",
    "            \n",
    "            if len(idx2) >= 1:\n",
    "                first_index=temp3['index'].iloc[0]\n",
    "                last_index=temp3['index'].iloc[-1]\n",
    "\n",
    "                if len(idx2)==1:\n",
    "                    # check first index\n",
    "                    if idx2[0] == first_index:\n",
    "                        pass          \n",
    "                    \n",
    "                    # check last index\n",
    "                    elif (idx2[-1] == last_index):\n",
    "                        # drop last value of idx \n",
    "                        df1.drop(df1[(df1['index'] == last_index)].index,axis=0,inplace=True)\n",
    "                        \n",
    "                    # index is middle, split to new gameplay\n",
    "                    else: \n",
    "                        df1.loc[(df1['index'] >= idx2[0]) & (df1['index'] <= last_index), 'SessionID'] = new_gameplay_name[new]\n",
    "                        print(1,gameplay,game,new_gameplay_name[new])\n",
    "                        new += 1\n",
    "\n",
    "                else: # if >1, iterate to new gameplays                   \n",
    "                    for nr in range(len(idx2)-1):\n",
    "                        df1.loc[(df1['index'] >= idx2[nr]) & (df1['index'] <= idx2[nr+1]), 'SessionID'] = new_gameplay_name[new]\n",
    "                        print(2,gameplay,game,new_gameplay_name[new])\n",
    "                        new += 1\n"
   ]
  },
  {
   "cell_type": "code",
   "execution_count": 37,
   "id": "cad108c3",
   "metadata": {},
   "outputs": [],
   "source": [
    "# updated list_gameplay\n",
    "list_gameplay = df1[df1['SessionID'].notna()]['SessionID'].unique()"
   ]
  },
  {
   "cell_type": "code",
   "execution_count": 38,
   "id": "fb4de604",
   "metadata": {},
   "outputs": [],
   "source": [
    "# quad run\n",
    "# double check for large time gaps between sessions\n",
    "for gameplay in list_gameplay:\n",
    "    gameplay_temp = df1[df1['SessionID']==gameplay].reset_index().drop(columns=['level_0'])\n",
    "    \n",
    "    for game in range(0,3):\n",
    "        if game in gameplay_temp['GameID'].unique():\n",
    "            temp4 = gameplay_temp[gameplay_temp['GameID']==game]\n",
    "            temp4['TimeStampMS_diff'] = temp4[['TimeStampMS']].diff()\n",
    "            \n",
    "            # indices where data gaps larger than 100s\n",
    "            idx2 = temp4[temp4['TimeStampMS_diff']>=100000]['index'].values\n",
    "            \n",
    "            if len(idx2) >= 1:\n",
    "                first_index=temp4['index'].iloc[0]\n",
    "                last_index=temp4['index'].iloc[-1]\n",
    "\n",
    "                if len(idx2)==1:\n",
    "                    # check first index\n",
    "                    if idx2[0] == first_index:\n",
    "                        pass          \n",
    "                    \n",
    "                    # check last index\n",
    "                    elif (idx2[-1] == last_index):\n",
    "                        # drop last value of idx \n",
    "                        df1.drop(df1[(df1['index'] == last_index)].index,axis=0,inplace=True)\n",
    "                        \n",
    "                    # index is middle, split to new gameplay\n",
    "                    else: \n",
    "                        df1.loc[(df1['index'] >= idx2[0]) & (df1['index'] <= last_index), 'SessionID'] = new_gameplay_name[new]\n",
    "                        print(1,gameplay,game,new_gameplay_name[new])\n",
    "                        new += 1\n",
    "\n",
    "                else: # if >1, iterate to new gameplays                   \n",
    "                    for nr in range(len(idx2)-1):\n",
    "                        df1.loc[(df1['index'] >= idx2[nr]) & (df1['index'] <= idx2[nr+1]), 'SessionID'] = new_gameplay_name[new]\n",
    "                        print(2,gameplay,game,new_gameplay_name[new])\n",
    "                        new += 1\n"
   ]
  },
  {
   "cell_type": "code",
   "execution_count": 39,
   "id": "0d8082ce",
   "metadata": {},
   "outputs": [],
   "source": [
    "# updated list_gameplay\n",
    "list_gameplay = df1[df1['SessionID'].notna()]['SessionID'].unique()"
   ]
  },
  {
   "cell_type": "markdown",
   "id": "ef247833",
   "metadata": {},
   "source": [
    "#### remove invalid gameplays"
   ]
  },
  {
   "cell_type": "code",
   "execution_count": 40,
   "id": "ed8d29dd",
   "metadata": {},
   "outputs": [],
   "source": [
    "# drop if session < 120s \n",
    "for gameplay in list_gameplay:\n",
    "    gameplay_temp = df1[df1['SessionID']==gameplay].reset_index().drop(columns=['level_0'])\n",
    "    \n",
    "    for game in range(0,3):\n",
    "        if game in gameplay_temp['GameID'].unique():\n",
    "            temp5 = gameplay_temp[gameplay_temp['GameID']==game]\n",
    "            temp5['tsec'] = temp5[['TimeStampMS']].diff().cumsum(axis=0)/1000\n",
    "            \n",
    "            first_index=temp5['index'].iloc[0]\n",
    "            last_index=temp5['index'].iloc[-1]\n",
    "            \n",
    "            # drop if session < 120s or smaller than size 5000 (should have at least 10000 rows for 120s worth of data)\n",
    "            if len(temp5['tsec'])>=2500:\n",
    "#             print(gameplay, game, temp5['tsec'].iloc[-2])\n",
    "                if temp5['tsec'].iloc[-2] <= 120:\n",
    "                    df1.drop(df1[(df1['index'] >= first_index) & (df1['index'] <= last_index)].index,axis=0,inplace=True)\n",
    "            else:\n",
    "                df1.drop(df1[(df1['index'] >= first_index) & (df1['index'] <= last_index)].index,axis=0,inplace=True)"
   ]
  },
  {
   "cell_type": "markdown",
   "id": "9e4de66b",
   "metadata": {},
   "source": [
    "#### check timestampms duplicates"
   ]
  },
  {
   "cell_type": "code",
   "execution_count": 41,
   "id": "52156bff",
   "metadata": {},
   "outputs": [
    {
     "name": "stdout",
     "output_type": "stream",
     "text": [
      "TTSH-CHISELgzfi6wyw7ESOvMapDl+xDg== 0 1263 13.0\n",
      "TTSH-CHISEL29etmeoVZEaGCC9Ac6Dumw== 0 16801 169.0\n"
     ]
    }
   ],
   "source": [
    "for gameplay in list_gameplay:\n",
    "    gameplay_temp = df1[df1['SessionID']==gameplay].reset_index().drop(columns=['level_0'])\n",
    "    \n",
    "    for game in range(0,3):\n",
    "        if game in gameplay_temp['GameID'].unique():\n",
    "            # cleaning is according to game within a gameplay, so each timestampms should be unique\n",
    "            temp6 = gameplay_temp[gameplay_temp['GameID']==game]\n",
    "            temp6['tsec'] = temp6[['TimeStampMS']].diff().cumsum(axis=0)/1000\n",
    "                \n",
    "            max_nr = temp6['TimeStampMS'].value_counts().max() # max number of same value\n",
    "            \n",
    "            if max_nr > 1000: # or > 1s \n",
    "                timestamp_value = temp6['TimeStampMS'].value_counts().idxmax() # repeated timestampms value\n",
    "\n",
    "                start_duplicate = temp6[temp6['TimeStampMS']==timestamp_value]['date_time'].iloc[0]\n",
    "                end_duplicate = temp6[temp6['TimeStampMS']==timestamp_value]['date_time'].iloc[-1]\n",
    "                time_diff = (end_duplicate-start_duplicate).total_seconds()\n",
    "                time_step = round(time_diff*1000/max_nr) # convert to ms\n",
    "\n",
    "                new_time = timestamp_value # ensure first new_time is the original duplicated timestampms\n",
    "                print(gameplay, game, max_nr, time_diff)\n",
    "                for index in temp6[temp6['TimeStampMS']==timestamp_value]['index']:\n",
    "                    new_time += time_step\n",
    "                    df1.loc[df1['index']==index,['TimeStampMS']]=new_time # change to new time"
   ]
  },
  {
   "cell_type": "markdown",
   "id": "71a8e5ad",
   "metadata": {},
   "source": [
    "#### check mislabelling of gameid"
   ]
  },
  {
   "cell_type": "code",
   "execution_count": 42,
   "id": "16a7fe55",
   "metadata": {},
   "outputs": [],
   "source": [
    "for gameplay in list_gameplay:\n",
    "    gameplay_temp = df1[df1['SessionID']==gameplay].reset_index().drop(columns=['level_0'])\n",
    "\n",
    "    gameplay_temp['TimeStampMS_diff'] = gameplay_temp[['TimeStampMS']].diff()\n",
    "    gameplay_temp['GameID_diff'] = gameplay_temp[['GameID']].diff()        \n",
    "    \n",
    "    # indices where change of gameid occur\n",
    "    idxs = gameplay_temp[gameplay_temp['GameID_diff']!=0].index\n",
    "    \n",
    "    for idx in idxs:\n",
    "        time_diff = abs(gameplay_temp[gameplay_temp.index==idx]['TimeStampMS_diff'].values[0])\n",
    "        if time_diff<30: # usual time freq is from 10-30ms\n",
    "            if idx!=0:\n",
    "                chime.error()\n",
    "                print(gameplay,'suspicious GameID!')                \n",
    "        else:\n",
    "            pass"
   ]
  },
  {
   "cell_type": "markdown",
   "id": "7df1b4fc",
   "metadata": {},
   "source": [
    "#### keep final gameplay in df within a list"
   ]
  },
  {
   "cell_type": "code",
   "execution_count": 43,
   "id": "e4651212",
   "metadata": {},
   "outputs": [],
   "source": [
    "# final updated list_gameplay\n",
    "list_gameplay = df1[df1['SessionID'].notna()]['SessionID'].unique()\n",
    "\n",
    "df_gameplay = []\n",
    "for gameplay in list_gameplay:\n",
    "    temp = df1[df1['SessionID']==gameplay]  \n",
    "    df_gameplay.append(temp)"
   ]
  },
  {
   "cell_type": "markdown",
   "id": "30a6b6eb",
   "metadata": {},
   "source": [
    "### Export time_gameplay "
   ]
  },
  {
   "cell_type": "markdown",
   "id": "ebb2dbde",
   "metadata": {},
   "source": [
    "**declare path for saving fig**\n",
    "<br> path/folder will change later, and declared again later"
   ]
  },
  {
   "cell_type": "code",
   "execution_count": 44,
   "id": "93d49321",
   "metadata": {},
   "outputs": [],
   "source": [
    "# export df_gameplay \n",
    "patientid = df['PatientID'].unique()[0]\n",
    "pd.concat(df_gameplay).to_hdf('./data/P' + patientid + '_df_gameplay.h5', key='df', mode='w')"
   ]
  },
  {
   "cell_type": "code",
   "execution_count": 45,
   "id": "4774d29b",
   "metadata": {},
   "outputs": [
    {
     "name": "stdout",
     "output_type": "stream",
     "text": [
      "export done\n"
     ]
    }
   ],
   "source": [
    "%chime print('export done')"
   ]
  },
  {
   "cell_type": "markdown",
   "id": "c6fe5fe4",
   "metadata": {},
   "source": [
    "*create dataframe*"
   ]
  },
  {
   "cell_type": "code",
   "execution_count": 46,
   "id": "dc410e7c",
   "metadata": {},
   "outputs": [
    {
     "data": {
      "text/plain": [
       "17"
      ]
     },
     "execution_count": 46,
     "metadata": {},
     "output_type": "execute_result"
    }
   ],
   "source": [
    "# new gameplays are created when new starts to gameplay were detected\n",
    "len(df_gameplay)"
   ]
  },
  {
   "cell_type": "code",
   "execution_count": 47,
   "id": "89584dbe",
   "metadata": {},
   "outputs": [
    {
     "data": {
      "text/plain": [
       "array([0, 1, 2], dtype=int64)"
      ]
     },
     "execution_count": 47,
     "metadata": {},
     "output_type": "execute_result"
    }
   ],
   "source": [
    "# number of games played\n",
    "df1['GameID'].unique()"
   ]
  },
  {
   "cell_type": "code",
   "execution_count": 48,
   "id": "9b1d198a",
   "metadata": {},
   "outputs": [],
   "source": [
    "gameplay_nr = []\n",
    "game_nr = []\n",
    "start = []\n",
    "end = []\n",
    "diff = []\n",
    "for gameplay, df_list in enumerate(df_gameplay):\n",
    "    for game in range(0,3):\n",
    "        if game in df_list['GameID'].unique():\n",
    "            gameplay_nr.append(gameplay)\n",
    "            game_nr.append(game)\n",
    "            temp = df_list[df_list['GameID']==game]\n",
    "            \n",
    "            start.append(temp[['date_time']].iloc[0][0])\n",
    "            end.append(temp[['date_time']].iloc[-1][0])\n",
    "            time_diff = (temp[['date_time']].iloc[-1][0]) - (temp[['date_time']].iloc[0][0])\n",
    "            diff.append(time_diff/ np.timedelta64(1,'m'))    # in minutes\n",
    "        "
   ]
  },
  {
   "cell_type": "code",
   "execution_count": 49,
   "id": "2ad145b6",
   "metadata": {},
   "outputs": [],
   "source": [
    "# put in df\n",
    "time_gameplay = []\n",
    "for row in range(0,len(gameplay_nr)):\n",
    "    time_gameplay.append(row)\n",
    "time_gameplay = pd.DataFrame(time_gameplay,columns=['gameplay_nr'])   \n",
    "time_gameplay['gameplay_nr'] = gameplay_nr\n",
    "time_gameplay['game_nr'] = game_nr\n",
    "time_gameplay['start'] = start\n",
    "time_gameplay['end'] = end\n",
    "time_gameplay['diff'] = diff  # in minutes\n",
    "time_gameplay['just_date'] = time_gameplay['start'].dt.date"
   ]
  },
  {
   "cell_type": "code",
   "execution_count": 50,
   "id": "b6ecfdd3",
   "metadata": {},
   "outputs": [
    {
     "name": "stdout",
     "output_type": "stream",
     "text": [
      "001\n"
     ]
    }
   ],
   "source": [
    "# time_gameplay of which patient\n",
    "print(patientid)"
   ]
  },
  {
   "cell_type": "code",
   "execution_count": 51,
   "id": "74423dac",
   "metadata": {},
   "outputs": [
    {
     "data": {
      "text/html": [
       "<div>\n",
       "<style scoped>\n",
       "    .dataframe tbody tr th:only-of-type {\n",
       "        vertical-align: middle;\n",
       "    }\n",
       "\n",
       "    .dataframe tbody tr th {\n",
       "        vertical-align: top;\n",
       "    }\n",
       "\n",
       "    .dataframe thead th {\n",
       "        text-align: right;\n",
       "    }\n",
       "</style>\n",
       "<table border=\"1\" class=\"dataframe\">\n",
       "  <thead>\n",
       "    <tr style=\"text-align: right;\">\n",
       "      <th></th>\n",
       "      <th>gameplay_nr</th>\n",
       "      <th>game_nr</th>\n",
       "      <th>start</th>\n",
       "      <th>end</th>\n",
       "      <th>diff</th>\n",
       "      <th>just_date</th>\n",
       "    </tr>\n",
       "  </thead>\n",
       "  <tbody>\n",
       "    <tr>\n",
       "      <th>0</th>\n",
       "      <td>0</td>\n",
       "      <td>0</td>\n",
       "      <td>2022-03-11 12:01:27</td>\n",
       "      <td>2022-03-11 12:11:23</td>\n",
       "      <td>9.933333</td>\n",
       "      <td>2022-03-11</td>\n",
       "    </tr>\n",
       "    <tr>\n",
       "      <th>1</th>\n",
       "      <td>1</td>\n",
       "      <td>0</td>\n",
       "      <td>2022-03-11 16:45:13</td>\n",
       "      <td>2022-03-11 16:53:24</td>\n",
       "      <td>8.183333</td>\n",
       "      <td>2022-03-11</td>\n",
       "    </tr>\n",
       "    <tr>\n",
       "      <th>2</th>\n",
       "      <td>1</td>\n",
       "      <td>1</td>\n",
       "      <td>2022-03-11 16:57:55</td>\n",
       "      <td>2022-03-11 17:02:56</td>\n",
       "      <td>5.016667</td>\n",
       "      <td>2022-03-11</td>\n",
       "    </tr>\n",
       "    <tr>\n",
       "      <th>3</th>\n",
       "      <td>1</td>\n",
       "      <td>2</td>\n",
       "      <td>2022-03-11 17:05:17</td>\n",
       "      <td>2022-03-11 17:10:28</td>\n",
       "      <td>5.183333</td>\n",
       "      <td>2022-03-11</td>\n",
       "    </tr>\n",
       "    <tr>\n",
       "      <th>4</th>\n",
       "      <td>2</td>\n",
       "      <td>0</td>\n",
       "      <td>2022-03-11 16:53:24</td>\n",
       "      <td>2022-03-11 16:56:49</td>\n",
       "      <td>3.416667</td>\n",
       "      <td>2022-03-11</td>\n",
       "    </tr>\n",
       "    <tr>\n",
       "      <th>5</th>\n",
       "      <td>3</td>\n",
       "      <td>0</td>\n",
       "      <td>2022-03-12 11:17:15</td>\n",
       "      <td>2022-03-12 11:27:31</td>\n",
       "      <td>10.266667</td>\n",
       "      <td>2022-03-12</td>\n",
       "    </tr>\n",
       "    <tr>\n",
       "      <th>6</th>\n",
       "      <td>4</td>\n",
       "      <td>1</td>\n",
       "      <td>2022-03-12 11:31:28</td>\n",
       "      <td>2022-03-12 11:41:32</td>\n",
       "      <td>10.066667</td>\n",
       "      <td>2022-03-12</td>\n",
       "    </tr>\n",
       "    <tr>\n",
       "      <th>7</th>\n",
       "      <td>4</td>\n",
       "      <td>2</td>\n",
       "      <td>2022-03-12 11:43:06</td>\n",
       "      <td>2022-03-12 11:53:14</td>\n",
       "      <td>10.133333</td>\n",
       "      <td>2022-03-12</td>\n",
       "    </tr>\n",
       "    <tr>\n",
       "      <th>8</th>\n",
       "      <td>5</td>\n",
       "      <td>0</td>\n",
       "      <td>2022-03-12 16:09:13</td>\n",
       "      <td>2022-03-12 16:19:32</td>\n",
       "      <td>10.316667</td>\n",
       "      <td>2022-03-12</td>\n",
       "    </tr>\n",
       "    <tr>\n",
       "      <th>9</th>\n",
       "      <td>5</td>\n",
       "      <td>1</td>\n",
       "      <td>2022-03-12 16:21:49</td>\n",
       "      <td>2022-03-12 16:31:58</td>\n",
       "      <td>10.150000</td>\n",
       "      <td>2022-03-12</td>\n",
       "    </tr>\n",
       "    <tr>\n",
       "      <th>10</th>\n",
       "      <td>5</td>\n",
       "      <td>2</td>\n",
       "      <td>2022-03-12 16:39:50</td>\n",
       "      <td>2022-03-12 16:49:58</td>\n",
       "      <td>10.133333</td>\n",
       "      <td>2022-03-12</td>\n",
       "    </tr>\n",
       "    <tr>\n",
       "      <th>11</th>\n",
       "      <td>6</td>\n",
       "      <td>0</td>\n",
       "      <td>2022-03-15 14:33:46</td>\n",
       "      <td>2022-03-15 14:43:59</td>\n",
       "      <td>10.216667</td>\n",
       "      <td>2022-03-15</td>\n",
       "    </tr>\n",
       "    <tr>\n",
       "      <th>12</th>\n",
       "      <td>6</td>\n",
       "      <td>1</td>\n",
       "      <td>2022-03-15 14:48:42</td>\n",
       "      <td>2022-03-15 14:58:45</td>\n",
       "      <td>10.050000</td>\n",
       "      <td>2022-03-15</td>\n",
       "    </tr>\n",
       "    <tr>\n",
       "      <th>13</th>\n",
       "      <td>6</td>\n",
       "      <td>2</td>\n",
       "      <td>2022-03-15 15:00:25</td>\n",
       "      <td>2022-03-15 15:10:40</td>\n",
       "      <td>10.250000</td>\n",
       "      <td>2022-03-15</td>\n",
       "    </tr>\n",
       "    <tr>\n",
       "      <th>14</th>\n",
       "      <td>7</td>\n",
       "      <td>0</td>\n",
       "      <td>2022-03-16 17:23:04</td>\n",
       "      <td>2022-03-16 17:33:06</td>\n",
       "      <td>10.033333</td>\n",
       "      <td>2022-03-16</td>\n",
       "    </tr>\n",
       "    <tr>\n",
       "      <th>15</th>\n",
       "      <td>7</td>\n",
       "      <td>1</td>\n",
       "      <td>2022-03-17 15:30:26</td>\n",
       "      <td>2022-03-17 15:40:33</td>\n",
       "      <td>10.116667</td>\n",
       "      <td>2022-03-17</td>\n",
       "    </tr>\n",
       "    <tr>\n",
       "      <th>16</th>\n",
       "      <td>7</td>\n",
       "      <td>2</td>\n",
       "      <td>2022-03-17 15:42:00</td>\n",
       "      <td>2022-03-17 15:52:04</td>\n",
       "      <td>10.066667</td>\n",
       "      <td>2022-03-17</td>\n",
       "    </tr>\n",
       "    <tr>\n",
       "      <th>17</th>\n",
       "      <td>8</td>\n",
       "      <td>0</td>\n",
       "      <td>2022-03-17 15:12:05</td>\n",
       "      <td>2022-03-17 15:29:37</td>\n",
       "      <td>17.533333</td>\n",
       "      <td>2022-03-17</td>\n",
       "    </tr>\n",
       "    <tr>\n",
       "      <th>18</th>\n",
       "      <td>9</td>\n",
       "      <td>0</td>\n",
       "      <td>2022-03-21 11:45:59</td>\n",
       "      <td>2022-03-21 11:56:21</td>\n",
       "      <td>10.366667</td>\n",
       "      <td>2022-03-21</td>\n",
       "    </tr>\n",
       "    <tr>\n",
       "      <th>19</th>\n",
       "      <td>9</td>\n",
       "      <td>1</td>\n",
       "      <td>2022-03-21 11:57:54</td>\n",
       "      <td>2022-03-21 12:09:05</td>\n",
       "      <td>11.183333</td>\n",
       "      <td>2022-03-21</td>\n",
       "    </tr>\n",
       "    <tr>\n",
       "      <th>20</th>\n",
       "      <td>9</td>\n",
       "      <td>2</td>\n",
       "      <td>2022-03-21 12:09:18</td>\n",
       "      <td>2022-03-21 12:19:39</td>\n",
       "      <td>10.350000</td>\n",
       "      <td>2022-03-21</td>\n",
       "    </tr>\n",
       "    <tr>\n",
       "      <th>21</th>\n",
       "      <td>10</td>\n",
       "      <td>0</td>\n",
       "      <td>2022-03-21 16:49:48</td>\n",
       "      <td>2022-03-21 16:53:00</td>\n",
       "      <td>3.200000</td>\n",
       "      <td>2022-03-21</td>\n",
       "    </tr>\n",
       "    <tr>\n",
       "      <th>22</th>\n",
       "      <td>10</td>\n",
       "      <td>1</td>\n",
       "      <td>2022-03-21 17:03:25</td>\n",
       "      <td>2022-03-21 17:09:40</td>\n",
       "      <td>6.250000</td>\n",
       "      <td>2022-03-21</td>\n",
       "    </tr>\n",
       "    <tr>\n",
       "      <th>23</th>\n",
       "      <td>10</td>\n",
       "      <td>2</td>\n",
       "      <td>2022-03-21 16:53:58</td>\n",
       "      <td>2022-03-21 17:03:13</td>\n",
       "      <td>9.250000</td>\n",
       "      <td>2022-03-21</td>\n",
       "    </tr>\n",
       "    <tr>\n",
       "      <th>24</th>\n",
       "      <td>11</td>\n",
       "      <td>0</td>\n",
       "      <td>2022-03-22 15:12:24</td>\n",
       "      <td>2022-03-22 15:22:46</td>\n",
       "      <td>10.366667</td>\n",
       "      <td>2022-03-22</td>\n",
       "    </tr>\n",
       "    <tr>\n",
       "      <th>25</th>\n",
       "      <td>11</td>\n",
       "      <td>1</td>\n",
       "      <td>2022-03-22 15:23:25</td>\n",
       "      <td>2022-03-22 15:34:44</td>\n",
       "      <td>11.316667</td>\n",
       "      <td>2022-03-22</td>\n",
       "    </tr>\n",
       "    <tr>\n",
       "      <th>26</th>\n",
       "      <td>11</td>\n",
       "      <td>2</td>\n",
       "      <td>2022-03-22 15:35:00</td>\n",
       "      <td>2022-03-22 15:45:11</td>\n",
       "      <td>10.183333</td>\n",
       "      <td>2022-03-22</td>\n",
       "    </tr>\n",
       "    <tr>\n",
       "      <th>27</th>\n",
       "      <td>12</td>\n",
       "      <td>0</td>\n",
       "      <td>2022-03-23 13:50:31</td>\n",
       "      <td>2022-03-23 14:00:40</td>\n",
       "      <td>10.150000</td>\n",
       "      <td>2022-03-23</td>\n",
       "    </tr>\n",
       "    <tr>\n",
       "      <th>28</th>\n",
       "      <td>12</td>\n",
       "      <td>1</td>\n",
       "      <td>2022-03-23 14:01:15</td>\n",
       "      <td>2022-03-23 14:11:37</td>\n",
       "      <td>10.366667</td>\n",
       "      <td>2022-03-23</td>\n",
       "    </tr>\n",
       "    <tr>\n",
       "      <th>29</th>\n",
       "      <td>12</td>\n",
       "      <td>2</td>\n",
       "      <td>2022-03-23 14:12:51</td>\n",
       "      <td>2022-03-23 14:23:25</td>\n",
       "      <td>10.566667</td>\n",
       "      <td>2022-03-23</td>\n",
       "    </tr>\n",
       "    <tr>\n",
       "      <th>30</th>\n",
       "      <td>13</td>\n",
       "      <td>0</td>\n",
       "      <td>2022-03-24 14:31:02</td>\n",
       "      <td>2022-03-24 14:33:41</td>\n",
       "      <td>2.650000</td>\n",
       "      <td>2022-03-24</td>\n",
       "    </tr>\n",
       "    <tr>\n",
       "      <th>31</th>\n",
       "      <td>14</td>\n",
       "      <td>0</td>\n",
       "      <td>2022-03-24 14:37:52</td>\n",
       "      <td>2022-03-24 14:44:58</td>\n",
       "      <td>7.100000</td>\n",
       "      <td>2022-03-24</td>\n",
       "    </tr>\n",
       "    <tr>\n",
       "      <th>32</th>\n",
       "      <td>15</td>\n",
       "      <td>1</td>\n",
       "      <td>2022-03-24 14:47:12</td>\n",
       "      <td>2022-03-24 14:53:47</td>\n",
       "      <td>6.583333</td>\n",
       "      <td>2022-03-24</td>\n",
       "    </tr>\n",
       "    <tr>\n",
       "      <th>33</th>\n",
       "      <td>15</td>\n",
       "      <td>2</td>\n",
       "      <td>2022-03-24 14:53:55</td>\n",
       "      <td>2022-03-24 14:59:03</td>\n",
       "      <td>5.133333</td>\n",
       "      <td>2022-03-24</td>\n",
       "    </tr>\n",
       "    <tr>\n",
       "      <th>34</th>\n",
       "      <td>16</td>\n",
       "      <td>0</td>\n",
       "      <td>2022-03-29 14:39:50</td>\n",
       "      <td>2022-03-29 14:50:18</td>\n",
       "      <td>10.466667</td>\n",
       "      <td>2022-03-29</td>\n",
       "    </tr>\n",
       "    <tr>\n",
       "      <th>35</th>\n",
       "      <td>16</td>\n",
       "      <td>1</td>\n",
       "      <td>2022-03-29 14:51:46</td>\n",
       "      <td>2022-03-29 15:02:03</td>\n",
       "      <td>10.283333</td>\n",
       "      <td>2022-03-29</td>\n",
       "    </tr>\n",
       "    <tr>\n",
       "      <th>36</th>\n",
       "      <td>16</td>\n",
       "      <td>2</td>\n",
       "      <td>2022-03-29 15:04:07</td>\n",
       "      <td>2022-03-29 15:14:19</td>\n",
       "      <td>10.200000</td>\n",
       "      <td>2022-03-29</td>\n",
       "    </tr>\n",
       "  </tbody>\n",
       "</table>\n",
       "</div>"
      ],
      "text/plain": [
       "    gameplay_nr  game_nr               start                 end       diff  \\\n",
       "0             0        0 2022-03-11 12:01:27 2022-03-11 12:11:23   9.933333   \n",
       "1             1        0 2022-03-11 16:45:13 2022-03-11 16:53:24   8.183333   \n",
       "2             1        1 2022-03-11 16:57:55 2022-03-11 17:02:56   5.016667   \n",
       "3             1        2 2022-03-11 17:05:17 2022-03-11 17:10:28   5.183333   \n",
       "4             2        0 2022-03-11 16:53:24 2022-03-11 16:56:49   3.416667   \n",
       "5             3        0 2022-03-12 11:17:15 2022-03-12 11:27:31  10.266667   \n",
       "6             4        1 2022-03-12 11:31:28 2022-03-12 11:41:32  10.066667   \n",
       "7             4        2 2022-03-12 11:43:06 2022-03-12 11:53:14  10.133333   \n",
       "8             5        0 2022-03-12 16:09:13 2022-03-12 16:19:32  10.316667   \n",
       "9             5        1 2022-03-12 16:21:49 2022-03-12 16:31:58  10.150000   \n",
       "10            5        2 2022-03-12 16:39:50 2022-03-12 16:49:58  10.133333   \n",
       "11            6        0 2022-03-15 14:33:46 2022-03-15 14:43:59  10.216667   \n",
       "12            6        1 2022-03-15 14:48:42 2022-03-15 14:58:45  10.050000   \n",
       "13            6        2 2022-03-15 15:00:25 2022-03-15 15:10:40  10.250000   \n",
       "14            7        0 2022-03-16 17:23:04 2022-03-16 17:33:06  10.033333   \n",
       "15            7        1 2022-03-17 15:30:26 2022-03-17 15:40:33  10.116667   \n",
       "16            7        2 2022-03-17 15:42:00 2022-03-17 15:52:04  10.066667   \n",
       "17            8        0 2022-03-17 15:12:05 2022-03-17 15:29:37  17.533333   \n",
       "18            9        0 2022-03-21 11:45:59 2022-03-21 11:56:21  10.366667   \n",
       "19            9        1 2022-03-21 11:57:54 2022-03-21 12:09:05  11.183333   \n",
       "20            9        2 2022-03-21 12:09:18 2022-03-21 12:19:39  10.350000   \n",
       "21           10        0 2022-03-21 16:49:48 2022-03-21 16:53:00   3.200000   \n",
       "22           10        1 2022-03-21 17:03:25 2022-03-21 17:09:40   6.250000   \n",
       "23           10        2 2022-03-21 16:53:58 2022-03-21 17:03:13   9.250000   \n",
       "24           11        0 2022-03-22 15:12:24 2022-03-22 15:22:46  10.366667   \n",
       "25           11        1 2022-03-22 15:23:25 2022-03-22 15:34:44  11.316667   \n",
       "26           11        2 2022-03-22 15:35:00 2022-03-22 15:45:11  10.183333   \n",
       "27           12        0 2022-03-23 13:50:31 2022-03-23 14:00:40  10.150000   \n",
       "28           12        1 2022-03-23 14:01:15 2022-03-23 14:11:37  10.366667   \n",
       "29           12        2 2022-03-23 14:12:51 2022-03-23 14:23:25  10.566667   \n",
       "30           13        0 2022-03-24 14:31:02 2022-03-24 14:33:41   2.650000   \n",
       "31           14        0 2022-03-24 14:37:52 2022-03-24 14:44:58   7.100000   \n",
       "32           15        1 2022-03-24 14:47:12 2022-03-24 14:53:47   6.583333   \n",
       "33           15        2 2022-03-24 14:53:55 2022-03-24 14:59:03   5.133333   \n",
       "34           16        0 2022-03-29 14:39:50 2022-03-29 14:50:18  10.466667   \n",
       "35           16        1 2022-03-29 14:51:46 2022-03-29 15:02:03  10.283333   \n",
       "36           16        2 2022-03-29 15:04:07 2022-03-29 15:14:19  10.200000   \n",
       "\n",
       "     just_date  \n",
       "0   2022-03-11  \n",
       "1   2022-03-11  \n",
       "2   2022-03-11  \n",
       "3   2022-03-11  \n",
       "4   2022-03-11  \n",
       "5   2022-03-12  \n",
       "6   2022-03-12  \n",
       "7   2022-03-12  \n",
       "8   2022-03-12  \n",
       "9   2022-03-12  \n",
       "10  2022-03-12  \n",
       "11  2022-03-15  \n",
       "12  2022-03-15  \n",
       "13  2022-03-15  \n",
       "14  2022-03-16  \n",
       "15  2022-03-17  \n",
       "16  2022-03-17  \n",
       "17  2022-03-17  \n",
       "18  2022-03-21  \n",
       "19  2022-03-21  \n",
       "20  2022-03-21  \n",
       "21  2022-03-21  \n",
       "22  2022-03-21  \n",
       "23  2022-03-21  \n",
       "24  2022-03-22  \n",
       "25  2022-03-22  \n",
       "26  2022-03-22  \n",
       "27  2022-03-23  \n",
       "28  2022-03-23  \n",
       "29  2022-03-23  \n",
       "30  2022-03-24  \n",
       "31  2022-03-24  \n",
       "32  2022-03-24  \n",
       "33  2022-03-24  \n",
       "34  2022-03-29  \n",
       "35  2022-03-29  \n",
       "36  2022-03-29  "
      ]
     },
     "execution_count": 51,
     "metadata": {},
     "output_type": "execute_result"
    }
   ],
   "source": [
    "time_gameplay"
   ]
  },
  {
   "cell_type": "code",
   "execution_count": 52,
   "id": "71fc09df",
   "metadata": {},
   "outputs": [],
   "source": [
    "# dfi.export(time_gameplay,\"time_gameplay.png\")\n",
    "# dfi.export(time_gameplay[time_gameplay['game_nr']==0],\"time_explore.png\")\n",
    "# dfi.export(time_gameplay[time_gameplay['game_nr']==1],\"time_fish.png\")\n",
    "# dfi.export(time_gameplay[time_gameplay['game_nr']==2],\"time_drone.png\")"
   ]
  },
  {
   "cell_type": "code",
   "execution_count": 53,
   "id": "aa967fe1",
   "metadata": {},
   "outputs": [
    {
     "name": "stdout",
     "output_type": "stream",
     "text": [
      "total run time = 0:05:54.508129\n"
     ]
    }
   ],
   "source": [
    "print(f'total run time = {datetime.now()-start_codes}')"
   ]
  }
 ],
 "metadata": {
  "kernelspec": {
   "display_name": "Python 3",
   "language": "python",
   "name": "python3"
  },
  "language_info": {
   "codemirror_mode": {
    "name": "ipython",
    "version": 3
   },
   "file_extension": ".py",
   "mimetype": "text/x-python",
   "name": "python",
   "nbconvert_exporter": "python",
   "pygments_lexer": "ipython3",
   "version": "3.8.8"
  },
  "toc": {
   "base_numbering": 1,
   "nav_menu": {},
   "number_sections": true,
   "sideBar": true,
   "skip_h1_title": false,
   "title_cell": "Table of Contents",
   "title_sidebar": "Contents",
   "toc_cell": false,
   "toc_position": {
    "height": "839.7px",
    "left": "59px",
    "top": "111.433px",
    "width": "334px"
   },
   "toc_section_display": true,
   "toc_window_display": true
  }
 },
 "nbformat": 4,
 "nbformat_minor": 5
}
