{
 "cells": [
  {
   "cell_type": "markdown",
   "id": "25aceb8b",
   "metadata": {},
   "source": [
    "## ARISE-GERI data analysis\n"
   ]
  },
  {
   "cell_type": "markdown",
   "id": "b17fc493",
   "metadata": {},
   "source": [
    "### Background\n",
    "ARISE-GERI data\n",
    "<br> \n",
    "Tabulates trials (assessment and intervention trials) of ONE patient. \n"
   ]
  },
  {
   "cell_type": "markdown",
   "id": "526e5523",
   "metadata": {},
   "source": [
    "*import libraries*"
   ]
  },
  {
   "cell_type": "code",
   "execution_count": 1,
   "id": "7f1d3256",
   "metadata": {},
   "outputs": [],
   "source": [
    "import pandas as pd\n",
    "import numpy as np\n",
    "import seaborn as sns\n",
    "import matplotlib.pyplot as plt\n",
    "import matplotlib.ticker as mticker\n",
    "%matplotlib inline\n",
    "import datetime \n",
    "import os\n",
    "import glob\n",
    "import chime\n",
    "%load_ext chime"
   ]
  },
  {
   "cell_type": "code",
   "execution_count": 2,
   "id": "feb97aab",
   "metadata": {},
   "outputs": [],
   "source": [
    "import warnings\n",
    "warnings.filterwarnings(\"ignore\")"
   ]
  },
  {
   "cell_type": "code",
   "execution_count": 3,
   "id": "35ba7e8c",
   "metadata": {},
   "outputs": [],
   "source": [
    "# import data\n",
    "patientid = 'P08'\n",
    "progress = pd.read_csv('result_P08.csv', sep='\\t+', header=None)"
   ]
  },
  {
   "cell_type": "code",
   "execution_count": 4,
   "id": "4e76a540",
   "metadata": {},
   "outputs": [],
   "source": [
    "# identify dir where results will be saved\n",
    "results_path = os.path.join('data', 'results', patientid)\n",
    "if not os.path.exists(results_path):\n",
    "    os.makedirs(results_path)"
   ]
  },
  {
   "cell_type": "code",
   "execution_count": 5,
   "id": "6fd20a3c",
   "metadata": {},
   "outputs": [
    {
     "data": {
      "text/html": [
       "<div>\n",
       "<style scoped>\n",
       "    .dataframe tbody tr th:only-of-type {\n",
       "        vertical-align: middle;\n",
       "    }\n",
       "\n",
       "    .dataframe tbody tr th {\n",
       "        vertical-align: top;\n",
       "    }\n",
       "\n",
       "    .dataframe thead th {\n",
       "        text-align: right;\n",
       "    }\n",
       "</style>\n",
       "<table border=\"1\" class=\"dataframe\">\n",
       "  <thead>\n",
       "    <tr style=\"text-align: right;\">\n",
       "      <th></th>\n",
       "      <th>mean_speed</th>\n",
       "      <th>error_rate</th>\n",
       "      <th>collision_rate</th>\n",
       "    </tr>\n",
       "  </thead>\n",
       "  <tbody>\n",
       "    <tr>\n",
       "      <th>0</th>\n",
       "      <td>0.007375</td>\n",
       "      <td>0.060241</td>\n",
       "      <td>1.277108</td>\n",
       "    </tr>\n",
       "    <tr>\n",
       "      <th>1</th>\n",
       "      <td>0.011761</td>\n",
       "      <td>0.040541</td>\n",
       "      <td>0.500000</td>\n",
       "    </tr>\n",
       "    <tr>\n",
       "      <th>2</th>\n",
       "      <td>0.009670</td>\n",
       "      <td>0.075342</td>\n",
       "      <td>1.041096</td>\n",
       "    </tr>\n",
       "    <tr>\n",
       "      <th>3</th>\n",
       "      <td>0.011118</td>\n",
       "      <td>0.042254</td>\n",
       "      <td>0.676056</td>\n",
       "    </tr>\n",
       "    <tr>\n",
       "      <th>4</th>\n",
       "      <td>0.011613</td>\n",
       "      <td>0.006944</td>\n",
       "      <td>0.625000</td>\n",
       "    </tr>\n",
       "    <tr>\n",
       "      <th>5</th>\n",
       "      <td>0.013540</td>\n",
       "      <td>0.020979</td>\n",
       "      <td>0.391608</td>\n",
       "    </tr>\n",
       "  </tbody>\n",
       "</table>\n",
       "</div>"
      ],
      "text/plain": [
       "   mean_speed  error_rate  collision_rate\n",
       "0    0.007375    0.060241        1.277108\n",
       "1    0.011761    0.040541        0.500000\n",
       "2    0.009670    0.075342        1.041096\n",
       "3    0.011118    0.042254        0.676056\n",
       "4    0.011613    0.006944        0.625000\n",
       "5    0.013540    0.020979        0.391608"
      ]
     },
     "execution_count": 5,
     "metadata": {},
     "output_type": "execute_result"
    }
   ],
   "source": [
    "progress.columns=['mean_speed', 'error_rate', 'collision_rate']\n",
    "progress"
   ]
  },
  {
   "cell_type": "code",
   "execution_count": 6,
   "id": "5e02466f",
   "metadata": {},
   "outputs": [],
   "source": [
    "# def check_inf(row):\n",
    "#     if row['speed/errors'] == np.inf:\n",
    "#         row['speed/errors'] = row['mean_speed']\n",
    "#     return row"
   ]
  },
  {
   "cell_type": "code",
   "execution_count": 7,
   "id": "0a69a753",
   "metadata": {},
   "outputs": [],
   "source": [
    "# progress = progress.apply(check_inf,axis=1)"
   ]
  },
  {
   "cell_type": "markdown",
   "id": "811ffcb7",
   "metadata": {},
   "source": [
    "### plot ALL trials"
   ]
  },
  {
   "cell_type": "code",
   "execution_count": 8,
   "id": "e02b77cd",
   "metadata": {},
   "outputs": [
    {
     "data": {
      "image/png": "[encoded data removed]",
      "text/plain": [
       "<Figure size 432x288 with 1 Axes>"
      ]
     },
     "metadata": {
      "needs_background": "light"
     },
     "output_type": "display_data"
    }
   ],
   "source": [
    "plt.bar(progress.index,height=progress['mean_speed']);\n",
    "# plt.plot(progress['mean_svc_errors']);\n",
    "plt.gca().xaxis.set_major_locator(mticker.MultipleLocator(1))\n",
    "plt.xlabel('trial')\n",
    "plt.ylabel('mean speed/ m/msec');\n",
    "plt.title('mean speed by trial');"
   ]
  },
  {
   "cell_type": "code",
   "execution_count": 9,
   "id": "d9b999f8",
   "metadata": {},
   "outputs": [
    {
     "data": {
      "image/png": "[encoded data removed]",
      "text/plain": [
       "<Figure size 432x288 with 1 Axes>"
      ]
     },
     "metadata": {
      "needs_background": "light"
     },
     "output_type": "display_data"
    }
   ],
   "source": [
    "plt.bar(progress.index,height=progress['error_rate']);\n",
    "plt.xlabel('trial')\n",
    "plt.ylabel('error rate');\n",
    "plt.title('service error rate by trial');"
   ]
  },
  {
   "cell_type": "code",
   "execution_count": 10,
   "id": "67c86282",
   "metadata": {},
   "outputs": [
    {
     "data": {
      "image/png": "[encoded data removed]",
      "text/plain": [
       "<Figure size 432x288 with 1 Axes>"
      ]
     },
     "metadata": {
      "needs_background": "light"
     },
     "output_type": "display_data"
    }
   ],
   "source": [
    "plt.bar(progress.index,height=progress['collision_rate']);\n",
    "plt.xlabel('trial')\n",
    "plt.ylabel('collision rate');\n",
    "plt.title('collision rate by trial');"
   ]
  },
  {
   "cell_type": "code",
   "execution_count": 11,
   "id": "26065575",
   "metadata": {},
   "outputs": [],
   "source": [
    "class StopExecution(Exception):\n",
    "    def _render_traceback_(self):\n",
    "        pass\n",
    "    \n",
    "if patientid == 'P11':\n",
    "    chime.error()\n",
    "    print('P11 has no assess_2 trial')\n",
    "    raise StopExecution"
   ]
  },
  {
   "cell_type": "markdown",
   "id": "98087687",
   "metadata": {},
   "source": [
    "### plot only trials (not assess)"
   ]
  },
  {
   "cell_type": "code",
   "execution_count": 12,
   "id": "38112f8f",
   "metadata": {},
   "outputs": [
    {
     "data": {
      "text/html": [
       "<div>\n",
       "<style scoped>\n",
       "    .dataframe tbody tr th:only-of-type {\n",
       "        vertical-align: middle;\n",
       "    }\n",
       "\n",
       "    .dataframe tbody tr th {\n",
       "        vertical-align: top;\n",
       "    }\n",
       "\n",
       "    .dataframe thead th {\n",
       "        text-align: right;\n",
       "    }\n",
       "</style>\n",
       "<table border=\"1\" class=\"dataframe\">\n",
       "  <thead>\n",
       "    <tr style=\"text-align: right;\">\n",
       "      <th></th>\n",
       "      <th>mean_speed</th>\n",
       "      <th>error_rate</th>\n",
       "      <th>collision_rate</th>\n",
       "    </tr>\n",
       "  </thead>\n",
       "  <tbody>\n",
       "    <tr>\n",
       "      <th>1</th>\n",
       "      <td>0.009670</td>\n",
       "      <td>0.075342</td>\n",
       "      <td>1.041096</td>\n",
       "    </tr>\n",
       "    <tr>\n",
       "      <th>2</th>\n",
       "      <td>0.011118</td>\n",
       "      <td>0.042254</td>\n",
       "      <td>0.676056</td>\n",
       "    </tr>\n",
       "    <tr>\n",
       "      <th>3</th>\n",
       "      <td>0.011613</td>\n",
       "      <td>0.006944</td>\n",
       "      <td>0.625000</td>\n",
       "    </tr>\n",
       "    <tr>\n",
       "      <th>4</th>\n",
       "      <td>0.013540</td>\n",
       "      <td>0.020979</td>\n",
       "      <td>0.391608</td>\n",
       "    </tr>\n",
       "  </tbody>\n",
       "</table>\n",
       "</div>"
      ],
      "text/plain": [
       "   mean_speed  error_rate  collision_rate\n",
       "1    0.009670    0.075342        1.041096\n",
       "2    0.011118    0.042254        0.676056\n",
       "3    0.011613    0.006944        0.625000\n",
       "4    0.013540    0.020979        0.391608"
      ]
     },
     "execution_count": 12,
     "metadata": {},
     "output_type": "execute_result"
    }
   ],
   "source": [
    "temp = progress.iloc[2:].reset_index().drop(columns=['index'])\n",
    "temp.index = np.arange(1, len(temp)+1)\n",
    "temp"
   ]
  },
  {
   "cell_type": "code",
   "execution_count": 13,
   "id": "e1ef0d27",
   "metadata": {},
   "outputs": [
    {
     "data": {
      "image/png": "[encoded data removed]",
      "text/plain": [
       "<Figure size 432x288 with 1 Axes>"
      ]
     },
     "metadata": {
      "needs_background": "light"
     },
     "output_type": "display_data"
    }
   ],
   "source": [
    "temp = progress.iloc[2:].reset_index().drop(columns=['index'])\n",
    "temp.index = np.arange(1, len(temp)+1)\n",
    "plt.bar(temp.index,height=temp['mean_speed']);\n",
    "plt.xlabel('trial')\n",
    "plt.ylabel('mean speed/ m/msec');\n",
    "plt.ylim([0, 0.02])\n",
    "plt.gca().xaxis.set_major_locator(mticker.MultipleLocator(1))\n",
    "plt.title('mean speed by trial');\n",
    "plt.savefig(results_path + '\\mean_speed.png',bbox_inches = \"tight\")\n",
    "plt.show()"
   ]
  },
  {
   "cell_type": "code",
   "execution_count": 14,
   "id": "c2780990",
   "metadata": {},
   "outputs": [
    {
     "data": {
      "image/png": "[encoded data removed]",
      "text/plain": [
       "<Figure size 432x288 with 1 Axes>"
      ]
     },
     "metadata": {
      "needs_background": "light"
     },
     "output_type": "display_data"
    }
   ],
   "source": [
    "temp = progress.iloc[2:].reset_index().drop(columns=['index'])\n",
    "temp.index = np.arange(1, len(temp)+1)\n",
    "plt.bar(temp.index,height=temp['error_rate']);\n",
    "plt.xlabel('trial')\n",
    "# labels = ['1','2','3','4']\n",
    "# plt.xticks(temp.index, labels)\n",
    "plt.ylabel('error rate');\n",
    "plt.ylim([0, 0.3])\n",
    "plt.gca().xaxis.set_major_locator(mticker.MultipleLocator(1))\n",
    "plt.title('service error rate by trial');\n",
    "plt.savefig(results_path + '\\error_rate.png')\n",
    "plt.show()"
   ]
  },
  {
   "cell_type": "code",
   "execution_count": 15,
   "id": "f58d9612",
   "metadata": {},
   "outputs": [
    {
     "data": {
      "image/png": "[encoded data removed]",
      "text/plain": [
       "<Figure size 432x288 with 1 Axes>"
      ]
     },
     "metadata": {
      "needs_background": "light"
     },
     "output_type": "display_data"
    }
   ],
   "source": [
    "temp = progress.iloc[2:].reset_index().drop(columns=['index'])\n",
    "temp.index = np.arange(1, len(temp)+1)\n",
    "plt.bar(temp.index,height=temp['collision_rate']);\n",
    "plt.xlabel('trial')\n",
    "plt.ylabel('collision rate');\n",
    "plt.ylim([0, 2.5])\n",
    "plt.gca().xaxis.set_major_locator(mticker.MultipleLocator(1))\n",
    "plt.title('collision rate by trial');\n",
    "plt.savefig(results_path + '\\collision_rate.png')\n",
    "plt.show()"
   ]
  },
  {
   "cell_type": "markdown",
   "id": "e3260aa4",
   "metadata": {},
   "source": [
    "### plot only assessment trials"
   ]
  },
  {
   "cell_type": "code",
   "execution_count": 16,
   "id": "a97b737f",
   "metadata": {},
   "outputs": [
    {
     "data": {
      "text/html": [
       "<div>\n",
       "<style scoped>\n",
       "    .dataframe tbody tr th:only-of-type {\n",
       "        vertical-align: middle;\n",
       "    }\n",
       "\n",
       "    .dataframe tbody tr th {\n",
       "        vertical-align: top;\n",
       "    }\n",
       "\n",
       "    .dataframe thead th {\n",
       "        text-align: right;\n",
       "    }\n",
       "</style>\n",
       "<table border=\"1\" class=\"dataframe\">\n",
       "  <thead>\n",
       "    <tr style=\"text-align: right;\">\n",
       "      <th></th>\n",
       "      <th>mean_speed</th>\n",
       "      <th>error_rate</th>\n",
       "      <th>collision_rate</th>\n",
       "    </tr>\n",
       "  </thead>\n",
       "  <tbody>\n",
       "    <tr>\n",
       "      <th>1</th>\n",
       "      <td>0.007375</td>\n",
       "      <td>0.060241</td>\n",
       "      <td>1.277108</td>\n",
       "    </tr>\n",
       "    <tr>\n",
       "      <th>2</th>\n",
       "      <td>0.011761</td>\n",
       "      <td>0.040541</td>\n",
       "      <td>0.500000</td>\n",
       "    </tr>\n",
       "  </tbody>\n",
       "</table>\n",
       "</div>"
      ],
      "text/plain": [
       "   mean_speed  error_rate  collision_rate\n",
       "1    0.007375    0.060241        1.277108\n",
       "2    0.011761    0.040541        0.500000"
      ]
     },
     "execution_count": 16,
     "metadata": {},
     "output_type": "execute_result"
    }
   ],
   "source": [
    "assess = progress.iloc[0:2].reset_index().drop(columns=['index'])\n",
    "assess.index = np.arange(1, len(assess)+1)\n",
    "assess"
   ]
  },
  {
   "cell_type": "code",
   "execution_count": 17,
   "id": "f9466b61",
   "metadata": {},
   "outputs": [
    {
     "data": {
      "image/png": "[encoded data removed]",
      "text/plain": [
       "<Figure size 432x288 with 1 Axes>"
      ]
     },
     "metadata": {
      "needs_background": "light"
     },
     "output_type": "display_data"
    }
   ],
   "source": [
    "assess = progress.iloc[0:2].reset_index().drop(columns=['index'])\n",
    "assess.index = np.arange(1, len(assess)+1)\n",
    "plt.bar(assess.index,height=assess['mean_speed']);\n",
    "plt.xlabel('trial')\n",
    "plt.ylabel('mean speed/ m/msec');\n",
    "plt.ylim([0, 0.02])\n",
    "plt.gca().xaxis.set_major_locator(mticker.MultipleLocator(1))\n",
    "plt.title('mean speed by trial');\n",
    "plt.savefig(results_path + '\\\\assess_mean_speed.png',bbox_inches = \"tight\")\n",
    "plt.show()"
   ]
  },
  {
   "cell_type": "code",
   "execution_count": 18,
   "id": "6a872f1c",
   "metadata": {},
   "outputs": [
    {
     "data": {
      "image/png": "[encoded data removed]",
      "text/plain": [
       "<Figure size 432x288 with 1 Axes>"
      ]
     },
     "metadata": {
      "needs_background": "light"
     },
     "output_type": "display_data"
    }
   ],
   "source": [
    "assess = progress.iloc[0:2].reset_index().drop(columns=['index'])\n",
    "assess.index = np.arange(1, len(assess)+1)\n",
    "plt.bar(assess.index,height=assess['error_rate']);\n",
    "plt.xlabel('trial')\n",
    "# labels = ['1','2','3','4']\n",
    "# plt.xticks(temp.index, labels)\n",
    "plt.ylabel('error rate');\n",
    "plt.ylim([0, 0.3])\n",
    "plt.gca().xaxis.set_major_locator(mticker.MultipleLocator(1))\n",
    "plt.title('service error rate by trial');\n",
    "plt.savefig(results_path + '\\\\assess_error_rate.png')\n",
    "plt.show()"
   ]
  },
  {
   "cell_type": "code",
   "execution_count": 19,
   "id": "34908ffb",
   "metadata": {},
   "outputs": [
    {
     "data": {
      "image/png": "[encoded data removed]",
      "text/plain": [
       "<Figure size 432x288 with 1 Axes>"
      ]
     },
     "metadata": {
      "needs_background": "light"
     },
     "output_type": "display_data"
    }
   ],
   "source": [
    "assess = progress.iloc[0:2].reset_index().drop(columns=['index'])\n",
    "assess.index = np.arange(1, len(assess)+1)\n",
    "plt.bar(assess.index,height=assess['collision_rate']);\n",
    "plt.xlabel('trial')\n",
    "plt.ylabel('collision rate');\n",
    "plt.ylim([0, 2.5])\n",
    "plt.gca().xaxis.set_major_locator(mticker.MultipleLocator(1))\n",
    "plt.title('collision rate by trial');\n",
    "plt.savefig(results_path + '\\\\assess_collision_rate.png')\n",
    "plt.show()"
   ]
  },
  {
   "cell_type": "code",
   "execution_count": 20,
   "id": "aa1957a1",
   "metadata": {},
   "outputs": [],
   "source": [
    "%chime"
   ]
  }
 ],
 "metadata": {
  "kernelspec": {
   "display_name": "Python 3",
   "language": "python",
   "name": "python3"
  },
  "language_info": {
   "codemirror_mode": {
    "name": "ipython",
    "version": 3
   },
   "file_extension": ".py",
   "mimetype": "text/x-python",
   "name": "python",
   "nbconvert_exporter": "python",
   "pygments_lexer": "ipython3",
   "version": "3.8.8"
  },
  "toc": {
   "base_numbering": 1,
   "nav_menu": {},
   "number_sections": true,
   "sideBar": true,
   "skip_h1_title": false,
   "title_cell": "Table of Contents",
   "title_sidebar": "Contents",
   "toc_cell": false,
   "toc_position": {},
   "toc_section_display": true,
   "toc_window_display": true
  }
 },
 "nbformat": 4,
 "nbformat_minor": 5
}
