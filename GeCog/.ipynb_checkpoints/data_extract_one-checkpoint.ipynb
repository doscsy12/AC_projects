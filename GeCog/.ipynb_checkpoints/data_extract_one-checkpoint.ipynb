{
 "cells": [
  {
   "cell_type": "markdown",
   "id": "0d048bec",
   "metadata": {},
   "source": [
    "## GeCog data analysis"
   ]
  },
  {
   "cell_type": "markdown",
   "id": "4b2071a0",
   "metadata": {},
   "source": [
    "*import libraries*"
   ]
  },
  {
   "cell_type": "code",
   "execution_count": 1,
   "id": "9c23cb56",
   "metadata": {},
   "outputs": [],
   "source": [
    "import pandas as pd\n",
    "import numpy as np\n",
    "import seaborn as sns\n",
    "import matplotlib.pyplot as plt\n",
    "%matplotlib inline\n",
    "import datetime \n",
    "from scipy import interpolate\n",
    "import statistics\n"
   ]
  },
  {
   "cell_type": "code",
   "execution_count": 2,
   "id": "062ba5d5",
   "metadata": {},
   "outputs": [],
   "source": [
    "import warnings\n",
    "warnings.filterwarnings(\"ignore\")"
   ]
  },
  {
   "cell_type": "code",
   "execution_count": 3,
   "id": "07d87986",
   "metadata": {},
   "outputs": [],
   "source": [
    "pd.options.display.max_rows = 50"
   ]
  },
  {
   "cell_type": "markdown",
   "id": "5185625f",
   "metadata": {},
   "source": [
    "### Data"
   ]
  },
  {
   "cell_type": "markdown",
   "id": "128ebacb",
   "metadata": {},
   "source": [
    "insert patient and trial of interest"
   ]
  },
  {
   "cell_type": "code",
   "execution_count": 4,
   "id": "f377aaff",
   "metadata": {},
   "outputs": [],
   "source": [
    "patient_nr = 'P13'\n",
    "filename = 'B_Test_002_1_220905_134107'"
   ]
  },
  {
   "cell_type": "markdown",
   "id": "169d7dca",
   "metadata": {},
   "source": [
    "**H-MAN sensor data (FILE_ID.dat)**"
   ]
  },
  {
   "cell_type": "markdown",
   "id": "6de28481",
   "metadata": {},
   "source": [
    "files are saved accordingly ...../data/P12/(filename)"
   ]
  },
  {
   "cell_type": "code",
   "execution_count": 5,
   "id": "60ebe339",
   "metadata": {},
   "outputs": [
    {
     "data": {
      "text/html": [
       "<div>\n",
       "<style scoped>\n",
       "    .dataframe tbody tr th:only-of-type {\n",
       "        vertical-align: middle;\n",
       "    }\n",
       "\n",
       "    .dataframe tbody tr th {\n",
       "        vertical-align: top;\n",
       "    }\n",
       "\n",
       "    .dataframe thead th {\n",
       "        text-align: right;\n",
       "    }\n",
       "</style>\n",
       "<table border=\"1\" class=\"dataframe\">\n",
       "  <thead>\n",
       "    <tr style=\"text-align: right;\">\n",
       "      <th></th>\n",
       "      <th>Time_msec</th>\n",
       "      <th>RawDataX</th>\n",
       "      <th>RawDataY</th>\n",
       "      <th>RawDataTorqueLeft</th>\n",
       "      <th>RawDataTorqueRight</th>\n",
       "    </tr>\n",
       "  </thead>\n",
       "  <tbody>\n",
       "    <tr>\n",
       "      <th>0</th>\n",
       "      <td>20</td>\n",
       "      <td>0.159367</td>\n",
       "      <td>0.210336</td>\n",
       "      <td>0.0</td>\n",
       "      <td>0.0</td>\n",
       "    </tr>\n",
       "    <tr>\n",
       "      <th>1</th>\n",
       "      <td>60</td>\n",
       "      <td>0.159367</td>\n",
       "      <td>0.210336</td>\n",
       "      <td>0.0</td>\n",
       "      <td>0.0</td>\n",
       "    </tr>\n",
       "    <tr>\n",
       "      <th>2</th>\n",
       "      <td>70</td>\n",
       "      <td>0.159367</td>\n",
       "      <td>0.210336</td>\n",
       "      <td>0.0</td>\n",
       "      <td>0.0</td>\n",
       "    </tr>\n",
       "    <tr>\n",
       "      <th>3</th>\n",
       "      <td>80</td>\n",
       "      <td>0.159367</td>\n",
       "      <td>0.210336</td>\n",
       "      <td>0.0</td>\n",
       "      <td>0.0</td>\n",
       "    </tr>\n",
       "    <tr>\n",
       "      <th>4</th>\n",
       "      <td>100</td>\n",
       "      <td>0.159367</td>\n",
       "      <td>0.210336</td>\n",
       "      <td>0.0</td>\n",
       "      <td>0.0</td>\n",
       "    </tr>\n",
       "    <tr>\n",
       "      <th>...</th>\n",
       "      <td>...</td>\n",
       "      <td>...</td>\n",
       "      <td>...</td>\n",
       "      <td>...</td>\n",
       "      <td>...</td>\n",
       "    </tr>\n",
       "    <tr>\n",
       "      <th>8825</th>\n",
       "      <td>192030</td>\n",
       "      <td>0.137778</td>\n",
       "      <td>0.047853</td>\n",
       "      <td>0.0</td>\n",
       "      <td>0.0</td>\n",
       "    </tr>\n",
       "    <tr>\n",
       "      <th>8826</th>\n",
       "      <td>192050</td>\n",
       "      <td>0.137778</td>\n",
       "      <td>0.047853</td>\n",
       "      <td>0.0</td>\n",
       "      <td>0.0</td>\n",
       "    </tr>\n",
       "    <tr>\n",
       "      <th>8827</th>\n",
       "      <td>192060</td>\n",
       "      <td>0.137778</td>\n",
       "      <td>0.047853</td>\n",
       "      <td>0.0</td>\n",
       "      <td>0.0</td>\n",
       "    </tr>\n",
       "    <tr>\n",
       "      <th>8828</th>\n",
       "      <td>192080</td>\n",
       "      <td>0.137778</td>\n",
       "      <td>0.047853</td>\n",
       "      <td>0.0</td>\n",
       "      <td>0.0</td>\n",
       "    </tr>\n",
       "    <tr>\n",
       "      <th>8829</th>\n",
       "      <td>192110</td>\n",
       "      <td>0.137778</td>\n",
       "      <td>0.047853</td>\n",
       "      <td>0.0</td>\n",
       "      <td>0.0</td>\n",
       "    </tr>\n",
       "  </tbody>\n",
       "</table>\n",
       "<p>8830 rows × 5 columns</p>\n",
       "</div>"
      ],
      "text/plain": [
       "      Time_msec  RawDataX  RawDataY  RawDataTorqueLeft  RawDataTorqueRight\n",
       "0            20  0.159367  0.210336                0.0                 0.0\n",
       "1            60  0.159367  0.210336                0.0                 0.0\n",
       "2            70  0.159367  0.210336                0.0                 0.0\n",
       "3            80  0.159367  0.210336                0.0                 0.0\n",
       "4           100  0.159367  0.210336                0.0                 0.0\n",
       "...         ...       ...       ...                ...                 ...\n",
       "8825     192030  0.137778  0.047853                0.0                 0.0\n",
       "8826     192050  0.137778  0.047853                0.0                 0.0\n",
       "8827     192060  0.137778  0.047853                0.0                 0.0\n",
       "8828     192080  0.137778  0.047853                0.0                 0.0\n",
       "8829     192110  0.137778  0.047853                0.0                 0.0\n",
       "\n",
       "[8830 rows x 5 columns]"
      ]
     },
     "execution_count": 5,
     "metadata": {},
     "output_type": "execute_result"
    }
   ],
   "source": [
    "df = pd.read_csv('./data/' + patient_nr + '/' + filename + '.dat', sep='\\t+', header=[1])\n",
    "df"
   ]
  },
  {
   "cell_type": "code",
   "execution_count": 6,
   "id": "72af310a",
   "metadata": {},
   "outputs": [],
   "source": [
    "df.columns = df.columns.str.lower()"
   ]
  },
  {
   "cell_type": "markdown",
   "id": "441df79c",
   "metadata": {},
   "source": [
    "**Time-stamped data (FILE_ID.tsd)**"
   ]
  },
  {
   "cell_type": "code",
   "execution_count": 7,
   "id": "55ebf828",
   "metadata": {},
   "outputs": [
    {
     "data": {
      "text/html": [
       "<div>\n",
       "<style scoped>\n",
       "    .dataframe tbody tr th:only-of-type {\n",
       "        vertical-align: middle;\n",
       "    }\n",
       "\n",
       "    .dataframe tbody tr th {\n",
       "        vertical-align: top;\n",
       "    }\n",
       "\n",
       "    .dataframe thead th {\n",
       "        text-align: right;\n",
       "    }\n",
       "</style>\n",
       "<table border=\"1\" class=\"dataframe\">\n",
       "  <thead>\n",
       "    <tr style=\"text-align: right;\">\n",
       "      <th></th>\n",
       "      <th>t</th>\n",
       "      <th>event_type</th>\n",
       "      <th>Obstacles/Outcome</th>\n",
       "    </tr>\n",
       "  </thead>\n",
       "  <tbody>\n",
       "    <tr>\n",
       "      <th>0</th>\n",
       "      <td>10</td>\n",
       "      <td>service_event_start</td>\n",
       "      <td>0</td>\n",
       "    </tr>\n",
       "    <tr>\n",
       "      <th>1</th>\n",
       "      <td>4335</td>\n",
       "      <td>collision</td>\n",
       "      <td>1</td>\n",
       "    </tr>\n",
       "    <tr>\n",
       "      <th>2</th>\n",
       "      <td>5200</td>\n",
       "      <td>collision</td>\n",
       "      <td>1</td>\n",
       "    </tr>\n",
       "    <tr>\n",
       "      <th>3</th>\n",
       "      <td>6555</td>\n",
       "      <td>retrieval</td>\n",
       "      <td>0</td>\n",
       "    </tr>\n",
       "    <tr>\n",
       "      <th>4</th>\n",
       "      <td>7535</td>\n",
       "      <td>outcome_type</td>\n",
       "      <td>1</td>\n",
       "    </tr>\n",
       "    <tr>\n",
       "      <th>...</th>\n",
       "      <td>...</td>\n",
       "      <td>...</td>\n",
       "      <td>...</td>\n",
       "    </tr>\n",
       "    <tr>\n",
       "      <th>123</th>\n",
       "      <td>187110</td>\n",
       "      <td>outcome_type</td>\n",
       "      <td>3</td>\n",
       "    </tr>\n",
       "    <tr>\n",
       "      <th>124</th>\n",
       "      <td>187110</td>\n",
       "      <td>service_event_end</td>\n",
       "      <td>3</td>\n",
       "    </tr>\n",
       "    <tr>\n",
       "      <th>125</th>\n",
       "      <td>187110</td>\n",
       "      <td>service_event_start</td>\n",
       "      <td>0</td>\n",
       "    </tr>\n",
       "    <tr>\n",
       "      <th>126</th>\n",
       "      <td>190775</td>\n",
       "      <td>collision</td>\n",
       "      <td>1</td>\n",
       "    </tr>\n",
       "    <tr>\n",
       "      <th>127</th>\n",
       "      <td>192120</td>\n",
       "      <td>retrieval</td>\n",
       "      <td>0</td>\n",
       "    </tr>\n",
       "  </tbody>\n",
       "</table>\n",
       "<p>128 rows × 3 columns</p>\n",
       "</div>"
      ],
      "text/plain": [
       "        t            event_type      Obstacles/Outcome\n",
       "0        10  service_event_start                     0\n",
       "1      4335            collision                     1\n",
       "2      5200            collision                     1\n",
       "3      6555            retrieval                     0\n",
       "4      7535         outcome_type                     1\n",
       "..      ...                  ...                   ...\n",
       "123  187110         outcome_type                     3\n",
       "124  187110    service_event_end                     3\n",
       "125  187110  service_event_start                     0\n",
       "126  190775            collision                     1\n",
       "127  192120            retrieval                     0\n",
       "\n",
       "[128 rows x 3 columns]"
      ]
     },
     "execution_count": 7,
     "metadata": {},
     "output_type": "execute_result"
    }
   ],
   "source": [
    "tsd = pd.read_csv('./data/' + patient_nr + '/' + filename + '.tsd', sep='\\t+', header=[1])\n",
    "tsd"
   ]
  },
  {
   "cell_type": "code",
   "execution_count": 8,
   "id": "b36f98d8",
   "metadata": {},
   "outputs": [],
   "source": [
    "tsd.columns = tsd.columns.str.replace(' ','')\n",
    "tsd.columns = tsd.columns.str.replace('/','_')\n",
    "tsd.columns = tsd.columns.str.lower() "
   ]
  },
  {
   "cell_type": "code",
   "execution_count": 9,
   "id": "8a50e20c",
   "metadata": {},
   "outputs": [
    {
     "data": {
      "text/plain": [
       "array(['service_event_start', 'collision', 'retrieval', 'outcome_type',\n",
       "       'service_event_end', 'help'], dtype=object)"
      ]
     },
     "execution_count": 9,
     "metadata": {},
     "output_type": "execute_result"
    }
   ],
   "source": [
    "tsd['event_type'].unique()"
   ]
  },
  {
   "cell_type": "code",
   "execution_count": 10,
   "id": "6c43f6bb",
   "metadata": {},
   "outputs": [
    {
     "data": {
      "text/plain": [
       "1    18\n",
       "3     9\n",
       "2     2\n",
       "Name: obstacles_outcome, dtype: int64"
      ]
     },
     "execution_count": 10,
     "metadata": {},
     "output_type": "execute_result"
    }
   ],
   "source": [
    "tsd[tsd['event_type']=='outcome_type']['obstacles_outcome'].value_counts()"
   ]
  },
  {
   "cell_type": "markdown",
   "id": "7fb3b217",
   "metadata": {},
   "source": [
    "what is 'outcome_type'? "
   ]
  },
  {
   "cell_type": "markdown",
   "id": "461dc4b4",
   "metadata": {},
   "source": [
    "**Game parameters (FILE_ID.par)**"
   ]
  },
  {
   "cell_type": "code",
   "execution_count": 11,
   "id": "783772bf",
   "metadata": {},
   "outputs": [],
   "source": [
    "par = pd.read_csv('./data/' + patient_nr + '/' + filename + '.par', header=[0])"
   ]
  },
  {
   "cell_type": "code",
   "execution_count": 12,
   "id": "0b7bc3df",
   "metadata": {},
   "outputs": [],
   "source": [
    "# converting to one column \n",
    "par.set_axis(['gameparameters'], axis=1, inplace=True)\n",
    "par = par['gameparameters'].str.split(' ', expand=True)\n",
    "par = par.rename(columns={0: 'gameparameter'})\n",
    "par[3][0:7] = par[2][0:7]\n",
    "par[2][0:7] = ''\n",
    "cols1 = ['gameparameter', 1, 2]\n",
    "par['gameparameter'] = par[cols1].apply(lambda row: ''.join(row.values.astype(str)), axis=1)\n",
    "par.drop(columns=[1,2],inplace=True)\n",
    "cols2 = [3,4,5,6]\n",
    "par.iloc[7:10][3] = par[cols2].apply(lambda row: ','.join(row.values.astype(str)), axis=1)\n",
    "par.drop(columns=[4,5,6],inplace=True)\n",
    "par = par.rename(columns={3: 'value'})"
   ]
  },
  {
   "cell_type": "code",
   "execution_count": 13,
   "id": "ce942576",
   "metadata": {},
   "outputs": [
    {
     "data": {
      "text/html": [
       "<div>\n",
       "<style scoped>\n",
       "    .dataframe tbody tr th:only-of-type {\n",
       "        vertical-align: middle;\n",
       "    }\n",
       "\n",
       "    .dataframe tbody tr th {\n",
       "        vertical-align: top;\n",
       "    }\n",
       "\n",
       "    .dataframe thead th {\n",
       "        text-align: right;\n",
       "    }\n",
       "</style>\n",
       "<table border=\"1\" class=\"dataframe\">\n",
       "  <thead>\n",
       "    <tr style=\"text-align: right;\">\n",
       "      <th></th>\n",
       "      <th>gameparameter</th>\n",
       "      <th>value</th>\n",
       "    </tr>\n",
       "  </thead>\n",
       "  <tbody>\n",
       "    <tr>\n",
       "      <th>0</th>\n",
       "      <td>CustomerCount:</td>\n",
       "      <td>12</td>\n",
       "    </tr>\n",
       "    <tr>\n",
       "      <th>1</th>\n",
       "      <td>SessionTimeout:</td>\n",
       "      <td>30</td>\n",
       "    </tr>\n",
       "    <tr>\n",
       "      <th>2</th>\n",
       "      <td>FadeOutTime:</td>\n",
       "      <td>15</td>\n",
       "    </tr>\n",
       "    <tr>\n",
       "      <th>3</th>\n",
       "      <td>CustomerArrivalTime:</td>\n",
       "      <td>4</td>\n",
       "    </tr>\n",
       "    <tr>\n",
       "      <th>4</th>\n",
       "      <td>TotalBlocks:</td>\n",
       "      <td>2</td>\n",
       "    </tr>\n",
       "    <tr>\n",
       "      <th>5</th>\n",
       "      <td>CognitiveLevel:</td>\n",
       "      <td>3</td>\n",
       "    </tr>\n",
       "    <tr>\n",
       "      <th>6</th>\n",
       "      <td>HapticsLevel:</td>\n",
       "      <td>1</td>\n",
       "    </tr>\n",
       "    <tr>\n",
       "      <th>7</th>\n",
       "      <td>DampingMatrixA:</td>\n",
       "      <td>100,200,0,0</td>\n",
       "    </tr>\n",
       "    <tr>\n",
       "      <th>8</th>\n",
       "      <td>DampingMatrixB:</td>\n",
       "      <td>0,0,0,0</td>\n",
       "    </tr>\n",
       "    <tr>\n",
       "      <th>9</th>\n",
       "      <td>DampingMatrixC:</td>\n",
       "      <td>-30,-30,20,20</td>\n",
       "    </tr>\n",
       "  </tbody>\n",
       "</table>\n",
       "</div>"
      ],
      "text/plain": [
       "          gameparameter          value\n",
       "0        CustomerCount:             12\n",
       "1       SessionTimeout:             30\n",
       "2          FadeOutTime:             15\n",
       "3  CustomerArrivalTime:              4\n",
       "4          TotalBlocks:              2\n",
       "5       CognitiveLevel:              3\n",
       "6         HapticsLevel:              1\n",
       "7       DampingMatrixA:    100,200,0,0\n",
       "8       DampingMatrixB:        0,0,0,0\n",
       "9       DampingMatrixC:  -30,-30,20,20"
      ]
     },
     "execution_count": 13,
     "metadata": {},
     "output_type": "execute_result"
    }
   ],
   "source": [
    "par"
   ]
  },
  {
   "cell_type": "markdown",
   "id": "5b27f196",
   "metadata": {},
   "source": [
    "**Researcher reports (FILE_ID.rep)**"
   ]
  },
  {
   "cell_type": "code",
   "execution_count": 14,
   "id": "3fb5c706",
   "metadata": {},
   "outputs": [],
   "source": [
    "rep = pd.read_csv('./data/' + patient_nr + '/' + filename + '.rep', header=[0])"
   ]
  },
  {
   "cell_type": "code",
   "execution_count": 15,
   "id": "5bcd4b0d",
   "metadata": {},
   "outputs": [],
   "source": [
    "# converting to one column \n",
    "rep.set_axis(['patientid'], axis=1, inplace=True)\n",
    "rep = rep['patientid'].str.split(' ', n=1, expand=True)\n",
    "rep = rep.rename(columns={0 : 'parameter', 1 : 'value'})\n",
    "rep['value'] = rep['value'].str.replace(' ','')"
   ]
  },
  {
   "cell_type": "code",
   "execution_count": 16,
   "id": "7bc0506f",
   "metadata": {},
   "outputs": [
    {
     "data": {
      "text/html": [
       "<div>\n",
       "<style scoped>\n",
       "    .dataframe tbody tr th:only-of-type {\n",
       "        vertical-align: middle;\n",
       "    }\n",
       "\n",
       "    .dataframe tbody tr th {\n",
       "        vertical-align: top;\n",
       "    }\n",
       "\n",
       "    .dataframe thead th {\n",
       "        text-align: right;\n",
       "    }\n",
       "</style>\n",
       "<table border=\"1\" class=\"dataframe\">\n",
       "  <thead>\n",
       "    <tr style=\"text-align: right;\">\n",
       "      <th></th>\n",
       "      <th>parameter</th>\n",
       "      <th>value</th>\n",
       "    </tr>\n",
       "  </thead>\n",
       "  <tbody>\n",
       "    <tr>\n",
       "      <th>0</th>\n",
       "      <td>Patient</td>\n",
       "      <td>ID:Test_002</td>\n",
       "    </tr>\n",
       "    <tr>\n",
       "      <th>1</th>\n",
       "      <td>SessionTerminationCondition</td>\n",
       "      <td>Completed</td>\n",
       "    </tr>\n",
       "    <tr>\n",
       "      <th>2</th>\n",
       "      <td>SessionDuration</td>\n",
       "      <td>3.28</td>\n",
       "    </tr>\n",
       "    <tr>\n",
       "      <th>3</th>\n",
       "      <td>sumofOutcomesType1</td>\n",
       "      <td>18</td>\n",
       "    </tr>\n",
       "    <tr>\n",
       "      <th>4</th>\n",
       "      <td>sumofOutcomesType2</td>\n",
       "      <td>2</td>\n",
       "    </tr>\n",
       "    <tr>\n",
       "      <th>5</th>\n",
       "      <td>sumofOutcomesType3</td>\n",
       "      <td>9</td>\n",
       "    </tr>\n",
       "    <tr>\n",
       "      <th>6</th>\n",
       "      <td>TotalCustomersServed</td>\n",
       "      <td>20</td>\n",
       "    </tr>\n",
       "    <tr>\n",
       "      <th>7</th>\n",
       "      <td>AverageReactionTime</td>\n",
       "      <td>5.174273</td>\n",
       "    </tr>\n",
       "    <tr>\n",
       "      <th>8</th>\n",
       "      <td>AverageSpeed</td>\n",
       "      <td>2</td>\n",
       "    </tr>\n",
       "    <tr>\n",
       "      <th>9</th>\n",
       "      <td>CollisionRate</td>\n",
       "      <td>0</td>\n",
       "    </tr>\n",
       "    <tr>\n",
       "      <th>10</th>\n",
       "      <td>CumulativePointScoreCognitive</td>\n",
       "      <td>76</td>\n",
       "    </tr>\n",
       "    <tr>\n",
       "      <th>11</th>\n",
       "      <td>CumulativePointScoreMotor</td>\n",
       "      <td>53</td>\n",
       "    </tr>\n",
       "  </tbody>\n",
       "</table>\n",
       "</div>"
      ],
      "text/plain": [
       "                        parameter        value\n",
       "0                         Patient  ID:Test_002\n",
       "1     SessionTerminationCondition    Completed\n",
       "2                 SessionDuration         3.28\n",
       "3              sumofOutcomesType1           18\n",
       "4              sumofOutcomesType2            2\n",
       "5              sumofOutcomesType3            9\n",
       "6            TotalCustomersServed           20\n",
       "7             AverageReactionTime     5.174273\n",
       "8                    AverageSpeed            2\n",
       "9                   CollisionRate            0\n",
       "10  CumulativePointScoreCognitive           76\n",
       "11      CumulativePointScoreMotor           53"
      ]
     },
     "execution_count": 16,
     "metadata": {},
     "output_type": "execute_result"
    }
   ],
   "source": [
    "rep"
   ]
  },
  {
   "cell_type": "markdown",
   "id": "0817f9cd",
   "metadata": {},
   "source": [
    "**quality timestamp check**"
   ]
  },
  {
   "cell_type": "code",
   "execution_count": 17,
   "id": "08db2115",
   "metadata": {},
   "outputs": [
    {
     "name": "stdout",
     "output_type": "stream",
     "text": [
      "pass\n"
     ]
    }
   ],
   "source": [
    "diff = abs(tsd['t'].iloc[-1] - df['time_msec'].iloc[-1])\n",
    "if diff > 10:\n",
    "    print(f'{diff}, TIME DISCREPANCY IN DATA')\n",
    "else:\n",
    "    print('pass')"
   ]
  },
  {
   "cell_type": "markdown",
   "id": "4e9be90c",
   "metadata": {},
   "source": [
    "### EDA"
   ]
  },
  {
   "cell_type": "markdown",
   "id": "beba26e3",
   "metadata": {},
   "source": [
    "#### wrt svc_event"
   ]
  },
  {
   "cell_type": "markdown",
   "id": "01a14038",
   "metadata": {},
   "source": [
    "##### interpolate sensor data"
   ]
  },
  {
   "cell_type": "code",
   "execution_count": 18,
   "id": "b5691635",
   "metadata": {},
   "outputs": [],
   "source": [
    "# check duplicates\n",
    "ids = df['time_msec']\n",
    "df[ids.isin(ids[ids.duplicated()])]\n",
    "\n",
    "# drop duplicates\n",
    "df = df.drop_duplicates(subset=['time_msec'],keep='first')\n",
    "df = df.set_index('time_msec')\n",
    "df = df.reindex(range(0,df.index.astype(int)[-1]+1), fill_value=np.nan)\n",
    "df = df.reset_index()\n",
    "\n",
    "df.drop(labels=0,axis=0,inplace=True)  # drop index=0\n",
    "\n",
    "# interpolate\n",
    "df['rawdatax'] = df['rawdatax'].interpolate().values.ravel().tolist()\n",
    "df['rawdatay'] = df['rawdatay'].interpolate().values.ravel().tolist()"
   ]
  },
  {
   "cell_type": "markdown",
   "id": "21ef07e0",
   "metadata": {},
   "source": [
    "**merge main**"
   ]
  },
  {
   "cell_type": "code",
   "execution_count": 19,
   "id": "6e1b8575",
   "metadata": {},
   "outputs": [
    {
     "data": {
      "text/html": [
       "<div>\n",
       "<style scoped>\n",
       "    .dataframe tbody tr th:only-of-type {\n",
       "        vertical-align: middle;\n",
       "    }\n",
       "\n",
       "    .dataframe tbody tr th {\n",
       "        vertical-align: top;\n",
       "    }\n",
       "\n",
       "    .dataframe thead th {\n",
       "        text-align: right;\n",
       "    }\n",
       "</style>\n",
       "<table border=\"1\" class=\"dataframe\">\n",
       "  <thead>\n",
       "    <tr style=\"text-align: right;\">\n",
       "      <th></th>\n",
       "      <th>t</th>\n",
       "      <th>event_type</th>\n",
       "      <th>obstacles_outcome</th>\n",
       "      <th>time_msec</th>\n",
       "      <th>rawdatax</th>\n",
       "      <th>rawdatay</th>\n",
       "      <th>rawdatatorqueleft</th>\n",
       "      <th>rawdatatorqueright</th>\n",
       "    </tr>\n",
       "  </thead>\n",
       "  <tbody>\n",
       "    <tr>\n",
       "      <th>0</th>\n",
       "      <td>10</td>\n",
       "      <td>service_event_start</td>\n",
       "      <td>0</td>\n",
       "      <td>10.0</td>\n",
       "      <td>NaN</td>\n",
       "      <td>NaN</td>\n",
       "      <td>NaN</td>\n",
       "      <td>NaN</td>\n",
       "    </tr>\n",
       "    <tr>\n",
       "      <th>1</th>\n",
       "      <td>4335</td>\n",
       "      <td>collision</td>\n",
       "      <td>1</td>\n",
       "      <td>4335.0</td>\n",
       "      <td>0.224360</td>\n",
       "      <td>0.184751</td>\n",
       "      <td>0.0</td>\n",
       "      <td>0.0</td>\n",
       "    </tr>\n",
       "    <tr>\n",
       "      <th>2</th>\n",
       "      <td>5200</td>\n",
       "      <td>collision</td>\n",
       "      <td>1</td>\n",
       "      <td>5200.0</td>\n",
       "      <td>0.226069</td>\n",
       "      <td>0.180026</td>\n",
       "      <td>0.0</td>\n",
       "      <td>0.0</td>\n",
       "    </tr>\n",
       "    <tr>\n",
       "      <th>3</th>\n",
       "      <td>6555</td>\n",
       "      <td>retrieval</td>\n",
       "      <td>0</td>\n",
       "      <td>6555.0</td>\n",
       "      <td>0.229764</td>\n",
       "      <td>0.175829</td>\n",
       "      <td>0.0</td>\n",
       "      <td>0.0</td>\n",
       "    </tr>\n",
       "    <tr>\n",
       "      <th>4</th>\n",
       "      <td>7535</td>\n",
       "      <td>outcome_type</td>\n",
       "      <td>1</td>\n",
       "      <td>7535.0</td>\n",
       "      <td>0.184525</td>\n",
       "      <td>0.220263</td>\n",
       "      <td>0.0</td>\n",
       "      <td>0.0</td>\n",
       "    </tr>\n",
       "    <tr>\n",
       "      <th>...</th>\n",
       "      <td>...</td>\n",
       "      <td>...</td>\n",
       "      <td>...</td>\n",
       "      <td>...</td>\n",
       "      <td>...</td>\n",
       "      <td>...</td>\n",
       "      <td>...</td>\n",
       "      <td>...</td>\n",
       "    </tr>\n",
       "    <tr>\n",
       "      <th>123</th>\n",
       "      <td>187110</td>\n",
       "      <td>outcome_type</td>\n",
       "      <td>3</td>\n",
       "      <td>187110.0</td>\n",
       "      <td>0.092275</td>\n",
       "      <td>0.218806</td>\n",
       "      <td>NaN</td>\n",
       "      <td>NaN</td>\n",
       "    </tr>\n",
       "    <tr>\n",
       "      <th>124</th>\n",
       "      <td>187110</td>\n",
       "      <td>service_event_end</td>\n",
       "      <td>3</td>\n",
       "      <td>187110.0</td>\n",
       "      <td>0.092275</td>\n",
       "      <td>0.218806</td>\n",
       "      <td>NaN</td>\n",
       "      <td>NaN</td>\n",
       "    </tr>\n",
       "    <tr>\n",
       "      <th>125</th>\n",
       "      <td>187110</td>\n",
       "      <td>service_event_start</td>\n",
       "      <td>0</td>\n",
       "      <td>187110.0</td>\n",
       "      <td>0.092275</td>\n",
       "      <td>0.218806</td>\n",
       "      <td>NaN</td>\n",
       "      <td>NaN</td>\n",
       "    </tr>\n",
       "    <tr>\n",
       "      <th>126</th>\n",
       "      <td>190775</td>\n",
       "      <td>collision</td>\n",
       "      <td>1</td>\n",
       "      <td>190775.0</td>\n",
       "      <td>0.120109</td>\n",
       "      <td>0.046973</td>\n",
       "      <td>0.0</td>\n",
       "      <td>0.0</td>\n",
       "    </tr>\n",
       "    <tr>\n",
       "      <th>127</th>\n",
       "      <td>192120</td>\n",
       "      <td>retrieval</td>\n",
       "      <td>0</td>\n",
       "      <td>NaN</td>\n",
       "      <td>NaN</td>\n",
       "      <td>NaN</td>\n",
       "      <td>NaN</td>\n",
       "      <td>NaN</td>\n",
       "    </tr>\n",
       "  </tbody>\n",
       "</table>\n",
       "<p>128 rows × 8 columns</p>\n",
       "</div>"
      ],
      "text/plain": [
       "          t           event_type  obstacles_outcome  time_msec  rawdatax  \\\n",
       "0        10  service_event_start                  0       10.0       NaN   \n",
       "1      4335            collision                  1     4335.0  0.224360   \n",
       "2      5200            collision                  1     5200.0  0.226069   \n",
       "3      6555            retrieval                  0     6555.0  0.229764   \n",
       "4      7535         outcome_type                  1     7535.0  0.184525   \n",
       "..      ...                  ...                ...        ...       ...   \n",
       "123  187110         outcome_type                  3   187110.0  0.092275   \n",
       "124  187110    service_event_end                  3   187110.0  0.092275   \n",
       "125  187110  service_event_start                  0   187110.0  0.092275   \n",
       "126  190775            collision                  1   190775.0  0.120109   \n",
       "127  192120            retrieval                  0        NaN       NaN   \n",
       "\n",
       "     rawdatay  rawdatatorqueleft  rawdatatorqueright  \n",
       "0         NaN                NaN                 NaN  \n",
       "1    0.184751                0.0                 0.0  \n",
       "2    0.180026                0.0                 0.0  \n",
       "3    0.175829                0.0                 0.0  \n",
       "4    0.220263                0.0                 0.0  \n",
       "..        ...                ...                 ...  \n",
       "123  0.218806                NaN                 NaN  \n",
       "124  0.218806                NaN                 NaN  \n",
       "125  0.218806                NaN                 NaN  \n",
       "126  0.046973                0.0                 0.0  \n",
       "127       NaN                NaN                 NaN  \n",
       "\n",
       "[128 rows x 8 columns]"
      ]
     },
     "execution_count": 19,
     "metadata": {},
     "output_type": "execute_result"
    }
   ],
   "source": [
    "main = pd.merge(tsd, df, how='left', left_on='t', right_on='time_msec')\n",
    "main"
   ]
  },
  {
   "cell_type": "code",
   "execution_count": 20,
   "id": "d1eac218",
   "metadata": {},
   "outputs": [],
   "source": [
    "# index service_event start/end in main\n",
    "nr = 0\n",
    "main['sequence'] = 0\n",
    "for index, event in enumerate(main['event_type']):\n",
    "    if event == 'service_event_end':\n",
    "        main['sequence'].iloc[index] = nr\n",
    "        nr += 1   \n",
    "    else:\n",
    "        main['sequence'].iloc[index] = nr\n",
    "        "
   ]
  },
  {
   "cell_type": "markdown",
   "id": "7e2e77cd",
   "metadata": {},
   "source": [
    "##### mean speed "
   ]
  },
  {
   "cell_type": "code",
   "execution_count": 21,
   "id": "00b91a75",
   "metadata": {},
   "outputs": [
    {
     "data": {
      "text/html": [
       "<div>\n",
       "<style scoped>\n",
       "    .dataframe tbody tr th:only-of-type {\n",
       "        vertical-align: middle;\n",
       "    }\n",
       "\n",
       "    .dataframe tbody tr th {\n",
       "        vertical-align: top;\n",
       "    }\n",
       "\n",
       "    .dataframe thead th {\n",
       "        text-align: right;\n",
       "    }\n",
       "</style>\n",
       "<table border=\"1\" class=\"dataframe\">\n",
       "  <thead>\n",
       "    <tr style=\"text-align: right;\">\n",
       "      <th></th>\n",
       "      <th>t</th>\n",
       "      <th>event_type</th>\n",
       "      <th>obstacles_outcome</th>\n",
       "      <th>time_msec</th>\n",
       "      <th>rawdatax</th>\n",
       "      <th>rawdatay</th>\n",
       "      <th>rawdatatorqueleft</th>\n",
       "      <th>rawdatatorqueright</th>\n",
       "      <th>sequence</th>\n",
       "    </tr>\n",
       "  </thead>\n",
       "  <tbody>\n",
       "    <tr>\n",
       "      <th>0</th>\n",
       "      <td>10</td>\n",
       "      <td>service_event_start</td>\n",
       "      <td>0</td>\n",
       "      <td>10.0</td>\n",
       "      <td>NaN</td>\n",
       "      <td>NaN</td>\n",
       "      <td>NaN</td>\n",
       "      <td>NaN</td>\n",
       "      <td>0</td>\n",
       "    </tr>\n",
       "    <tr>\n",
       "      <th>5</th>\n",
       "      <td>7535</td>\n",
       "      <td>service_event_end</td>\n",
       "      <td>1</td>\n",
       "      <td>7535.0</td>\n",
       "      <td>0.184525</td>\n",
       "      <td>0.220263</td>\n",
       "      <td>0.0</td>\n",
       "      <td>0.0</td>\n",
       "      <td>0</td>\n",
       "    </tr>\n",
       "    <tr>\n",
       "      <th>6</th>\n",
       "      <td>7535</td>\n",
       "      <td>service_event_start</td>\n",
       "      <td>0</td>\n",
       "      <td>7535.0</td>\n",
       "      <td>0.184525</td>\n",
       "      <td>0.220263</td>\n",
       "      <td>0.0</td>\n",
       "      <td>0.0</td>\n",
       "      <td>1</td>\n",
       "    </tr>\n",
       "    <tr>\n",
       "      <th>9</th>\n",
       "      <td>14250</td>\n",
       "      <td>service_event_end</td>\n",
       "      <td>1</td>\n",
       "      <td>14250.0</td>\n",
       "      <td>0.060884</td>\n",
       "      <td>0.214118</td>\n",
       "      <td>NaN</td>\n",
       "      <td>NaN</td>\n",
       "      <td>1</td>\n",
       "    </tr>\n",
       "    <tr>\n",
       "      <th>10</th>\n",
       "      <td>14250</td>\n",
       "      <td>service_event_start</td>\n",
       "      <td>0</td>\n",
       "      <td>14250.0</td>\n",
       "      <td>0.060884</td>\n",
       "      <td>0.214118</td>\n",
       "      <td>NaN</td>\n",
       "      <td>NaN</td>\n",
       "      <td>2</td>\n",
       "    </tr>\n",
       "    <tr>\n",
       "      <th>...</th>\n",
       "      <td>...</td>\n",
       "      <td>...</td>\n",
       "      <td>...</td>\n",
       "      <td>...</td>\n",
       "      <td>...</td>\n",
       "      <td>...</td>\n",
       "      <td>...</td>\n",
       "      <td>...</td>\n",
       "      <td>...</td>\n",
       "    </tr>\n",
       "    <tr>\n",
       "      <th>119</th>\n",
       "      <td>186810</td>\n",
       "      <td>service_event_start</td>\n",
       "      <td>0</td>\n",
       "      <td>186810.0</td>\n",
       "      <td>0.117175</td>\n",
       "      <td>0.218692</td>\n",
       "      <td>NaN</td>\n",
       "      <td>NaN</td>\n",
       "      <td>27</td>\n",
       "    </tr>\n",
       "    <tr>\n",
       "      <th>121</th>\n",
       "      <td>187050</td>\n",
       "      <td>service_event_end</td>\n",
       "      <td>3</td>\n",
       "      <td>187050.0</td>\n",
       "      <td>0.101059</td>\n",
       "      <td>0.218931</td>\n",
       "      <td>0.0</td>\n",
       "      <td>0.0</td>\n",
       "      <td>27</td>\n",
       "    </tr>\n",
       "    <tr>\n",
       "      <th>122</th>\n",
       "      <td>187050</td>\n",
       "      <td>service_event_start</td>\n",
       "      <td>0</td>\n",
       "      <td>187050.0</td>\n",
       "      <td>0.101059</td>\n",
       "      <td>0.218931</td>\n",
       "      <td>0.0</td>\n",
       "      <td>0.0</td>\n",
       "      <td>28</td>\n",
       "    </tr>\n",
       "    <tr>\n",
       "      <th>124</th>\n",
       "      <td>187110</td>\n",
       "      <td>service_event_end</td>\n",
       "      <td>3</td>\n",
       "      <td>187110.0</td>\n",
       "      <td>0.092275</td>\n",
       "      <td>0.218806</td>\n",
       "      <td>NaN</td>\n",
       "      <td>NaN</td>\n",
       "      <td>28</td>\n",
       "    </tr>\n",
       "    <tr>\n",
       "      <th>125</th>\n",
       "      <td>187110</td>\n",
       "      <td>service_event_start</td>\n",
       "      <td>0</td>\n",
       "      <td>187110.0</td>\n",
       "      <td>0.092275</td>\n",
       "      <td>0.218806</td>\n",
       "      <td>NaN</td>\n",
       "      <td>NaN</td>\n",
       "      <td>29</td>\n",
       "    </tr>\n",
       "  </tbody>\n",
       "</table>\n",
       "<p>59 rows × 9 columns</p>\n",
       "</div>"
      ],
      "text/plain": [
       "          t           event_type  obstacles_outcome  time_msec  rawdatax  \\\n",
       "0        10  service_event_start                  0       10.0       NaN   \n",
       "5      7535    service_event_end                  1     7535.0  0.184525   \n",
       "6      7535  service_event_start                  0     7535.0  0.184525   \n",
       "9     14250    service_event_end                  1    14250.0  0.060884   \n",
       "10    14250  service_event_start                  0    14250.0  0.060884   \n",
       "..      ...                  ...                ...        ...       ...   \n",
       "119  186810  service_event_start                  0   186810.0  0.117175   \n",
       "121  187050    service_event_end                  3   187050.0  0.101059   \n",
       "122  187050  service_event_start                  0   187050.0  0.101059   \n",
       "124  187110    service_event_end                  3   187110.0  0.092275   \n",
       "125  187110  service_event_start                  0   187110.0  0.092275   \n",
       "\n",
       "     rawdatay  rawdatatorqueleft  rawdatatorqueright  sequence  \n",
       "0         NaN                NaN                 NaN         0  \n",
       "5    0.220263                0.0                 0.0         0  \n",
       "6    0.220263                0.0                 0.0         1  \n",
       "9    0.214118                NaN                 NaN         1  \n",
       "10   0.214118                NaN                 NaN         2  \n",
       "..        ...                ...                 ...       ...  \n",
       "119  0.218692                NaN                 NaN        27  \n",
       "121  0.218931                0.0                 0.0        27  \n",
       "122  0.218931                0.0                 0.0        28  \n",
       "124  0.218806                NaN                 NaN        28  \n",
       "125  0.218806                NaN                 NaN        29  \n",
       "\n",
       "[59 rows x 9 columns]"
      ]
     },
     "execution_count": 21,
     "metadata": {},
     "output_type": "execute_result"
    }
   ],
   "source": [
    "svc_event = main[main['event_type'].str.contains('service_event')]\n",
    "svc_event"
   ]
  },
  {
   "cell_type": "code",
   "execution_count": 22,
   "id": "fe389783",
   "metadata": {},
   "outputs": [
    {
     "data": {
      "text/html": [
       "<div>\n",
       "<style scoped>\n",
       "    .dataframe tbody tr th:only-of-type {\n",
       "        vertical-align: middle;\n",
       "    }\n",
       "\n",
       "    .dataframe tbody tr th {\n",
       "        vertical-align: top;\n",
       "    }\n",
       "\n",
       "    .dataframe thead th {\n",
       "        text-align: right;\n",
       "    }\n",
       "</style>\n",
       "<table border=\"1\" class=\"dataframe\">\n",
       "  <thead>\n",
       "    <tr style=\"text-align: right;\">\n",
       "      <th></th>\n",
       "      <th>t</th>\n",
       "      <th>event_type</th>\n",
       "      <th>obstacles_outcome</th>\n",
       "      <th>time_msec</th>\n",
       "      <th>rawdatax</th>\n",
       "      <th>rawdatay</th>\n",
       "      <th>rawdatatorqueleft</th>\n",
       "      <th>rawdatatorqueright</th>\n",
       "      <th>sequence</th>\n",
       "    </tr>\n",
       "  </thead>\n",
       "  <tbody>\n",
       "    <tr>\n",
       "      <th>0</th>\n",
       "      <td>10</td>\n",
       "      <td>service_event_start</td>\n",
       "      <td>0</td>\n",
       "      <td>10.0</td>\n",
       "      <td>NaN</td>\n",
       "      <td>NaN</td>\n",
       "      <td>NaN</td>\n",
       "      <td>NaN</td>\n",
       "      <td>0</td>\n",
       "    </tr>\n",
       "    <tr>\n",
       "      <th>5</th>\n",
       "      <td>7535</td>\n",
       "      <td>service_event_end</td>\n",
       "      <td>1</td>\n",
       "      <td>7535.0</td>\n",
       "      <td>0.184525</td>\n",
       "      <td>0.220263</td>\n",
       "      <td>0.0</td>\n",
       "      <td>0.0</td>\n",
       "      <td>0</td>\n",
       "    </tr>\n",
       "    <tr>\n",
       "      <th>6</th>\n",
       "      <td>7535</td>\n",
       "      <td>service_event_start</td>\n",
       "      <td>0</td>\n",
       "      <td>7535.0</td>\n",
       "      <td>0.184525</td>\n",
       "      <td>0.220263</td>\n",
       "      <td>0.0</td>\n",
       "      <td>0.0</td>\n",
       "      <td>1</td>\n",
       "    </tr>\n",
       "    <tr>\n",
       "      <th>9</th>\n",
       "      <td>14250</td>\n",
       "      <td>service_event_end</td>\n",
       "      <td>1</td>\n",
       "      <td>14250.0</td>\n",
       "      <td>0.060884</td>\n",
       "      <td>0.214118</td>\n",
       "      <td>NaN</td>\n",
       "      <td>NaN</td>\n",
       "      <td>1</td>\n",
       "    </tr>\n",
       "    <tr>\n",
       "      <th>10</th>\n",
       "      <td>14250</td>\n",
       "      <td>service_event_start</td>\n",
       "      <td>0</td>\n",
       "      <td>14250.0</td>\n",
       "      <td>0.060884</td>\n",
       "      <td>0.214118</td>\n",
       "      <td>NaN</td>\n",
       "      <td>NaN</td>\n",
       "      <td>2</td>\n",
       "    </tr>\n",
       "    <tr>\n",
       "      <th>14</th>\n",
       "      <td>23860</td>\n",
       "      <td>service_event_end</td>\n",
       "      <td>1</td>\n",
       "      <td>23860.0</td>\n",
       "      <td>0.252433</td>\n",
       "      <td>0.219057</td>\n",
       "      <td>0.0</td>\n",
       "      <td>0.0</td>\n",
       "      <td>2</td>\n",
       "    </tr>\n",
       "    <tr>\n",
       "      <th>15</th>\n",
       "      <td>23860</td>\n",
       "      <td>service_event_start</td>\n",
       "      <td>0</td>\n",
       "      <td>23860.0</td>\n",
       "      <td>0.252433</td>\n",
       "      <td>0.219057</td>\n",
       "      <td>0.0</td>\n",
       "      <td>0.0</td>\n",
       "      <td>3</td>\n",
       "    </tr>\n",
       "    <tr>\n",
       "      <th>18</th>\n",
       "      <td>29710</td>\n",
       "      <td>service_event_end</td>\n",
       "      <td>1</td>\n",
       "      <td>29710.0</td>\n",
       "      <td>0.188707</td>\n",
       "      <td>0.214624</td>\n",
       "      <td>NaN</td>\n",
       "      <td>NaN</td>\n",
       "      <td>3</td>\n",
       "    </tr>\n",
       "    <tr>\n",
       "      <th>19</th>\n",
       "      <td>29710</td>\n",
       "      <td>service_event_start</td>\n",
       "      <td>0</td>\n",
       "      <td>29710.0</td>\n",
       "      <td>0.188707</td>\n",
       "      <td>0.214624</td>\n",
       "      <td>NaN</td>\n",
       "      <td>NaN</td>\n",
       "      <td>4</td>\n",
       "    </tr>\n",
       "    <tr>\n",
       "      <th>22</th>\n",
       "      <td>38555</td>\n",
       "      <td>service_event_end</td>\n",
       "      <td>1</td>\n",
       "      <td>38555.0</td>\n",
       "      <td>0.064654</td>\n",
       "      <td>0.214571</td>\n",
       "      <td>NaN</td>\n",
       "      <td>NaN</td>\n",
       "      <td>4</td>\n",
       "    </tr>\n",
       "  </tbody>\n",
       "</table>\n",
       "</div>"
      ],
      "text/plain": [
       "        t           event_type  obstacles_outcome  time_msec  rawdatax  \\\n",
       "0      10  service_event_start                  0       10.0       NaN   \n",
       "5    7535    service_event_end                  1     7535.0  0.184525   \n",
       "6    7535  service_event_start                  0     7535.0  0.184525   \n",
       "9   14250    service_event_end                  1    14250.0  0.060884   \n",
       "10  14250  service_event_start                  0    14250.0  0.060884   \n",
       "14  23860    service_event_end                  1    23860.0  0.252433   \n",
       "15  23860  service_event_start                  0    23860.0  0.252433   \n",
       "18  29710    service_event_end                  1    29710.0  0.188707   \n",
       "19  29710  service_event_start                  0    29710.0  0.188707   \n",
       "22  38555    service_event_end                  1    38555.0  0.064654   \n",
       "\n",
       "    rawdatay  rawdatatorqueleft  rawdatatorqueright  sequence  \n",
       "0        NaN                NaN                 NaN         0  \n",
       "5   0.220263                0.0                 0.0         0  \n",
       "6   0.220263                0.0                 0.0         1  \n",
       "9   0.214118                NaN                 NaN         1  \n",
       "10  0.214118                NaN                 NaN         2  \n",
       "14  0.219057                0.0                 0.0         2  \n",
       "15  0.219057                0.0                 0.0         3  \n",
       "18  0.214624                NaN                 NaN         3  \n",
       "19  0.214624                NaN                 NaN         4  \n",
       "22  0.214571                NaN                 NaN         4  "
      ]
     },
     "execution_count": 22,
     "metadata": {},
     "output_type": "execute_result"
    }
   ],
   "source": [
    "# check sequence for each service event\n",
    "svc_event.head(10)"
   ]
  },
  {
   "cell_type": "code",
   "execution_count": 23,
   "id": "e5ab10a8",
   "metadata": {},
   "outputs": [],
   "source": [
    "svc_event[['time_diff','x_diff','y_diff']]=svc_event.groupby('sequence')[['time_msec','rawdatax','rawdatay']].diff()\n",
    "svc_event['step_size'] = np.sqrt(svc_event['x_diff']**2+svc_event['y_diff']**2)\n",
    "svc_event['speed'] = (svc_event['step_size'])/(svc_event['time_diff']/1000)\n",
    "svc_event.drop(columns=['rawdatatorqueleft','rawdatatorqueright'],inplace=True)\n",
    "svc_event = svc_event.dropna()\n",
    "\n",
    "mean_speed = statistics.mean(svc_event['speed'])"
   ]
  },
  {
   "cell_type": "code",
   "execution_count": 24,
   "id": "13d19af8",
   "metadata": {},
   "outputs": [
    {
     "data": {
      "image/png": "[encoded data removed]",
      "text/plain": [
       "<Figure size 432x288 with 1 Axes>"
      ]
     },
     "metadata": {
      "needs_background": "light"
     },
     "output_type": "display_data"
    }
   ],
   "source": [
    "# plot speed and mean_speed\n",
    "plt.plot('sequence','speed',data=svc_event);\n",
    "plt.axhline(y=mean_speed, color='r', linestyle='-')\n",
    "plt.legend(['speed','mean_speed'])\n",
    "plt.xlabel('service event')\n",
    "plt.ylabel('speed/ m/msec')\n",
    "plt.title('speed during play'); "
   ]
  },
  {
   "cell_type": "code",
   "execution_count": 25,
   "id": "f574b7b0",
   "metadata": {},
   "outputs": [
    {
     "data": {
      "text/plain": [
       "28"
      ]
     },
     "execution_count": 25,
     "metadata": {},
     "output_type": "execute_result"
    }
   ],
   "source": [
    "# quality check \n",
    "# rep['TotalCustomersServed']\n",
    "total_svc = svc_event['sequence'].count()\n",
    "total_svc"
   ]
  },
  {
   "cell_type": "markdown",
   "id": "509e4795",
   "metadata": {},
   "source": [
    "**how does the system determine a correction/rectification made?**\n"
   ]
  },
  {
   "cell_type": "markdown",
   "id": "9d377419",
   "metadata": {},
   "source": [
    "##### service event errors rate"
   ]
  },
  {
   "cell_type": "markdown",
   "id": "d46c345b",
   "metadata": {},
   "source": [
    " 1 (Correct item & correct person in sequence) \n",
    " <br> 2 (Correct item & wrong person in sequence)\n",
    " <br> 3 (Wrong item & wrong person in sequence)."
   ]
  },
  {
   "cell_type": "code",
   "execution_count": 26,
   "id": "dbfcef12",
   "metadata": {},
   "outputs": [
    {
     "data": {
      "text/plain": [
       "array([1, 3, 2], dtype=int64)"
      ]
     },
     "execution_count": 26,
     "metadata": {},
     "output_type": "execute_result"
    }
   ],
   "source": [
    "svc_error = main[main['event_type']=='service_event_end']['obstacles_outcome'].unique()\n",
    "svc_error"
   ]
  },
  {
   "cell_type": "code",
   "execution_count": 27,
   "id": "8b61b8ae",
   "metadata": {},
   "outputs": [],
   "source": [
    "svc_event.reset_index(inplace=True)\n",
    "total_svc = int(svc_event['sequence'].tail(1))\n",
    "if 2 in svc_error:\n",
    "    svc_error_2 = svc_event[svc_event['obstacles_outcome']==2]['obstacles_outcome'].count()\n",
    "else:\n",
    "    svc_error_2 = 0\n",
    "if 3 in svc_error:\n",
    "    svc_error_3 = svc_event[svc_event['obstacles_outcome']==3]['obstacles_outcome'].count()\n",
    "else:\n",
    "    svc_error_3 = 0"
   ]
  },
  {
   "cell_type": "code",
   "execution_count": 28,
   "id": "b97bd33b",
   "metadata": {},
   "outputs": [
    {
     "data": {
      "text/plain": [
       "0.39285714285714285"
      ]
     },
     "execution_count": 28,
     "metadata": {},
     "output_type": "execute_result"
    }
   ],
   "source": [
    "error_rate = (svc_error_2 + svc_error_3)/total_svc\n",
    "error_rate"
   ]
  },
  {
   "cell_type": "markdown",
   "id": "2ffa6b99",
   "metadata": {},
   "source": [
    "##### collision rate"
   ]
  },
  {
   "cell_type": "markdown",
   "id": "45c7eeea",
   "metadata": {},
   "source": [
    "collisions=1 if shelf\n",
    "<br> collisions=2 if object"
   ]
  },
  {
   "cell_type": "code",
   "execution_count": 29,
   "id": "9a0c8a9e",
   "metadata": {},
   "outputs": [
    {
     "data": {
      "text/plain": [
       "1    7\n",
       "2    6\n",
       "Name: obstacles_outcome, dtype: int64"
      ]
     },
     "execution_count": 29,
     "metadata": {},
     "output_type": "execute_result"
    }
   ],
   "source": [
    "main[main['event_type'].str.contains('collision')]['obstacles_outcome'].value_counts()"
   ]
  },
  {
   "cell_type": "code",
   "execution_count": 30,
   "id": "9de8e453",
   "metadata": {},
   "outputs": [
    {
     "data": {
      "text/plain": [
       "0.4642857142857143"
      ]
     },
     "execution_count": 30,
     "metadata": {},
     "output_type": "execute_result"
    }
   ],
   "source": [
    "coll_1 = main[(main['event_type']=='collision') & (main['obstacles_outcome']==1)]['obstacles_outcome'].count()\n",
    "coll_2 = main[(main['event_type']=='collision') & (main['obstacles_outcome']==2)]['obstacles_outcome'].count()\n",
    "\n",
    "collision_rate = (coll_1 + coll_2)/total_svc\n",
    "collision_rate"
   ]
  },
  {
   "cell_type": "markdown",
   "id": "93f4fbef",
   "metadata": {},
   "source": [
    "#### moving averages"
   ]
  },
  {
   "cell_type": "markdown",
   "id": "08121955",
   "metadata": {},
   "source": [
    "##### mean speed (rolling)"
   ]
  },
  {
   "cell_type": "code",
   "execution_count": 31,
   "id": "e77669c9",
   "metadata": {},
   "outputs": [],
   "source": [
    "# set sequence as index\n",
    "svc_event.set_index('sequence', inplace=True)\n",
    "\n",
    "# just in case\n",
    "svc_event.sort_index(inplace=True)"
   ]
  },
  {
   "cell_type": "code",
   "execution_count": 32,
   "id": "b8def4a8",
   "metadata": {},
   "outputs": [
    {
     "name": "stdout",
     "output_type": "stream",
     "text": [
      "window: 7\n"
     ]
    }
   ],
   "source": [
    "# define window\n",
    "window = int(input(\"window: \"))"
   ]
  },
  {
   "cell_type": "code",
   "execution_count": 33,
   "id": "bc593c1e",
   "metadata": {},
   "outputs": [],
   "source": [
    "# moving average\n",
    "svc_event['speed_7']=svc_event['speed'].rolling(window).mean()"
   ]
  },
  {
   "cell_type": "code",
   "execution_count": 34,
   "id": "53aac579",
   "metadata": {},
   "outputs": [
    {
     "data": {
      "image/png": "[encoded data removed]",
      "text/plain": [
       "<Figure size 432x288 with 1 Axes>"
      ]
     },
     "metadata": {
      "needs_background": "light"
     },
     "output_type": "display_data"
    }
   ],
   "source": [
    "# plot moving average\n",
    "plt.plot('speed_7',data=svc_event);\n",
    "plt.xlabel('svc_event')\n",
    "plt.ylabel('speed/ m/msec')\n",
    "plt.title(f'moving average ({window} svc events) of speed during play'); "
   ]
  },
  {
   "cell_type": "markdown",
   "id": "cc32213c",
   "metadata": {},
   "source": [
    "##### svc event errors rate (rolling)"
   ]
  },
  {
   "cell_type": "code",
   "execution_count": 35,
   "id": "e4089cb8",
   "metadata": {},
   "outputs": [],
   "source": [
    "## define window\n",
    "# window = int(input(\"window: \"))"
   ]
  },
  {
   "cell_type": "code",
   "execution_count": 36,
   "id": "5de24615",
   "metadata": {},
   "outputs": [],
   "source": [
    "svc_event['error_rate'] = np.nan\n",
    "for i in range(0,(len(svc_event)-window+1)):\n",
    "    svc_error = svc_event[svc_event['event_type']=='service_event_end']['obstacles_outcome'][i:i+window].unique()\n",
    "    if 2 in svc_error:\n",
    "        svc_error_2 = svc_event[i:i+window][svc_event['obstacles_outcome']==2]['obstacles_outcome'].count()\n",
    "    else:\n",
    "        svc_error_2 = 0\n",
    "    if 3 in svc_error:\n",
    "        svc_error_3 = svc_event[i:i+window][svc_event['obstacles_outcome']==3]['obstacles_outcome'].count()\n",
    "    else:\n",
    "        svc_error_3 = 0\n",
    "    svc_event['error_rate'][i+window] = (svc_error_2 + svc_error_3)/window"
   ]
  },
  {
   "cell_type": "code",
   "execution_count": 37,
   "id": "83d4fc7e",
   "metadata": {},
   "outputs": [
    {
     "data": {
      "image/png": "[encoded data removed]",
      "text/plain": [
       "<Figure size 432x288 with 1 Axes>"
      ]
     },
     "metadata": {
      "needs_background": "light"
     },
     "output_type": "display_data"
    }
   ],
   "source": [
    "# plot moving average\n",
    "plt.plot('error_rate',data=svc_event);\n",
    "plt.xlabel('service event')\n",
    "plt.ylabel('error rate')\n",
    "plt.title(f'moving average ({window} svc events) of error rate during play'); "
   ]
  },
  {
   "cell_type": "markdown",
   "id": "6b6882a7",
   "metadata": {},
   "source": [
    "##### total collision (svc)"
   ]
  },
  {
   "cell_type": "code",
   "execution_count": 38,
   "id": "157cc232",
   "metadata": {},
   "outputs": [],
   "source": [
    "# define collision df\n",
    "collision = main[main['event_type'].str.contains('collision|service')]"
   ]
  },
  {
   "cell_type": "code",
   "execution_count": 39,
   "id": "e1db5410",
   "metadata": {},
   "outputs": [],
   "source": [
    "# collision 1\n",
    "coll_1 = collision[(collision['event_type']=='collision') & (collision['obstacles_outcome']==1)].groupby('sequence').count()[['obstacles_outcome']]\n",
    "coll_1 = coll_1.rename(columns={'obstacles_outcome':'coll_1'})\n",
    "\n",
    "# collision 2\n",
    "coll_2 = collision[(collision['event_type']=='collision') & (collision['obstacles_outcome']==2)].groupby('sequence').count()[['obstacles_outcome']]\n",
    "coll_2 = coll_2.rename(columns={'obstacles_outcome':'coll_2'})\n",
    "\n",
    "# total collisions\n",
    "total_coll = pd.merge(coll_1, coll_2, how='left', on='sequence').replace(np.nan,0)\n",
    "total_coll = total_coll.reindex(range(0,total_coll.index.astype(int)[-1]+1), fill_value=0)\n",
    "total_coll['total_coll'] = total_coll['coll_1'] + total_coll['coll_2']"
   ]
  },
  {
   "cell_type": "code",
   "execution_count": 40,
   "id": "faef2ffb",
   "metadata": {},
   "outputs": [],
   "source": [
    "# mean total obstacles\n",
    "mean_total_obstacles = statistics.mean(total_coll['total_coll'])"
   ]
  },
  {
   "cell_type": "code",
   "execution_count": 41,
   "id": "f66fc660",
   "metadata": {},
   "outputs": [
    {
     "data": {
      "text/html": [
       "<div>\n",
       "<style scoped>\n",
       "    .dataframe tbody tr th:only-of-type {\n",
       "        vertical-align: middle;\n",
       "    }\n",
       "\n",
       "    .dataframe tbody tr th {\n",
       "        vertical-align: top;\n",
       "    }\n",
       "\n",
       "    .dataframe thead th {\n",
       "        text-align: right;\n",
       "    }\n",
       "</style>\n",
       "<table border=\"1\" class=\"dataframe\">\n",
       "  <thead>\n",
       "    <tr style=\"text-align: right;\">\n",
       "      <th></th>\n",
       "      <th>coll_1</th>\n",
       "      <th>coll_2</th>\n",
       "      <th>total_coll</th>\n",
       "    </tr>\n",
       "    <tr>\n",
       "      <th>sequence</th>\n",
       "      <th></th>\n",
       "      <th></th>\n",
       "      <th></th>\n",
       "    </tr>\n",
       "  </thead>\n",
       "  <tbody>\n",
       "    <tr>\n",
       "      <th>0</th>\n",
       "      <td>2</td>\n",
       "      <td>0.0</td>\n",
       "      <td>2.0</td>\n",
       "    </tr>\n",
       "    <tr>\n",
       "      <th>1</th>\n",
       "      <td>0</td>\n",
       "      <td>0.0</td>\n",
       "      <td>0.0</td>\n",
       "    </tr>\n",
       "    <tr>\n",
       "      <th>2</th>\n",
       "      <td>1</td>\n",
       "      <td>0.0</td>\n",
       "      <td>1.0</td>\n",
       "    </tr>\n",
       "    <tr>\n",
       "      <th>3</th>\n",
       "      <td>0</td>\n",
       "      <td>0.0</td>\n",
       "      <td>0.0</td>\n",
       "    </tr>\n",
       "    <tr>\n",
       "      <th>4</th>\n",
       "      <td>0</td>\n",
       "      <td>0.0</td>\n",
       "      <td>0.0</td>\n",
       "    </tr>\n",
       "    <tr>\n",
       "      <th>5</th>\n",
       "      <td>0</td>\n",
       "      <td>0.0</td>\n",
       "      <td>0.0</td>\n",
       "    </tr>\n",
       "    <tr>\n",
       "      <th>6</th>\n",
       "      <td>0</td>\n",
       "      <td>0.0</td>\n",
       "      <td>0.0</td>\n",
       "    </tr>\n",
       "    <tr>\n",
       "      <th>7</th>\n",
       "      <td>0</td>\n",
       "      <td>0.0</td>\n",
       "      <td>0.0</td>\n",
       "    </tr>\n",
       "    <tr>\n",
       "      <th>8</th>\n",
       "      <td>1</td>\n",
       "      <td>0.0</td>\n",
       "      <td>1.0</td>\n",
       "    </tr>\n",
       "    <tr>\n",
       "      <th>9</th>\n",
       "      <td>0</td>\n",
       "      <td>0.0</td>\n",
       "      <td>0.0</td>\n",
       "    </tr>\n",
       "    <tr>\n",
       "      <th>10</th>\n",
       "      <td>0</td>\n",
       "      <td>0.0</td>\n",
       "      <td>0.0</td>\n",
       "    </tr>\n",
       "    <tr>\n",
       "      <th>11</th>\n",
       "      <td>0</td>\n",
       "      <td>0.0</td>\n",
       "      <td>0.0</td>\n",
       "    </tr>\n",
       "    <tr>\n",
       "      <th>12</th>\n",
       "      <td>0</td>\n",
       "      <td>0.0</td>\n",
       "      <td>0.0</td>\n",
       "    </tr>\n",
       "    <tr>\n",
       "      <th>13</th>\n",
       "      <td>0</td>\n",
       "      <td>0.0</td>\n",
       "      <td>0.0</td>\n",
       "    </tr>\n",
       "    <tr>\n",
       "      <th>14</th>\n",
       "      <td>0</td>\n",
       "      <td>0.0</td>\n",
       "      <td>0.0</td>\n",
       "    </tr>\n",
       "    <tr>\n",
       "      <th>15</th>\n",
       "      <td>0</td>\n",
       "      <td>0.0</td>\n",
       "      <td>0.0</td>\n",
       "    </tr>\n",
       "    <tr>\n",
       "      <th>16</th>\n",
       "      <td>0</td>\n",
       "      <td>0.0</td>\n",
       "      <td>0.0</td>\n",
       "    </tr>\n",
       "    <tr>\n",
       "      <th>17</th>\n",
       "      <td>0</td>\n",
       "      <td>0.0</td>\n",
       "      <td>0.0</td>\n",
       "    </tr>\n",
       "    <tr>\n",
       "      <th>18</th>\n",
       "      <td>0</td>\n",
       "      <td>0.0</td>\n",
       "      <td>0.0</td>\n",
       "    </tr>\n",
       "    <tr>\n",
       "      <th>19</th>\n",
       "      <td>0</td>\n",
       "      <td>0.0</td>\n",
       "      <td>0.0</td>\n",
       "    </tr>\n",
       "    <tr>\n",
       "      <th>20</th>\n",
       "      <td>0</td>\n",
       "      <td>0.0</td>\n",
       "      <td>0.0</td>\n",
       "    </tr>\n",
       "    <tr>\n",
       "      <th>21</th>\n",
       "      <td>0</td>\n",
       "      <td>0.0</td>\n",
       "      <td>0.0</td>\n",
       "    </tr>\n",
       "    <tr>\n",
       "      <th>22</th>\n",
       "      <td>0</td>\n",
       "      <td>0.0</td>\n",
       "      <td>0.0</td>\n",
       "    </tr>\n",
       "    <tr>\n",
       "      <th>23</th>\n",
       "      <td>2</td>\n",
       "      <td>0.0</td>\n",
       "      <td>2.0</td>\n",
       "    </tr>\n",
       "    <tr>\n",
       "      <th>24</th>\n",
       "      <td>0</td>\n",
       "      <td>0.0</td>\n",
       "      <td>0.0</td>\n",
       "    </tr>\n",
       "    <tr>\n",
       "      <th>25</th>\n",
       "      <td>0</td>\n",
       "      <td>0.0</td>\n",
       "      <td>0.0</td>\n",
       "    </tr>\n",
       "    <tr>\n",
       "      <th>26</th>\n",
       "      <td>0</td>\n",
       "      <td>0.0</td>\n",
       "      <td>0.0</td>\n",
       "    </tr>\n",
       "    <tr>\n",
       "      <th>27</th>\n",
       "      <td>0</td>\n",
       "      <td>0.0</td>\n",
       "      <td>0.0</td>\n",
       "    </tr>\n",
       "    <tr>\n",
       "      <th>28</th>\n",
       "      <td>0</td>\n",
       "      <td>0.0</td>\n",
       "      <td>0.0</td>\n",
       "    </tr>\n",
       "    <tr>\n",
       "      <th>29</th>\n",
       "      <td>1</td>\n",
       "      <td>0.0</td>\n",
       "      <td>1.0</td>\n",
       "    </tr>\n",
       "  </tbody>\n",
       "</table>\n",
       "</div>"
      ],
      "text/plain": [
       "          coll_1  coll_2  total_coll\n",
       "sequence                            \n",
       "0              2     0.0         2.0\n",
       "1              0     0.0         0.0\n",
       "2              1     0.0         1.0\n",
       "3              0     0.0         0.0\n",
       "4              0     0.0         0.0\n",
       "5              0     0.0         0.0\n",
       "6              0     0.0         0.0\n",
       "7              0     0.0         0.0\n",
       "8              1     0.0         1.0\n",
       "9              0     0.0         0.0\n",
       "10             0     0.0         0.0\n",
       "11             0     0.0         0.0\n",
       "12             0     0.0         0.0\n",
       "13             0     0.0         0.0\n",
       "14             0     0.0         0.0\n",
       "15             0     0.0         0.0\n",
       "16             0     0.0         0.0\n",
       "17             0     0.0         0.0\n",
       "18             0     0.0         0.0\n",
       "19             0     0.0         0.0\n",
       "20             0     0.0         0.0\n",
       "21             0     0.0         0.0\n",
       "22             0     0.0         0.0\n",
       "23             2     0.0         2.0\n",
       "24             0     0.0         0.0\n",
       "25             0     0.0         0.0\n",
       "26             0     0.0         0.0\n",
       "27             0     0.0         0.0\n",
       "28             0     0.0         0.0\n",
       "29             1     0.0         1.0"
      ]
     },
     "execution_count": 41,
     "metadata": {},
     "output_type": "execute_result"
    }
   ],
   "source": [
    "total_coll"
   ]
  },
  {
   "cell_type": "code",
   "execution_count": 42,
   "id": "b6b54c95",
   "metadata": {},
   "outputs": [
    {
     "data": {
      "image/png": "[encoded data removed]",
      "text/plain": [
       "<Figure size 432x288 with 1 Axes>"
      ]
     },
     "metadata": {
      "needs_background": "light"
     },
     "output_type": "display_data"
    }
   ],
   "source": [
    "# plot total collision per svc_event\n",
    "plt.plot('total_coll',data=total_coll);\n",
    "plt.axhline(y=mean_total_obstacles, color='r', linestyle='-')\n",
    "plt.xlabel('service event')\n",
    "plt.ylabel('total collision')\n",
    "plt.title('total collision during play'); "
   ]
  },
  {
   "cell_type": "code",
   "execution_count": 43,
   "id": "0e231279",
   "metadata": {},
   "outputs": [
    {
     "data": {
      "text/html": [
       "<div>\n",
       "<style scoped>\n",
       "    .dataframe tbody tr th:only-of-type {\n",
       "        vertical-align: middle;\n",
       "    }\n",
       "\n",
       "    .dataframe tbody tr th {\n",
       "        vertical-align: top;\n",
       "    }\n",
       "\n",
       "    .dataframe thead th {\n",
       "        text-align: right;\n",
       "    }\n",
       "</style>\n",
       "<table border=\"1\" class=\"dataframe\">\n",
       "  <thead>\n",
       "    <tr style=\"text-align: right;\">\n",
       "      <th></th>\n",
       "      <th>t</th>\n",
       "      <th>event_type</th>\n",
       "      <th>obstacles_outcome</th>\n",
       "      <th>time_msec</th>\n",
       "      <th>rawdatax</th>\n",
       "      <th>rawdatay</th>\n",
       "      <th>rawdatatorqueleft</th>\n",
       "      <th>rawdatatorqueright</th>\n",
       "      <th>sequence</th>\n",
       "    </tr>\n",
       "  </thead>\n",
       "  <tbody>\n",
       "  </tbody>\n",
       "</table>\n",
       "</div>"
      ],
      "text/plain": [
       "Empty DataFrame\n",
       "Columns: [t, event_type, obstacles_outcome, time_msec, rawdatax, rawdatay, rawdatatorqueleft, rawdatatorqueright, sequence]\n",
       "Index: []"
      ]
     },
     "execution_count": 43,
     "metadata": {},
     "output_type": "execute_result"
    }
   ],
   "source": [
    "# quality check\n",
    "collision[collision['sequence']==48]"
   ]
  },
  {
   "cell_type": "markdown",
   "id": "041a555f",
   "metadata": {},
   "source": [
    "##### total collision (rolling)"
   ]
  },
  {
   "cell_type": "code",
   "execution_count": 44,
   "id": "57e78cda",
   "metadata": {},
   "outputs": [],
   "source": [
    "## define window\n",
    "# window = int(input(\"window: \"))"
   ]
  },
  {
   "cell_type": "code",
   "execution_count": 45,
   "id": "15ea093c",
   "metadata": {},
   "outputs": [],
   "source": [
    "total_coll['total_coll7']=total_coll['total_coll'].rolling(window).mean()"
   ]
  },
  {
   "cell_type": "code",
   "execution_count": 46,
   "id": "0010da35",
   "metadata": {},
   "outputs": [
    {
     "data": {
      "image/png": "[encoded data removed]",
      "text/plain": [
       "<Figure size 432x288 with 1 Axes>"
      ]
     },
     "metadata": {
      "needs_background": "light"
     },
     "output_type": "display_data"
    }
   ],
   "source": [
    "# plot moving average\n",
    "plt.plot('total_coll7',data=total_coll);\n",
    "plt.xlabel('service event')\n",
    "plt.ylabel('collision rate')\n",
    "plt.title(f'moving average ({window} svc events) of total collision during play'); "
   ]
  },
  {
   "cell_type": "markdown",
   "id": "39d5126e",
   "metadata": {},
   "source": [
    "### export data to csv"
   ]
  },
  {
   "cell_type": "code",
   "execution_count": 47,
   "id": "c9a24a63",
   "metadata": {},
   "outputs": [],
   "source": [
    "# mean_speed\n",
    "# error_rate\n",
    "# collision_rate\n",
    "# mean_speed(rolling)\n",
    "# error_rate(rolling)\n",
    "# collision_rate(rolling)\n",
    "\n",
    "with open('result_' + patient_nr + '.csv', mode='a') as file_:\n",
    "    file_.write(\"{},{},{}\".format(mean_speed, error_rate, collision_rate))\n",
    "    file_.write(\"\\n\")  "
   ]
  }
 ],
 "metadata": {
  "kernelspec": {
   "display_name": "Python 3 (ipykernel)",
   "language": "python",
   "name": "python3"
  },
  "language_info": {
   "codemirror_mode": {
    "name": "ipython",
    "version": 3
   },
   "file_extension": ".py",
   "mimetype": "text/x-python",
   "name": "python",
   "nbconvert_exporter": "python",
   "pygments_lexer": "ipython3",
   "version": "3.8.8"
  },
  "toc": {
   "base_numbering": 1,
   "nav_menu": {},
   "number_sections": true,
   "sideBar": true,
   "skip_h1_title": false,
   "title_cell": "Table of Contents",
   "title_sidebar": "Contents",
   "toc_cell": false,
   "toc_position": {
    "height": "calc(100% - 180px)",
    "left": "10px",
    "top": "150px",
    "width": "304px"
   },
   "toc_section_display": true,
   "toc_window_display": true
  }
 },
 "nbformat": 4,
 "nbformat_minor": 5
}
