{
 "cells": [
  {
   "cell_type": "markdown",
   "id": "25aceb8b",
   "metadata": {},
   "source": [
    "## GeCog data analysis"
   ]
  },
  {
   "cell_type": "markdown",
   "id": "b17fc493",
   "metadata": {},
   "source": [
    "### Background\n",
    "\n",
    "Compare performance of final assessment trial with baseline. "
   ]
  },
  {
   "cell_type": "markdown",
   "id": "526e5523",
   "metadata": {},
   "source": [
    "*import libraries*"
   ]
  },
  {
   "cell_type": "code",
   "execution_count": 1,
   "id": "7f1d3256",
   "metadata": {},
   "outputs": [],
   "source": [
    "import os\n",
    "import glob\n",
    "import datetime \n",
    "\n",
    "import pandas as pd\n",
    "import numpy as np\n",
    "import seaborn as sns\n",
    "from scipy import stats\n",
    "import matplotlib.pyplot as plt\n",
    "import matplotlib.ticker as mticker\n",
    "%matplotlib inline\n",
    "\n",
    "import chime\n",
    "%load_ext chime"
   ]
  },
  {
   "cell_type": "code",
   "execution_count": 2,
   "id": "dab1f0fb",
   "metadata": {},
   "outputs": [],
   "source": [
    "import warnings\n",
    "warnings.filterwarnings(\"ignore\")"
   ]
  },
  {
   "cell_type": "code",
   "execution_count": 3,
   "id": "0d47fd7f",
   "metadata": {},
   "outputs": [],
   "source": [
    "path = path = './result_' "
   ]
  },
  {
   "cell_type": "code",
   "execution_count": 4,
   "id": "21a19b51",
   "metadata": {},
   "outputs": [],
   "source": [
    "# loop dfs from *.csv\n",
    "list_of_trials = []\n",
    "list_of_trials  = [pd.read_csv(filename, sep='\\t+', header=None) for filename in glob.glob(path + '*.csv')]\n",
    "if not list_of_trials :\n",
    "    chime.error()\n",
    "    print('list_of_trials  is empty')"
   ]
  },
  {
   "cell_type": "code",
   "execution_count": 5,
   "id": "c0146bbf",
   "metadata": {},
   "outputs": [],
   "source": [
    "for df in list_of_trials:\n",
    "    df.columns=['mean_speed', 'max_speed', 'stop_speed', 'error_rate', 'collision_rate']"
   ]
  },
  {
   "cell_type": "code",
   "execution_count": 6,
   "id": "4e76a540",
   "metadata": {},
   "outputs": [],
   "source": [
    "results_path = os.path.join('data', 'results')\n",
    "if not os.path.exists(results_path):\n",
    "    os.makedirs(results_path)"
   ]
  },
  {
   "cell_type": "markdown",
   "id": "a8c7e10c",
   "metadata": {},
   "source": [
    "### extract assess trials only"
   ]
  },
  {
   "cell_type": "code",
   "execution_count": 7,
   "id": "ab7e986f",
   "metadata": {},
   "outputs": [
    {
     "data": {
      "text/html": [
       "<div>\n",
       "<style scoped>\n",
       "    .dataframe tbody tr th:only-of-type {\n",
       "        vertical-align: middle;\n",
       "    }\n",
       "\n",
       "    .dataframe tbody tr th {\n",
       "        vertical-align: top;\n",
       "    }\n",
       "\n",
       "    .dataframe thead th {\n",
       "        text-align: right;\n",
       "    }\n",
       "</style>\n",
       "<table border=\"1\" class=\"dataframe\">\n",
       "  <thead>\n",
       "    <tr style=\"text-align: right;\">\n",
       "      <th></th>\n",
       "      <th>mean_speed</th>\n",
       "      <th>max_speed</th>\n",
       "      <th>stop_speed</th>\n",
       "      <th>error_rate</th>\n",
       "      <th>collision_rate</th>\n",
       "    </tr>\n",
       "  </thead>\n",
       "  <tbody>\n",
       "    <tr>\n",
       "      <th>0</th>\n",
       "      <td>0.005694</td>\n",
       "      <td>0.018894</td>\n",
       "      <td>0.301338</td>\n",
       "      <td>0.197674</td>\n",
       "      <td>1.988372</td>\n",
       "    </tr>\n",
       "    <tr>\n",
       "      <th>1</th>\n",
       "      <td>0.010347</td>\n",
       "      <td>0.029697</td>\n",
       "      <td>0.348409</td>\n",
       "      <td>0.000000</td>\n",
       "      <td>1.590278</td>\n",
       "    </tr>\n",
       "    <tr>\n",
       "      <th>2</th>\n",
       "      <td>0.008459</td>\n",
       "      <td>0.040777</td>\n",
       "      <td>0.207437</td>\n",
       "      <td>0.013793</td>\n",
       "      <td>1.579310</td>\n",
       "    </tr>\n",
       "    <tr>\n",
       "      <th>3</th>\n",
       "      <td>0.008165</td>\n",
       "      <td>0.017606</td>\n",
       "      <td>0.463781</td>\n",
       "      <td>0.000000</td>\n",
       "      <td>1.619048</td>\n",
       "    </tr>\n",
       "    <tr>\n",
       "      <th>4</th>\n",
       "      <td>0.007345</td>\n",
       "      <td>0.021190</td>\n",
       "      <td>0.346599</td>\n",
       "      <td>0.000000</td>\n",
       "      <td>2.093750</td>\n",
       "    </tr>\n",
       "    <tr>\n",
       "      <th>5</th>\n",
       "      <td>0.010713</td>\n",
       "      <td>0.024880</td>\n",
       "      <td>0.430610</td>\n",
       "      <td>0.007042</td>\n",
       "      <td>1.422535</td>\n",
       "    </tr>\n",
       "    <tr>\n",
       "      <th>6</th>\n",
       "      <td>0.010841</td>\n",
       "      <td>0.028216</td>\n",
       "      <td>0.384215</td>\n",
       "      <td>0.000000</td>\n",
       "      <td>1.328671</td>\n",
       "    </tr>\n",
       "    <tr>\n",
       "      <th>7</th>\n",
       "      <td>0.009560</td>\n",
       "      <td>0.031930</td>\n",
       "      <td>0.299416</td>\n",
       "      <td>0.000000</td>\n",
       "      <td>1.538462</td>\n",
       "    </tr>\n",
       "  </tbody>\n",
       "</table>\n",
       "</div>"
      ],
      "text/plain": [
       "   mean_speed  max_speed  stop_speed  error_rate  collision_rate\n",
       "0    0.005694   0.018894    0.301338    0.197674        1.988372\n",
       "1    0.010347   0.029697    0.348409    0.000000        1.590278\n",
       "2    0.008459   0.040777    0.207437    0.013793        1.579310\n",
       "3    0.008165   0.017606    0.463781    0.000000        1.619048\n",
       "4    0.007345   0.021190    0.346599    0.000000        2.093750\n",
       "5    0.010713   0.024880    0.430610    0.007042        1.422535\n",
       "6    0.010841   0.028216    0.384215    0.000000        1.328671\n",
       "7    0.009560   0.031930    0.299416    0.000000        1.538462"
      ]
     },
     "execution_count": 7,
     "metadata": {},
     "output_type": "execute_result"
    }
   ],
   "source": [
    "list_of_trials[0]"
   ]
  },
  {
   "cell_type": "code",
   "execution_count": 8,
   "id": "45eacfa4",
   "metadata": {},
   "outputs": [],
   "source": [
    "patient_id = []\n",
    "assess_1 = []\n",
    "#first 2 trials are assessment trials\n",
    "for nr, df in enumerate(list_of_trials):\n",
    "    patient_id.append(nr+1)\n",
    "    assess_1.append(df.iloc[0])\n",
    "    "
   ]
  },
  {
   "cell_type": "code",
   "execution_count": 9,
   "id": "6e5bbd7d",
   "metadata": {},
   "outputs": [
    {
     "data": {
      "text/html": [
       "<div>\n",
       "<style scoped>\n",
       "    .dataframe tbody tr th:only-of-type {\n",
       "        vertical-align: middle;\n",
       "    }\n",
       "\n",
       "    .dataframe tbody tr th {\n",
       "        vertical-align: top;\n",
       "    }\n",
       "\n",
       "    .dataframe thead th {\n",
       "        text-align: right;\n",
       "    }\n",
       "</style>\n",
       "<table border=\"1\" class=\"dataframe\">\n",
       "  <thead>\n",
       "    <tr style=\"text-align: right;\">\n",
       "      <th></th>\n",
       "      <th>mean_speed</th>\n",
       "      <th>max_speed</th>\n",
       "      <th>stop_speed</th>\n",
       "      <th>error_rate</th>\n",
       "      <th>collision_rate</th>\n",
       "    </tr>\n",
       "  </thead>\n",
       "  <tbody>\n",
       "    <tr>\n",
       "      <th>1</th>\n",
       "      <td>0.005694</td>\n",
       "      <td>0.018894</td>\n",
       "      <td>0.301338</td>\n",
       "      <td>0.197674</td>\n",
       "      <td>1.988372</td>\n",
       "    </tr>\n",
       "    <tr>\n",
       "      <th>2</th>\n",
       "      <td>0.007375</td>\n",
       "      <td>0.022409</td>\n",
       "      <td>0.329125</td>\n",
       "      <td>0.060241</td>\n",
       "      <td>1.277108</td>\n",
       "    </tr>\n",
       "    <tr>\n",
       "      <th>3</th>\n",
       "      <td>0.012192</td>\n",
       "      <td>0.095094</td>\n",
       "      <td>0.128211</td>\n",
       "      <td>0.278912</td>\n",
       "      <td>2.353741</td>\n",
       "    </tr>\n",
       "    <tr>\n",
       "      <th>4</th>\n",
       "      <td>0.007282</td>\n",
       "      <td>0.093413</td>\n",
       "      <td>0.077952</td>\n",
       "      <td>0.057471</td>\n",
       "      <td>1.954023</td>\n",
       "    </tr>\n",
       "    <tr>\n",
       "      <th>5</th>\n",
       "      <td>0.005563</td>\n",
       "      <td>0.023040</td>\n",
       "      <td>0.241450</td>\n",
       "      <td>0.404255</td>\n",
       "      <td>2.457447</td>\n",
       "    </tr>\n",
       "    <tr>\n",
       "      <th>6</th>\n",
       "      <td>0.010085</td>\n",
       "      <td>0.040482</td>\n",
       "      <td>0.249126</td>\n",
       "      <td>0.127660</td>\n",
       "      <td>2.393617</td>\n",
       "    </tr>\n",
       "  </tbody>\n",
       "</table>\n",
       "</div>"
      ],
      "text/plain": [
       "   mean_speed  max_speed  stop_speed  error_rate  collision_rate\n",
       "1    0.005694   0.018894    0.301338    0.197674        1.988372\n",
       "2    0.007375   0.022409    0.329125    0.060241        1.277108\n",
       "3    0.012192   0.095094    0.128211    0.278912        2.353741\n",
       "4    0.007282   0.093413    0.077952    0.057471        1.954023\n",
       "5    0.005563   0.023040    0.241450    0.404255        2.457447\n",
       "6    0.010085   0.040482    0.249126    0.127660        2.393617"
      ]
     },
     "execution_count": 9,
     "metadata": {},
     "output_type": "execute_result"
    }
   ],
   "source": [
    "assess_1 = pd.DataFrame(assess_1).reset_index().drop(columns=['index'])\n",
    "assess_1.index += 1\n",
    "assess_1"
   ]
  },
  {
   "cell_type": "code",
   "execution_count": 10,
   "id": "99fcae33",
   "metadata": {},
   "outputs": [
    {
     "name": "stdout",
     "output_type": "stream",
     "text": [
      "P11 has no assess_2 trial\n"
     ]
    }
   ],
   "source": [
    "assess_2 = []\n",
    "#first 2 trials are assessment trials\n",
    "for nr, df in enumerate(list_of_trials):\n",
    "    if nr == 4:\n",
    "        chime.error()\n",
    "        print('P11 has no assess_2 trial')\n",
    "        assess_2.append(np.zeros(3))\n",
    "    else:\n",
    "        assess_2.append(df.iloc[1])"
   ]
  },
  {
   "cell_type": "code",
   "execution_count": 11,
   "id": "f93adf75",
   "metadata": {},
   "outputs": [
    {
     "data": {
      "text/html": [
       "<div>\n",
       "<style scoped>\n",
       "    .dataframe tbody tr th:only-of-type {\n",
       "        vertical-align: middle;\n",
       "    }\n",
       "\n",
       "    .dataframe tbody tr th {\n",
       "        vertical-align: top;\n",
       "    }\n",
       "\n",
       "    .dataframe thead th {\n",
       "        text-align: right;\n",
       "    }\n",
       "</style>\n",
       "<table border=\"1\" class=\"dataframe\">\n",
       "  <thead>\n",
       "    <tr style=\"text-align: right;\">\n",
       "      <th></th>\n",
       "      <th>mean_speed</th>\n",
       "      <th>max_speed</th>\n",
       "      <th>stop_speed</th>\n",
       "      <th>error_rate</th>\n",
       "      <th>collision_rate</th>\n",
       "    </tr>\n",
       "  </thead>\n",
       "  <tbody>\n",
       "    <tr>\n",
       "      <th>1</th>\n",
       "      <td>0.010347</td>\n",
       "      <td>0.029697</td>\n",
       "      <td>0.348409</td>\n",
       "      <td>0.000000</td>\n",
       "      <td>1.590278</td>\n",
       "    </tr>\n",
       "    <tr>\n",
       "      <th>2</th>\n",
       "      <td>0.011761</td>\n",
       "      <td>0.032878</td>\n",
       "      <td>0.357724</td>\n",
       "      <td>0.040541</td>\n",
       "      <td>0.500000</td>\n",
       "    </tr>\n",
       "    <tr>\n",
       "      <th>3</th>\n",
       "      <td>0.017888</td>\n",
       "      <td>0.271950</td>\n",
       "      <td>0.065777</td>\n",
       "      <td>0.513699</td>\n",
       "      <td>2.335616</td>\n",
       "    </tr>\n",
       "    <tr>\n",
       "      <th>4</th>\n",
       "      <td>0.019720</td>\n",
       "      <td>0.154776</td>\n",
       "      <td>0.127407</td>\n",
       "      <td>0.137500</td>\n",
       "      <td>1.175000</td>\n",
       "    </tr>\n",
       "    <tr>\n",
       "      <th>5</th>\n",
       "      <td>NaN</td>\n",
       "      <td>NaN</td>\n",
       "      <td>NaN</td>\n",
       "      <td>NaN</td>\n",
       "      <td>NaN</td>\n",
       "    </tr>\n",
       "    <tr>\n",
       "      <th>6</th>\n",
       "      <td>0.016273</td>\n",
       "      <td>0.247216</td>\n",
       "      <td>0.065826</td>\n",
       "      <td>0.027397</td>\n",
       "      <td>0.315068</td>\n",
       "    </tr>\n",
       "  </tbody>\n",
       "</table>\n",
       "</div>"
      ],
      "text/plain": [
       "   mean_speed  max_speed  stop_speed  error_rate  collision_rate\n",
       "1    0.010347   0.029697    0.348409    0.000000        1.590278\n",
       "2    0.011761   0.032878    0.357724    0.040541        0.500000\n",
       "3    0.017888   0.271950    0.065777    0.513699        2.335616\n",
       "4    0.019720   0.154776    0.127407    0.137500        1.175000\n",
       "5         NaN        NaN         NaN         NaN             NaN\n",
       "6    0.016273   0.247216    0.065826    0.027397        0.315068"
      ]
     },
     "execution_count": 11,
     "metadata": {},
     "output_type": "execute_result"
    }
   ],
   "source": [
    "assess_2 = pd.DataFrame(assess_2).reset_index().drop(columns=['index'])\n",
    "assess_2.index += 1\n",
    "assess_2 "
   ]
  },
  {
   "cell_type": "markdown",
   "id": "811ffcb7",
   "metadata": {},
   "source": [
    "### plot assessment trials only"
   ]
  },
  {
   "cell_type": "code",
   "execution_count": 12,
   "id": "a2a117c3",
   "metadata": {},
   "outputs": [
    {
     "data": {
      "text/html": [
       "<div>\n",
       "<style scoped>\n",
       "    .dataframe tbody tr th:only-of-type {\n",
       "        vertical-align: middle;\n",
       "    }\n",
       "\n",
       "    .dataframe tbody tr th {\n",
       "        vertical-align: top;\n",
       "    }\n",
       "\n",
       "    .dataframe thead th {\n",
       "        text-align: right;\n",
       "    }\n",
       "</style>\n",
       "<table border=\"1\" class=\"dataframe\">\n",
       "  <thead>\n",
       "    <tr style=\"text-align: right;\">\n",
       "      <th></th>\n",
       "      <th>mean_speed_x</th>\n",
       "      <th>mean_speed_y</th>\n",
       "    </tr>\n",
       "  </thead>\n",
       "  <tbody>\n",
       "    <tr>\n",
       "      <th>1</th>\n",
       "      <td>0.005694</td>\n",
       "      <td>0.010347</td>\n",
       "    </tr>\n",
       "    <tr>\n",
       "      <th>2</th>\n",
       "      <td>0.007375</td>\n",
       "      <td>0.011761</td>\n",
       "    </tr>\n",
       "    <tr>\n",
       "      <th>3</th>\n",
       "      <td>0.012192</td>\n",
       "      <td>0.017888</td>\n",
       "    </tr>\n",
       "    <tr>\n",
       "      <th>4</th>\n",
       "      <td>0.007282</td>\n",
       "      <td>0.019720</td>\n",
       "    </tr>\n",
       "    <tr>\n",
       "      <th>5</th>\n",
       "      <td>0.005563</td>\n",
       "      <td>NaN</td>\n",
       "    </tr>\n",
       "    <tr>\n",
       "      <th>6</th>\n",
       "      <td>0.010085</td>\n",
       "      <td>0.016273</td>\n",
       "    </tr>\n",
       "  </tbody>\n",
       "</table>\n",
       "</div>"
      ],
      "text/plain": [
       "   mean_speed_x  mean_speed_y\n",
       "1      0.005694      0.010347\n",
       "2      0.007375      0.011761\n",
       "3      0.012192      0.017888\n",
       "4      0.007282      0.019720\n",
       "5      0.005563           NaN\n",
       "6      0.010085      0.016273"
      ]
     },
     "execution_count": 12,
     "metadata": {},
     "output_type": "execute_result"
    }
   ],
   "source": [
    "df_speed = pd.merge(assess_1['mean_speed'], assess_2['mean_speed'],left_index=True,right_index=True)\n",
    "df_speed"
   ]
  },
  {
   "cell_type": "code",
   "execution_count": 13,
   "id": "3e0764ee",
   "metadata": {},
   "outputs": [
    {
     "data": {
      "text/html": [
       "<div>\n",
       "<style scoped>\n",
       "    .dataframe tbody tr th:only-of-type {\n",
       "        vertical-align: middle;\n",
       "    }\n",
       "\n",
       "    .dataframe tbody tr th {\n",
       "        vertical-align: top;\n",
       "    }\n",
       "\n",
       "    .dataframe thead th {\n",
       "        text-align: right;\n",
       "    }\n",
       "</style>\n",
       "<table border=\"1\" class=\"dataframe\">\n",
       "  <thead>\n",
       "    <tr style=\"text-align: right;\">\n",
       "      <th></th>\n",
       "      <th>stop_speed_x</th>\n",
       "      <th>stop_speed_y</th>\n",
       "    </tr>\n",
       "  </thead>\n",
       "  <tbody>\n",
       "    <tr>\n",
       "      <th>1</th>\n",
       "      <td>0.301338</td>\n",
       "      <td>0.348409</td>\n",
       "    </tr>\n",
       "    <tr>\n",
       "      <th>2</th>\n",
       "      <td>0.329125</td>\n",
       "      <td>0.357724</td>\n",
       "    </tr>\n",
       "    <tr>\n",
       "      <th>3</th>\n",
       "      <td>0.128211</td>\n",
       "      <td>0.065777</td>\n",
       "    </tr>\n",
       "    <tr>\n",
       "      <th>4</th>\n",
       "      <td>0.077952</td>\n",
       "      <td>0.127407</td>\n",
       "    </tr>\n",
       "    <tr>\n",
       "      <th>5</th>\n",
       "      <td>0.241450</td>\n",
       "      <td>NaN</td>\n",
       "    </tr>\n",
       "    <tr>\n",
       "      <th>6</th>\n",
       "      <td>0.249126</td>\n",
       "      <td>0.065826</td>\n",
       "    </tr>\n",
       "  </tbody>\n",
       "</table>\n",
       "</div>"
      ],
      "text/plain": [
       "   stop_speed_x  stop_speed_y\n",
       "1      0.301338      0.348409\n",
       "2      0.329125      0.357724\n",
       "3      0.128211      0.065777\n",
       "4      0.077952      0.127407\n",
       "5      0.241450           NaN\n",
       "6      0.249126      0.065826"
      ]
     },
     "execution_count": 13,
     "metadata": {},
     "output_type": "execute_result"
    }
   ],
   "source": [
    "df_stopspeed = pd.merge(assess_1['stop_speed'], assess_2['stop_speed'],left_index=True,right_index=True)\n",
    "df_stopspeed"
   ]
  },
  {
   "cell_type": "code",
   "execution_count": 14,
   "id": "ead97367",
   "metadata": {},
   "outputs": [
    {
     "data": {
      "text/html": [
       "<div>\n",
       "<style scoped>\n",
       "    .dataframe tbody tr th:only-of-type {\n",
       "        vertical-align: middle;\n",
       "    }\n",
       "\n",
       "    .dataframe tbody tr th {\n",
       "        vertical-align: top;\n",
       "    }\n",
       "\n",
       "    .dataframe thead th {\n",
       "        text-align: right;\n",
       "    }\n",
       "</style>\n",
       "<table border=\"1\" class=\"dataframe\">\n",
       "  <thead>\n",
       "    <tr style=\"text-align: right;\">\n",
       "      <th></th>\n",
       "      <th>error_rate_x</th>\n",
       "      <th>error_rate_y</th>\n",
       "    </tr>\n",
       "  </thead>\n",
       "  <tbody>\n",
       "    <tr>\n",
       "      <th>1</th>\n",
       "      <td>0.197674</td>\n",
       "      <td>0.000000</td>\n",
       "    </tr>\n",
       "    <tr>\n",
       "      <th>2</th>\n",
       "      <td>0.060241</td>\n",
       "      <td>0.040541</td>\n",
       "    </tr>\n",
       "    <tr>\n",
       "      <th>3</th>\n",
       "      <td>0.278912</td>\n",
       "      <td>0.513699</td>\n",
       "    </tr>\n",
       "    <tr>\n",
       "      <th>4</th>\n",
       "      <td>0.057471</td>\n",
       "      <td>0.137500</td>\n",
       "    </tr>\n",
       "    <tr>\n",
       "      <th>5</th>\n",
       "      <td>0.404255</td>\n",
       "      <td>NaN</td>\n",
       "    </tr>\n",
       "    <tr>\n",
       "      <th>6</th>\n",
       "      <td>0.127660</td>\n",
       "      <td>0.027397</td>\n",
       "    </tr>\n",
       "  </tbody>\n",
       "</table>\n",
       "</div>"
      ],
      "text/plain": [
       "   error_rate_x  error_rate_y\n",
       "1      0.197674      0.000000\n",
       "2      0.060241      0.040541\n",
       "3      0.278912      0.513699\n",
       "4      0.057471      0.137500\n",
       "5      0.404255           NaN\n",
       "6      0.127660      0.027397"
      ]
     },
     "execution_count": 14,
     "metadata": {},
     "output_type": "execute_result"
    }
   ],
   "source": [
    "df_error = pd.merge(assess_1['error_rate'], assess_2['error_rate'],left_index=True,right_index=True)\n",
    "df_error"
   ]
  },
  {
   "cell_type": "code",
   "execution_count": 15,
   "id": "69932497",
   "metadata": {},
   "outputs": [
    {
     "data": {
      "text/html": [
       "<div>\n",
       "<style scoped>\n",
       "    .dataframe tbody tr th:only-of-type {\n",
       "        vertical-align: middle;\n",
       "    }\n",
       "\n",
       "    .dataframe tbody tr th {\n",
       "        vertical-align: top;\n",
       "    }\n",
       "\n",
       "    .dataframe thead th {\n",
       "        text-align: right;\n",
       "    }\n",
       "</style>\n",
       "<table border=\"1\" class=\"dataframe\">\n",
       "  <thead>\n",
       "    <tr style=\"text-align: right;\">\n",
       "      <th></th>\n",
       "      <th>collision_rate_x</th>\n",
       "      <th>collision_rate_y</th>\n",
       "    </tr>\n",
       "  </thead>\n",
       "  <tbody>\n",
       "    <tr>\n",
       "      <th>1</th>\n",
       "      <td>1.988372</td>\n",
       "      <td>1.590278</td>\n",
       "    </tr>\n",
       "    <tr>\n",
       "      <th>2</th>\n",
       "      <td>1.277108</td>\n",
       "      <td>0.500000</td>\n",
       "    </tr>\n",
       "    <tr>\n",
       "      <th>3</th>\n",
       "      <td>2.353741</td>\n",
       "      <td>2.335616</td>\n",
       "    </tr>\n",
       "    <tr>\n",
       "      <th>4</th>\n",
       "      <td>1.954023</td>\n",
       "      <td>1.175000</td>\n",
       "    </tr>\n",
       "    <tr>\n",
       "      <th>5</th>\n",
       "      <td>2.457447</td>\n",
       "      <td>NaN</td>\n",
       "    </tr>\n",
       "    <tr>\n",
       "      <th>6</th>\n",
       "      <td>2.393617</td>\n",
       "      <td>0.315068</td>\n",
       "    </tr>\n",
       "  </tbody>\n",
       "</table>\n",
       "</div>"
      ],
      "text/plain": [
       "   collision_rate_x  collision_rate_y\n",
       "1          1.988372          1.590278\n",
       "2          1.277108          0.500000\n",
       "3          2.353741          2.335616\n",
       "4          1.954023          1.175000\n",
       "5          2.457447               NaN\n",
       "6          2.393617          0.315068"
      ]
     },
     "execution_count": 15,
     "metadata": {},
     "output_type": "execute_result"
    }
   ],
   "source": [
    "df_collision = pd.merge(assess_1['collision_rate'], assess_2['collision_rate'],left_index=True,right_index=True)\n",
    "df_collision"
   ]
  },
  {
   "cell_type": "markdown",
   "id": "10f276ef",
   "metadata": {},
   "source": [
    "#### mean speed"
   ]
  },
  {
   "cell_type": "code",
   "execution_count": 16,
   "id": "34cc1781",
   "metadata": {},
   "outputs": [
    {
     "data": {
      "text/plain": [
       "WilcoxonResult(statistic=0.0, pvalue=0.0625)"
      ]
     },
     "execution_count": 16,
     "metadata": {},
     "output_type": "execute_result"
    }
   ],
   "source": [
    "stats.wilcoxon(assess_1['mean_speed'], assess_2['mean_speed'], nan_policy='omit')"
   ]
  },
  {
   "cell_type": "code",
   "execution_count": 17,
   "id": "ab59ee2e",
   "metadata": {},
   "outputs": [],
   "source": [
    "# prepare list for plots\n",
    "assessment = ['pre-test', 'post-test']\n",
    "x_pos = np.arange(len(assessment))\n",
    "mean_speed = [df_speed['mean_speed_x'].mean(), df_speed['mean_speed_y'].mean()]\n",
    "error_speed = [df_speed['mean_speed_x'].std(), df_speed['mean_speed_y'].mean()]\n"
   ]
  },
  {
   "cell_type": "code",
   "execution_count": 18,
   "id": "4e69e9b5",
   "metadata": {},
   "outputs": [
    {
     "data": {
      "image/png": "[encoded data removed]",
      "text/plain": [
       "<Figure size 432x288 with 1 Axes>"
      ]
     },
     "metadata": {
      "needs_background": "light"
     },
     "output_type": "display_data"
    }
   ],
   "source": [
    "fig, ax = plt.subplots()\n",
    "ax.bar(x_pos, mean_speed, yerr=error_speed, align='center', alpha=0.5, ecolor='black', capsize=10)\n",
    "ax.set_ylabel('mean speed/ m/msec')\n",
    "ax.set_xticks(x_pos)\n",
    "ax.set_xticklabels(assessment)\n",
    "ax.set_title('mean speed in errorful group ')\n",
    "plt.savefig(results_path + '\\\\assess_compare_speed.png',bbox_inches = \"tight\")\n",
    "plt.show();"
   ]
  },
  {
   "cell_type": "markdown",
   "id": "3f3ceba4",
   "metadata": {},
   "source": [
    "#### ratio of mean speed / max speed"
   ]
  },
  {
   "cell_type": "code",
   "execution_count": 19,
   "id": "212d7bdf",
   "metadata": {},
   "outputs": [
    {
     "data": {
      "text/plain": [
       "WilcoxonResult(statistic=6.0, pvalue=0.8125)"
      ]
     },
     "execution_count": 19,
     "metadata": {},
     "output_type": "execute_result"
    }
   ],
   "source": [
    "stats.wilcoxon(assess_1['stop_speed'], assess_2['stop_speed'], nan_policy='omit')"
   ]
  },
  {
   "cell_type": "code",
   "execution_count": 20,
   "id": "b17423cd",
   "metadata": {},
   "outputs": [],
   "source": [
    "# prepare list for plots\n",
    "assessment = ['pre-test', 'post-test']\n",
    "x_pos = np.arange(len(assessment))\n",
    "mean_stopspeed = [df_stopspeed['stop_speed_x'].mean(), df_stopspeed['stop_speed_y'].mean()]\n",
    "error_stopspeed = [df_stopspeed['stop_speed_x'].std(), df_stopspeed['stop_speed_y'].mean()]\n"
   ]
  },
  {
   "cell_type": "code",
   "execution_count": 21,
   "id": "be1f5f12",
   "metadata": {},
   "outputs": [
    {
     "data": {
      "image/png": "[encoded data removed]",
      "text/plain": [
       "<Figure size 432x288 with 1 Axes>"
      ]
     },
     "metadata": {
      "needs_background": "light"
     },
     "output_type": "display_data"
    }
   ],
   "source": [
    "fig, ax = plt.subplots()\n",
    "ax.bar(x_pos, mean_stopspeed, yerr=error_stopspeed, align='center', alpha=0.5, ecolor='black', capsize=10)\n",
    "ax.set_ylabel('mean speed/ m/msec')\n",
    "ax.set_xticks(x_pos)\n",
    "ax.set_xticklabels(assessment)\n",
    "ax.set_title('ratio of mean speed over max speed in errorful group ')\n",
    "plt.savefig(results_path + '\\\\assess_compare_stopspeed.png',bbox_inches = \"tight\")\n",
    "plt.show();"
   ]
  },
  {
   "cell_type": "markdown",
   "id": "5dc468f0",
   "metadata": {},
   "source": [
    "#### error_rate"
   ]
  },
  {
   "cell_type": "code",
   "execution_count": 22,
   "id": "74d61b1b",
   "metadata": {},
   "outputs": [
    {
     "data": {
      "text/plain": [
       "WilcoxonResult(statistic=7.0, pvalue=1.0)"
      ]
     },
     "execution_count": 22,
     "metadata": {},
     "output_type": "execute_result"
    }
   ],
   "source": [
    "stats.wilcoxon(assess_1['error_rate'], assess_2['error_rate'], nan_policy='omit')"
   ]
  },
  {
   "cell_type": "code",
   "execution_count": 23,
   "id": "a38c32fe",
   "metadata": {},
   "outputs": [],
   "source": [
    "# prepare list for plots\n",
    "assessment = ['pre-test', 'post-test']\n",
    "x_pos = np.arange(len(assessment))\n",
    "mean_error = [df_error['error_rate_x'].mean(), df_error['error_rate_y'].mean()]\n",
    "error_error = [df_error['error_rate_x'].std(), df_error['error_rate_y'].mean()]"
   ]
  },
  {
   "cell_type": "code",
   "execution_count": 24,
   "id": "5372ca31",
   "metadata": {},
   "outputs": [
    {
     "data": {
      "image/png": "[encoded data removed]",
      "text/plain": [
       "<Figure size 432x288 with 1 Axes>"
      ]
     },
     "metadata": {
      "needs_background": "light"
     },
     "output_type": "display_data"
    }
   ],
   "source": [
    "fig, ax = plt.subplots()\n",
    "ax.bar(x_pos, mean_error, yerr=error_error, align='center', alpha=0.5, ecolor='black', capsize=10)\n",
    "ax.set_ylabel('error rate')\n",
    "ax.set_xticks(x_pos)\n",
    "ax.set_xticklabels(assessment)\n",
    "ax.set_title('error rate in errorful group')\n",
    "plt.savefig(results_path + '\\\\assess_compare_error.png',bbox_inches = \"tight\")\n",
    "plt.show();"
   ]
  },
  {
   "cell_type": "markdown",
   "id": "67cefcd8",
   "metadata": {},
   "source": [
    "#### collision rate"
   ]
  },
  {
   "cell_type": "code",
   "execution_count": 25,
   "id": "d02f722a",
   "metadata": {},
   "outputs": [
    {
     "data": {
      "text/plain": [
       "WilcoxonResult(statistic=0.0, pvalue=0.0625)"
      ]
     },
     "execution_count": 25,
     "metadata": {},
     "output_type": "execute_result"
    }
   ],
   "source": [
    "stats.wilcoxon(assess_1['collision_rate'], assess_2['collision_rate'], nan_policy='omit')"
   ]
  },
  {
   "cell_type": "code",
   "execution_count": 26,
   "id": "57571e9e",
   "metadata": {},
   "outputs": [],
   "source": [
    "# prepare list for plots\n",
    "assessment = ['pre-test', 'post-test']\n",
    "x_pos = np.arange(len(assessment))\n",
    "mean_collision = [df_collision['collision_rate_x'].mean(), df_collision['collision_rate_y'].mean()]\n",
    "error_collision = [df_collision['collision_rate_x'].std(), df_collision['collision_rate_y'].mean()]\n"
   ]
  },
  {
   "cell_type": "code",
   "execution_count": 27,
   "id": "ebb9a588",
   "metadata": {},
   "outputs": [
    {
     "data": {
      "image/png": "[encoded data removed]",
      "text/plain": [
       "<Figure size 432x288 with 1 Axes>"
      ]
     },
     "metadata": {
      "needs_background": "light"
     },
     "output_type": "display_data"
    }
   ],
   "source": [
    "fig, ax = plt.subplots()\n",
    "ax.bar(x_pos, mean_collision, yerr=error_collision, align='center', alpha=0.5, ecolor='black', capsize=10)\n",
    "ax.set_ylabel('collision rate')\n",
    "ax.set_xticks(x_pos)\n",
    "ax.set_xticklabels(assessment)\n",
    "ax.set_title('collision rate in errorful group')\n",
    "plt.savefig(results_path + '\\\\assess_compare_collision.png',bbox_inches = \"tight\")\n",
    "plt.show();"
   ]
  },
  {
   "cell_type": "code",
   "execution_count": 28,
   "id": "f6c14768",
   "metadata": {},
   "outputs": [],
   "source": [
    "%chime"
   ]
  }
 ],
 "metadata": {
  "kernelspec": {
   "display_name": "Python 3 (ipykernel)",
   "language": "python",
   "name": "python3"
  },
  "language_info": {
   "codemirror_mode": {
    "name": "ipython",
    "version": 3
   },
   "file_extension": ".py",
   "mimetype": "text/x-python",
   "name": "python",
   "nbconvert_exporter": "python",
   "pygments_lexer": "ipython3",
   "version": "3.8.8"
  },
  "toc": {
   "base_numbering": 1,
   "nav_menu": {},
   "number_sections": true,
   "sideBar": true,
   "skip_h1_title": false,
   "title_cell": "Table of Contents",
   "title_sidebar": "Contents",
   "toc_cell": false,
   "toc_position": {
    "height": "calc(100% - 180px)",
    "left": "10px",
    "top": "150px",
    "width": "256px"
   },
   "toc_section_display": true,
   "toc_window_display": true
  }
 },
 "nbformat": 4,
 "nbformat_minor": 5
}
